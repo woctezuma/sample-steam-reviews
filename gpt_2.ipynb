{
  "nbformat": 4,
  "nbformat_minor": 0,
  "metadata": {
    "colab": {
      "name": "gpt-2.ipynb",
      "version": "0.3.2",
      "provenance": [],
      "collapsed_sections": []
    },
    "kernelspec": {
      "name": "python3",
      "display_name": "Python 3"
    },
    "accelerator": "GPU"
  },
  "cells": [
    {
      "cell_type": "markdown",
      "metadata": {
        "id": "5u6MjGQAuzWN",
        "colab_type": "text"
      },
      "source": [
        "# Sample Steam Reviews with GPT-2\n",
        "Code inspired from https://github.com/woctezuma/sample-steam-reviews"
      ]
    },
    {
      "cell_type": "markdown",
      "metadata": {
        "id": "s-0V2sxEsF_1",
        "colab_type": "text"
      },
      "source": [
        "\n",
        "**Caveat:** a more recent version is being developped at https://github.com/woctezuma/sample-steam-reviews-with-gpt-2\n",
        "\n",
        "As of May 20th, 2019, the main difference with the version shown here is the use of delimiters (`<|startoftext|>` and `<|endoftext|>`)."
      ]
    },
    {
      "cell_type": "markdown",
      "metadata": {
        "id": "2KjP9yVVveN1",
        "colab_type": "text"
      },
      "source": [
        "## Setting the GPT-2 model"
      ]
    },
    {
      "cell_type": "markdown",
      "metadata": {
        "id": "C8loaXLvwIYE",
        "colab_type": "text"
      },
      "source": [
        "Install the Python package\n",
        "\n",
        "Reference: https://github.com/minimaxir/gpt-2-simple"
      ]
    },
    {
      "cell_type": "code",
      "metadata": {
        "id": "_1ruwgwCuEHd",
        "colab_type": "code",
        "colab": {
          "base_uri": "https://localhost:8080/",
          "height": 348
        },
        "outputId": "0eff87d6-0b66-4119-f000-065cd5b9ca3d"
      },
      "source": [
        "!pip install gpt_2_simple"
      ],
      "execution_count": 1,
      "outputs": [
        {
          "output_type": "stream",
          "text": [
            "Collecting gpt_2_simple\n",
            "  Downloading https://files.pythonhosted.org/packages/bc/7d/1ea4c2a54ecdda5e57e45686e5cdf1ccc45809841ab50c89bc63638c5553/gpt_2_simple-0.5.tar.gz\n",
            "Requirement already satisfied: regex in /usr/local/lib/python3.6/dist-packages (from gpt_2_simple) (2018.1.10)\n",
            "Requirement already satisfied: requests in /usr/local/lib/python3.6/dist-packages (from gpt_2_simple) (2.21.0)\n",
            "Requirement already satisfied: tqdm in /usr/local/lib/python3.6/dist-packages (from gpt_2_simple) (4.28.1)\n",
            "Requirement already satisfied: numpy in /usr/local/lib/python3.6/dist-packages (from gpt_2_simple) (1.16.3)\n",
            "Collecting toposort (from gpt_2_simple)\n",
            "  Downloading https://files.pythonhosted.org/packages/e9/8a/321cd8ea5f4a22a06e3ba30ef31ec33bea11a3443eeb1d89807640ee6ed4/toposort-1.5-py2.py3-none-any.whl\n",
            "Requirement already satisfied: certifi>=2017.4.17 in /usr/local/lib/python3.6/dist-packages (from requests->gpt_2_simple) (2019.3.9)\n",
            "Requirement already satisfied: idna<2.9,>=2.5 in /usr/local/lib/python3.6/dist-packages (from requests->gpt_2_simple) (2.8)\n",
            "Requirement already satisfied: urllib3<1.25,>=1.21.1 in /usr/local/lib/python3.6/dist-packages (from requests->gpt_2_simple) (1.24.3)\n",
            "Requirement already satisfied: chardet<3.1.0,>=3.0.2 in /usr/local/lib/python3.6/dist-packages (from requests->gpt_2_simple) (3.0.4)\n",
            "Building wheels for collected packages: gpt-2-simple\n",
            "  Building wheel for gpt-2-simple (setup.py) ... \u001b[?25l\u001b[?25hdone\n",
            "  Stored in directory: /root/.cache/pip/wheels/0a/0d/50/166d4caecc4bb1820ce1b7d8e68ce12f9839c919a5c530cc60\n",
            "Successfully built gpt-2-simple\n",
            "Installing collected packages: toposort, gpt-2-simple\n",
            "Successfully installed gpt-2-simple-0.5 toposort-1.5\n"
          ],
          "name": "stdout"
        }
      ]
    },
    {
      "cell_type": "markdown",
      "metadata": {
        "id": "nTkq7wEQwEkZ",
        "colab_type": "text"
      },
      "source": [
        "Download the pre-trained model"
      ]
    },
    {
      "cell_type": "code",
      "metadata": {
        "id": "_pdkhHU6wd12",
        "colab_type": "code",
        "colab": {}
      },
      "source": [
        "import gpt_2_simple as gpt2\n",
        "from datetime import datetime\n",
        "from google.colab import files"
      ],
      "execution_count": 0,
      "outputs": []
    },
    {
      "cell_type": "markdown",
      "metadata": {
        "id": "0ggC2Mc75BnB",
        "colab_type": "text"
      },
      "source": [
        "## Downloading GPT-2"
      ]
    },
    {
      "cell_type": "markdown",
      "metadata": {
        "id": "6r3939YUqT9K",
        "colab_type": "text"
      },
      "source": [
        "Choose between `117M` and `345M` models"
      ]
    },
    {
      "cell_type": "code",
      "metadata": {
        "id": "NW4vZzlyqOnc",
        "colab_type": "code",
        "colab": {}
      },
      "source": [
        "# model_name = '117M'\n",
        "model_name = '345M'"
      ],
      "execution_count": 0,
      "outputs": []
    },
    {
      "cell_type": "markdown",
      "metadata": {
        "id": "4_hrBy2DqR5M",
        "colab_type": "text"
      },
      "source": [
        "Download"
      ]
    },
    {
      "cell_type": "code",
      "metadata": {
        "id": "_-If30nT4ZCb",
        "colab_type": "code",
        "colab": {
          "base_uri": "https://localhost:8080/",
          "height": 146
        },
        "outputId": "1e20eba6-b5fb-448e-93d2-844d1a95758d"
      },
      "source": [
        "gpt2.download_gpt2(model_name=model_name)"
      ],
      "execution_count": 4,
      "outputs": [
        {
          "output_type": "stream",
          "text": [
            "Fetching checkpoint: 1.00kit [00:00, 628kit/s]                                                      \n",
            "Fetching encoder.json: 1.04Mit [00:00, 54.7Mit/s]                                                   \n",
            "Fetching hparams.json: 1.00kit [00:00, 582kit/s]                                                    \n",
            "Fetching model.ckpt.data-00000-of-00001: 1.42Git [00:22, 63.4Mit/s]                                 \n",
            "Fetching model.ckpt.index: 11.0kit [00:00, 2.04Mit/s]                                               \n",
            "Fetching model.ckpt.meta: 927kit [00:00, 43.3Mit/s]                                                 \n",
            "Fetching vocab.bpe: 457kit [00:00, 38.2Mit/s]                                                       \n"
          ],
          "name": "stderr"
        }
      ]
    },
    {
      "cell_type": "markdown",
      "metadata": {
        "id": "EO62_p_Ovk8y",
        "colab_type": "text"
      },
      "source": [
        "## Uploading a Text File to be Trained to Colaboratory"
      ]
    },
    {
      "cell_type": "markdown",
      "metadata": {
        "id": "FsqlMjU5vtbU",
        "colab_type": "text"
      },
      "source": [
        "### Get a data snapshot from me"
      ]
    },
    {
      "cell_type": "code",
      "metadata": {
        "id": "IFJvTpQFuWa0",
        "colab_type": "code",
        "colab": {
          "base_uri": "https://localhost:8080/",
          "height": 72
        },
        "outputId": "f6065c15-cf58-4374-a1d6-8f70483719ca"
      },
      "source": [
        "!curl -O https://raw.githubusercontent.com/woctezuma/sample-steam-reviews/master/output/583950.txt"
      ],
      "execution_count": 5,
      "outputs": [
        {
          "output_type": "stream",
          "text": [
            "  % Total    % Received % Xferd  Average Speed   Time    Time     Time  Current\n",
            "                                 Dload  Upload   Total   Spent    Left  Speed\n",
            "100 3579k  100 3579k    0     0  8969k      0 --:--:-- --:--:-- --:--:-- 8969k\n"
          ],
          "name": "stdout"
        }
      ]
    },
    {
      "cell_type": "markdown",
      "metadata": {
        "id": "-b_N6lBqnkNq",
        "colab_type": "text"
      },
      "source": [
        "### AppID"
      ]
    },
    {
      "cell_type": "markdown",
      "metadata": {
        "colab_type": "text",
        "id": "1wMtLbHpnfn5"
      },
      "source": [
        "Store page: https://store.steampowered.com/app/583950/Artifact/"
      ]
    },
    {
      "cell_type": "code",
      "metadata": {
        "id": "mJwELJ26mvie",
        "colab_type": "code",
        "colab": {}
      },
      "source": [
        "app_id = 583950 # Artifact: 583950"
      ],
      "execution_count": 0,
      "outputs": []
    },
    {
      "cell_type": "markdown",
      "metadata": {
        "id": "DknzBlfdvvyo",
        "colab_type": "text"
      },
      "source": [
        "### Pre-processing"
      ]
    },
    {
      "cell_type": "markdown",
      "metadata": {
        "id": "pVPJ2nYensSs",
        "colab_type": "text"
      },
      "source": [
        "#### Input"
      ]
    },
    {
      "cell_type": "code",
      "metadata": {
        "id": "xWtKDT5q0342",
        "colab_type": "code",
        "colab": {}
      },
      "source": [
        "artifact_file_name = str(app_id) + '.txt'"
      ],
      "execution_count": 0,
      "outputs": []
    },
    {
      "cell_type": "markdown",
      "metadata": {
        "id": "BBfq2lpTnCCX",
        "colab_type": "text"
      },
      "source": [
        "#### Strip lines"
      ]
    },
    {
      "cell_type": "code",
      "metadata": {
        "id": "4tVhSIvf0cPP",
        "colab_type": "code",
        "colab": {
          "base_uri": "https://localhost:8080/",
          "height": 35
        },
        "outputId": "5d08aa52-0163-4198-a887-b7ac7303dabe"
      },
      "source": [
        "with open(artifact_file_name, 'r', encoding='utf8') as f:\n",
        "  lines = [line.strip() for line in f.readlines()]\n",
        "  \n",
        "print('#lines = {}'.format(len(lines)))"
      ],
      "execution_count": 8,
      "outputs": [
        {
          "output_type": "stream",
          "text": [
            "#lines = 25728\n"
          ],
          "name": "stdout"
        }
      ]
    },
    {
      "cell_type": "markdown",
      "metadata": {
        "id": "WwIbmAnQ2MnD",
        "colab_type": "text"
      },
      "source": [
        "#### Remove empty lines"
      ]
    },
    {
      "cell_type": "code",
      "metadata": {
        "id": "ud1m_CMZ1vyF",
        "colab_type": "code",
        "colab": {
          "base_uri": "https://localhost:8080/",
          "height": 35
        },
        "outputId": "cf8fd800-240a-41c5-ccdb-f581313ad0ba"
      },
      "source": [
        "texts = [line for line in lines if len(line)>0]\n",
        "\n",
        "print('#lines = {}'.format(len(texts)))"
      ],
      "execution_count": 9,
      "outputs": [
        {
          "output_type": "stream",
          "text": [
            "#lines = 17575\n"
          ],
          "name": "stdout"
        }
      ]
    },
    {
      "cell_type": "markdown",
      "metadata": {
        "id": "PtvOjc6snxlg",
        "colab_type": "text"
      },
      "source": [
        "#### Output"
      ]
    },
    {
      "cell_type": "code",
      "metadata": {
        "id": "1TZ7jLisi1m8",
        "colab_type": "code",
        "colab": {}
      },
      "source": [
        "artifact_trimmed_file_name = 'artifact.txt'"
      ],
      "execution_count": 0,
      "outputs": []
    },
    {
      "cell_type": "markdown",
      "metadata": {
        "id": "dbvcakoxkcsp",
        "colab_type": "text"
      },
      "source": [
        "#### Save output"
      ]
    },
    {
      "cell_type": "code",
      "metadata": {
        "id": "4juHQ059iwyd",
        "colab_type": "code",
        "colab": {}
      },
      "source": [
        "line_separator = '\\n'\n",
        "\n",
        "with open(artifact_trimmed_file_name, 'w', encoding='utf8') as f:\n",
        "  print(line_separator.join(texts), file=f)"
      ],
      "execution_count": 0,
      "outputs": []
    },
    {
      "cell_type": "markdown",
      "metadata": {
        "id": "CboypR0Nvm_x",
        "colab_type": "text"
      },
      "source": [
        "## Fine-tune GPT-2"
      ]
    },
    {
      "cell_type": "markdown",
      "metadata": {
        "id": "x_bQXb70n7af",
        "colab_type": "text"
      },
      "source": [
        "Reference: https://colab.research.google.com/drive/1VLG8e7YSEwypxU-noRNhsv5dW4NfTGce"
      ]
    },
    {
      "cell_type": "code",
      "metadata": {
        "id": "JVoZcdzfoKHH",
        "colab_type": "code",
        "colab": {}
      },
      "source": [
        "file_name = artifact_trimmed_file_name\n",
        "\n",
        "run_name = model_name + '_reviews_' + str(app_id)"
      ],
      "execution_count": 0,
      "outputs": []
    },
    {
      "cell_type": "code",
      "metadata": {
        "id": "tIQNCp3suNhH",
        "colab_type": "code",
        "colab": {
          "base_uri": "https://localhost:8080/",
          "height": 772
        },
        "outputId": "11952cb2-4da4-4c58-cd39-50fb75f51c5c"
      },
      "source": [
        "sess = gpt2.start_tf_sess()\n",
        "\n",
        "gpt2.finetune(sess,\n",
        "              run_name=run_name,\n",
        "              dataset=file_name,\n",
        "              model_name=model_name,              \n",
        "              steps=1000,\n",
        "              restore_from='fresh', # change to 'latest' to resume training\n",
        "              print_every=10,       # how many steps between printing progress\n",
        "              sample_every=200,     # how many steps to print a demo sample\n",
        "              save_every=500        # how many steps between saving checkpoint              \n",
        "              )"
      ],
      "execution_count": 13,
      "outputs": [
        {
          "output_type": "stream",
          "text": [
            "WARNING:tensorflow:From /usr/local/lib/python3.6/dist-packages/tensorflow/python/framework/op_def_library.py:263: colocate_with (from tensorflow.python.framework.ops) is deprecated and will be removed in a future version.\n",
            "Instructions for updating:\n",
            "Colocations handled automatically by placer.\n",
            "WARNING:tensorflow:From /usr/local/lib/python3.6/dist-packages/gpt_2_simple/src/sample.py:71: to_float (from tensorflow.python.ops.math_ops) is deprecated and will be removed in a future version.\n",
            "Instructions for updating:\n",
            "Use tf.cast instead.\n",
            "WARNING:tensorflow:From /usr/local/lib/python3.6/dist-packages/gpt_2_simple/src/sample.py:77: multinomial (from tensorflow.python.ops.random_ops) is deprecated and will be removed in a future version.\n",
            "Instructions for updating:\n",
            "Use tf.random.categorical instead.\n",
            "WARNING:tensorflow:From /usr/local/lib/python3.6/dist-packages/tensorflow/python/ops/math_ops.py:3066: to_int32 (from tensorflow.python.ops.math_ops) is deprecated and will be removed in a future version.\n",
            "Instructions for updating:\n",
            "Use tf.cast instead.\n",
            "WARNING:tensorflow:From /usr/local/lib/python3.6/dist-packages/tensorflow/python/ops/math_grad.py:102: div (from tensorflow.python.ops.math_ops) is deprecated and will be removed in a future version.\n",
            "Instructions for updating:\n",
            "Deprecated in favor of operator or tf.math.divide.\n",
            "Loading checkpoint models/345M/model.ckpt\n",
            "WARNING:tensorflow:From /usr/local/lib/python3.6/dist-packages/tensorflow/python/training/saver.py:1266: checkpoint_exists (from tensorflow.python.training.checkpoint_management) is deprecated and will be removed in a future version.\n",
            "Instructions for updating:\n",
            "Use standard file APIs to check for files with this prefix.\n",
            "INFO:tensorflow:Restoring parameters from models/345M/model.ckpt\n"
          ],
          "name": "stdout"
        },
        {
          "output_type": "stream",
          "text": [
            "\r  0%|          | 0/1 [00:00<?, ?it/s]"
          ],
          "name": "stderr"
        },
        {
          "output_type": "stream",
          "text": [
            "Loading dataset...\n"
          ],
          "name": "stdout"
        },
        {
          "output_type": "stream",
          "text": [
            "\r100%|██████████| 1/1 [00:05<00:00,  5.97s/it]\n"
          ],
          "name": "stderr"
        },
        {
          "output_type": "stream",
          "text": [
            "dataset has 834870 tokens\n",
            "Training...\n",
            "[10 | 24.58] loss=3.08 avg=3.08\n",
            "[20 | 39.51] loss=3.25 avg=3.17\n",
            "[30 | 54.62] loss=3.18 avg=3.17\n",
            "[40 | 69.86] loss=3.66 avg=3.29\n",
            "[50 | 85.19] loss=3.34 avg=3.30\n",
            "[60 | 100.63] loss=3.31 avg=3.30\n",
            "[70 | 116.17] loss=3.08 avg=3.27\n",
            "[80 | 131.85] loss=2.92 avg=3.23\n",
            "[90 | 147.61] loss=3.28 avg=3.23\n",
            "[100 | 163.42] loss=3.22 avg=3.23\n",
            "[110 | 179.30] loss=3.20 avg=3.23\n",
            "[120 | 195.29] loss=3.37 avg=3.24\n",
            "[130 | 211.39] loss=3.18 avg=3.24\n",
            "[140 | 227.52] loss=3.32 avg=3.24\n",
            "interrupted\n",
            "Saving checkpoint/345M_reviews_583950/model-147\n"
          ],
          "name": "stdout"
        }
      ]
    },
    {
      "cell_type": "markdown",
      "metadata": {
        "id": "8_mgWLdjxGdQ",
        "colab_type": "text"
      },
      "source": [
        "## Generate Text From The Trained Model"
      ]
    },
    {
      "cell_type": "code",
      "metadata": {
        "id": "b0EauqiVo5KF",
        "colab_type": "code",
        "colab": {}
      },
      "source": [
        "temperature=1.0 # Default is 0.7, but you may want to increase the temperature, especially if your dataset is small, to avoid copying text.\n",
        "top_k = 40      # Default: 0   ; Recommended: 40  ; useless parameter if top_p > 0.0\n",
        "top_p = 0.9     # Default: 0.0 ; Recommended: 0.9 ; no need for top_k if top_p > 0.0"
      ],
      "execution_count": 0,
      "outputs": []
    },
    {
      "cell_type": "code",
      "metadata": {
        "id": "4Z6FXHgcoj14",
        "colab_type": "code",
        "colab": {}
      },
      "source": [
        "num_samples = 3\n",
        "num_batches = 3 # Unique to GPT-2, you can pass a batch_size to generate multiple samples in parallel, giving a massive speedup."
      ],
      "execution_count": 0,
      "outputs": []
    },
    {
      "cell_type": "code",
      "metadata": {
        "id": "UAmXAeJbweEp",
        "colab_type": "code",
        "colab": {
          "base_uri": "https://localhost:8080/",
          "height": 1231
        },
        "outputId": "7c83a49d-bd33-41cd-a5bb-66194f069f23"
      },
      "source": [
        "gpt2.generate(sess,\n",
        "              run_name=run_name,\n",
        "              nsamples=num_samples,\n",
        "              batch_size=num_batches,\n",
        "              temperature=temperature,\n",
        "              top_k=top_k,\n",
        "              top_p=top_p,                            \n",
        "              prefix='I love Artifact')"
      ],
      "execution_count": 16,
      "outputs": [
        {
          "output_type": "stream",
          "text": [
            "I love Artifact so much. But I find it really boring to play with a deck because you have 3 cards and you have to do the best to get all cards you need (it's pretty luck and the weaker one is allowed to go first). I can see the game being fun, the gameplay is nice. There is always \"RNG\" in the game.\n",
            "I dont want to buy in at all until I'm satisfied with it. Its so expensive right now and I've just been really impatient. It's very common for me to find my round three full of RNG, and now I'm finding that really boring and unfun.\n",
            "I hate RNG in card games.\n",
            "Its too bad that there is no free way to win cards. There was a \"free 3 packs\" like deck for free in HS but now i would need to pay 5 bucks for every 7-8 heroes. If a card had to cost $20 to have a \"free\" deck then thats just not possible.\n",
            "If you really want to play the game then get in the game now because there are so many awesome new features in it that you will love it.\n",
            "If you want to buy the starter deck then get in the game now because there are some sweet new cards that you will want to use to make your \"free\" 2-3 wins deck.\n",
            "All in all I would give this game a 3 stars. Its more expensive then HS and even then you would need to pay a few bucks more for the cards to get those decks. But I will probably get better because I know I am, but there are plenty of new cards to add.\n",
            "I have been interested in the games for a few months and i enjoy them as such but i have been stuck with HS for a couple months now. I decided to give the game a shot and i wish i had waited\n",
            "When i first got the game i didn't like it, then i realised i was a while into HS.  When you get to lvl 1 with the 12-card decks you will have no tickets, you also have to pay money to win new packs and tickets (for the 12 cards) or some money to build a new deck (5 tickets). So i bought HS for about 25$ and this game is already the biggest game i own.\n",
            "Im enjoying the game, i got to the point where i need a new set of cards to complete my deck.\n",
            "I hope to see an update soon with all the sweet new features i can play.\n",
            "Best card game i have played and played since the start and for the last two months i have played HS and TCG.\n",
            "Haven't been able to write a review so i decided to give it a try for this.\n",
            "It's pricey to buy into the game because you can buy cards in the market and if you want a good deck you need to spend money on boosters and rarities. But for like the uninitiated: This game doesn't allow you to raise your deck after buying it. You have to win 3 matches in order to get a good deck. I guess it's like Magic : The Gathering . But only with Magic .\n",
            "Next day i gave it another shot and i found out that i have no tickets. And i already stopped playing HS because i didn't want to spend more money on it, and now i love it, now i'm enjoying it because its a card game.\n",
            "The playing of the game feels unfair in the same way that other card games have unfair play, in that i can buy every deck in the market and if i want to be in the top tiers i need to pay extra money. But you can play this game without paying money, you just play the market and enjoy.\n",
            "Here is the thing: If you want to play the game as a single player you are welcome to play it, and if you want to play with a friends you are welcome to play it, i don't see any reason to play it otherwise. If you want to play in a competitive tournament with your friends then no problem, this game is fine. If you want to play in casual then you can do it, but not this game.\n",
            "One last thing: If you want to play with real friends then you don't have to pay money at all. If you want to play with any non-good players then sorry, but your will have to pay money because that's how free this game is.\n",
            "Also, I'm afraid that there are a lot of advantages that a typical TCG (and HS) can have in card games. Hearthstone is literally free. Due to this a lot of people would be happy to just play for free.\n",
            "The thing is that if you want to play it as a single player and you only have $20 to spend, its much cheaper to just play HS.\n",
            "This has to be the most expensive TCG I have played. That said i'm sure this will change because the cards that it has at launch are very cheap, there\n",
            "====================\n",
            "\n",
            "I love Artifact, and I got my refund for it but I'd advise against paying even to play any digital game. Its a fantastic title, though if you really want to go you can always play tourneys.\n",
            "Artifact  is a fun and complex card game with plenty of depth and play style, with no one having their favoured deck locked behind a pay wall. Most games are less than 30 minutes long, it can take you a while to find your game on the board, I've done some great runs and come up against a classic deck in every game I've played. There is a tutorial and some guides if you want to know how to play the game, but at this point you probably have no clue what you are looking at. That said, if you want to create great competitive decks and challenge yourself, it's worth buying, even if you don't get the card.\n",
            "Now on to the review. This game is so good and so fun, I was excited to start playing the game and it was fun to do so, I've been enjoying it since the first expansion just like you would expect, even going 3 wins in that game (my longest time in any game).\n",
            "In theory I've spent thousands of dollars in digital card games and this is no different. I love this game and I want to buy it so bad and do more to bring it to a broader audience.\n",
            "This is a must buy for a digital card game (especially a card game that is so complex that it literally takes hours to understand). This is a game that you can get anywhere and at reasonable prices.\n",
            "There are a lot of people that are complaining about the \"pay 2 get a free pack\" and \"too many decisions\" and not paying to play, but I know that I can run anything I want. I've even spent $2 on a constructed deck and still have another $2 worth of cards.\n",
            "The most annoying part is how many card choices there are! To me, a choice is a choice, and I don't care about a lot of those, but to someone who wants to break out of certain play styles it's like losing a hand.\n",
            "I've played almost every MOBA on the market for years and I love Artifact! The gameplay is deep and the matchmaking is competitive. You can never expect it to be easy to get past your opponent, but it is a fun game to play! I've also bought an hour worth of Hearthstone and it's really fun, and I already have 100% of my collection now.\n",
            "And if you don't enjoy the matches and don't feel like spending the money on a \"free pack\", you can just play constructed. If you don't like the concept, don't buy it. I highly recommend it.\n",
            "The gameplay itself is deep, there is depth in terms of what is possible. I wish there was more scoring and color combinations so that it didn't have to be so simple.\n",
            "Despite the extremely competitive nature of the game, there are still plenty of casual games to enjoy and challenge yourself.\n",
            "I love it and if you don't like it, it's your money.\n",
            "I could easily spend an extra $10 on the core set. I don't want to, but I'm more than happy to because it's free!\n",
            "And I got pretty invested on the game so now I'm only on the freebie. If I want to spend time with casual drafts and stuff I can. I could probably spend around $5 more on the entire core set, which is amazing.\n",
            "I like the game, but I don't know if I should support it.\n",
            "Artifact is pretty expensive. I have played from the beginning of the game to when I got the game I love. You can just buy it if you want and it's not as hard to play as expected.  It feels good to play because you know you have a good deck, but I feel like paying more might not feel good at all.\n",
            "Now for what's important.  The tournaments are free. You can just play the constructed mode and ignore the reviews and go.\n",
            "This game is way more complex than almost every other card game on the market, it seems.\n",
            "This is one of the most mechanically complex games I've ever played.  The meta is pretty cool.  I really feel like people will get too bored with the fundamentals of the game to feel compelled to learn something new.\n",
            "Artifact is easily one of the most addicting games I've ever played.  I've played most of my time in this mode and still can't put a game down.  They obviously want to make it fun, but it's such a fucking decision.  They have to decide if they want to make it competitive or casual. I strongly recommend the casual matchmaking, but I can imagine people who don't get tired of the progressions playing there may not.\n",
            "I can see this coming into the market, they added 1 day to the EU EULA and I have\n",
            "====================\n",
            "\n",
            "I love Artifact, it's a wonderful, deep card game. I would have never understood the original uproar against the game. There's a deep, challenging gameplay that's interesting, in-depth and fun. It's not as easy as people say it is to learn, though, there's a lot to do before you get a good feel for the game and also in card drafting. The tutorials are also super great and teach you a lot about the game without you spending a bunch of money on the starter kit (although they do cost money though).\n",
            "I have been playing Hearthstone for over 8 years now, with over 200 hours played and not losing even once. The Legend system is pretty exciting as well, as is the theme system. Even though I spend more money on the base game than most people, I enjoy every game. If I get bored for any reason I will probably switch to Dota 2 and Hearthstone.\n",
            "I do not know the specifics of how they will work, but it's a lot more balanced than Hearthstone and that's a good thing. It's not as flashy and silly as people say, because you don't have to have every card, but the gameplay is more to the point.\n",
            "I have played through 10 hours now, which seems like a lot compared to other reviews I've seen (18-26).\n",
            "I actually like this game, I don't think this is a great card game, but I also didn't want to quit it so fast because I'm not sure what the big deal is. The more I played the more I like, and I definitely will keep playing it.\n",
            "The product is still awesome. The game itself is well worth the money. There's a solid progression system and tons of replayability.\n",
            "I had so much fun with this game! I got the chance to play the free demo with my friends, and had a blast! Also it's pretty cheap compared to other cards games.\n",
            "I played Hearthstone for years now. I think that in those years I got a lot of enjoyment out of the game. So the game is fun, but it's not for everyone.\n",
            "(You'll need to spend $15 on the game in order to play it. If you want to play the game you can try it for free, or spend the money to get more cards if you're a casual player like me)\n",
            "Overall, it's good value, and I really hope the game will continue to grow. I do believe the game will continue to grow if Valve introduces an in-game currency. The very first 50,000 cards will cost you $1.00. It will also take longer to pay for cards and other cards because now people can pay to get their very own cards. There are currently 3 options to pay for a pack (25 cards).\n",
            "There are currently 3 available in game currencies (Gold and a ticket, as of writing) but these can be changed in the future. Currently though, the only currency that has prices is the ticket. This is the best it has been since game launched. It's pretty cheap. You can actually get all 3 of these without spending money.\n",
            "I have just received the game and will report my experience in the next update. You can buy the game without paying a cent. Now i really wish all the negative reviews that people have been posting.\n",
            "A lot of people complained about paying the $20 for the game, that's what you get for that, basically you get 5 boosters and 2 starter decks.  Personally i'd just buy the entire game (300€) for the top 10 cards.  The ones i'm spending more money on right now are RNG mage.\n",
            "I have enjoyed every single game so far. My most played card game in years is Artifact and it's the best card game i've played since WoW and MTG.  Many people have complained about paying to play, well guess what. I payed.  I paid for the \"diamond\" boosters, I paid for the Top 10 starter decks (the ones from the first packs, 3x each). I also played more competitively than Hearthstone and MTG (0.11.5 and 0.42, respectively), which means I'll probably pay more for cards in the future.\n",
            "Overall, the free game is really the best case scenario. I can buy or sell the top cards and still have a good time. I've had more fun than playing Hearthstone and MTG, and I've been spending way more money on them than I should have.\n",
            "I have enjoyed playing Hearthstone for about a year now. I was able to draft with any card that I wanted for almost half a dollar and it's still fun and fun to play. However, this game is a massive step up from MTG. If I wasn't being prepared to put upwards of a couple of hours of effort into Hearthstone, I wouldn't have bothered. I would have played the very same game that I've played in years.\n",
            "I think there are more interesting ways to\n",
            "====================\n",
            "\n"
          ],
          "name": "stdout"
        }
      ]
    },
    {
      "cell_type": "code",
      "metadata": {
        "id": "MfLDNg7a9eQo",
        "colab_type": "code",
        "colab": {
          "base_uri": "https://localhost:8080/",
          "height": 1102
        },
        "outputId": "71eb9384-865d-4ea0-a98d-61d743f64bcb"
      },
      "source": [
        "gpt2.generate(sess,\n",
        "              run_name=run_name,\n",
        "              nsamples=num_samples,\n",
        "              batch_size=num_batches,\n",
        "              temperature=temperature,\n",
        "              top_k=top_k,\n",
        "              top_p=top_p,                            \n",
        "              prefix='I hate Artifact')"
      ],
      "execution_count": 17,
      "outputs": [
        {
          "output_type": "stream",
          "text": [
            "I hate Artifact (especially the promo card sets) but I also get that Artifact does not have any free way to earn cards.\n",
            "I would definitely recommend getting this game without playing the paid expansions (although you can still enjoy constructed at a reasonable price if you want to!). I would say a $20 price point for Artifact is a bit high, but you do not need to pay for a full set, you can get most of the basic cards at that price.\n",
            "The game plays very well, and there is a lot of depth. You can purchase cards to create constructed decks, build your own competitive decks, and that is not a chore. Constructed is a $20 game, while those competitive decks are actually pretty fun to play. If you are looking for an epic card game and the pricing model is something you like, you might be better off spending the $20. It is still super fun, I have just bought all the cards I need (including the one I want to get for $5).\n",
            "I have had great fun playing this game, I think you can easily spend $20 on the game for a very competitive, well done, and well designed card game.\n",
            "I have not put in too much of effort into it yet, but I would like to see more of this in the future.\n",
            "Artifact is a fantastic card game, and if you are looking for something different, I would highly recommend this to you. I have had some fun with the game, and have played the premier events on the market that cost money.\n",
            "I'm a big fan of Hearthstone. There are tons of options to build deck around (yay!). It just feels so natural and incredibly satisfying to win.\n",
            "I dont think Artifact has that right now. You gotta really know how to play in TCG and you will have a really enjoyable time with this one. I am not looking for a \"pay to win\" structure, they just got lucky. I think if they got a little luckier they would have a real good deck.\n",
            "As soon as the promo was released (everywhere but tf games) I knew this was going to be my favorite TCG ever. I want to buy every card I can get. I know I'll get a lot of support and feedback, and I hope this won't impact my overall opinion, but I feel like this is the best card game I have ever played. My 25 dollars buy in is already refunded on Steam and I don't need to go back. I cannot wait to see what is to come!\n",
            "This game has some of the best digital card game design I've seen, and my purchase will only pay for the game and not the business model, and the only thing I disagree with is that you can get any card you want with very few purchases.\n",
            "The game is great, the gameplay is fun and the curve is really engaging. There is literally nothing you can't do in this game.\n",
            "All the reviews are \"pay to win\" and it's completely true, it's not a pay to win if you take a look at other digital card games. I bought the game because I love the gameplay and hoped it would be fun. I didn't think it would be as complex as Hearthstone, and I didn't expect it to be this deep.\n",
            "I don't regret buying it. If you are a big fan of the \"wtf do you have to pay to play this\" type of complaints, this game might not be for you. Don't be fooled, the game is 100% free. You could play all day every day without paying anything.\n",
            "I wish I was good enough to grind for 1 ticket to enter a match, but I'm a decent player now. That's why I'm writing a review. There are other reviews that are just outright wrong.\n",
            "A very complex, carefully engineered digital card game. There are three possible paths to victory:\n",
            "Pay for the game, if you choose to play it (very few games) Pay to play it (somewhat, the price is high considering this is where it was released). Pay to play it if you are happy to spend money on your own, otherwise there's a strong chance you will lose. That said, you are also paying for the Steam Market place and the convenience of being able to play the game at a reasonable price, because if you don't, you will have no points at all.\n",
            "How was I to get so lazy and excited?\n",
            "As I said, this is a pretty deep and interesting TCG, and if you're looking for something genuinely rewarding to pay for, then you should definitely get this one. It's exactly what I've been looking for, and the only reason I would even try is if I'm sick of getting disappointed after getting kicked off people's accounts for spending money.\n",
            "I am not a fan of some of the gameplay in the game, as it's heavily based on luck. Don't buy it because you think it's all about luck, and\n",
            "====================\n",
            "\n",
            "I hate Artifact and it is time to move on. The main game of other TCGs is straight base but that is not the case for this game. Artifact made it seem that everyone should not be able to be good.\n",
            "That is, the way of the deck is crap and you can basically build a \"run\" deck and lose no matter what because your opponents will never play their board to their advantage.\n",
            "Also, the game is based on cards. The three turn special frame means there are multiple positions of each card. You need three cards of a rank equal to 2. But the game doesn't have any actual point value of those cards.\n",
            "This is the main problem I have with this game. It is...\n",
            "-- \"Historical card game\" is the biggest mis-conception I've come across. Sure, its not totally true that \"Total experience gained\" is \"experience\" based. The game itself is pure and simple MMG. The card sets may vary and even have absolutely different feel, but in general a card set is based on the \"preconstructed\" decks you get from expansions and boosters. You can earn packs (really) by playing this game. But those packs are way way better than any other game in the world. Or in other words, you can grind for weeks for your pack. Then when you sell it, you receive less than a single ticket or almost nothing.\n",
            "If you want to go infinite in this game and win, then you need to play for multiple winning streaks and make sure you pick a deck you like. You need to play a lot of casual matches because even the best (1st) decks get destroyed on the first go. Also, you need to have played every good deck in the game and every bad deck in it. And you need to keep your good decks playing.\n",
            "I would not recommend this game if you don't have money. You need to get as much money as you want. And this game has a very low playerbase. If you are playing for fun, then you shouldn't buy this. If you are seriously trying to win the top 1-2 prizes in your region, then this game is not for you.\n",
            "After the game got released, they released with the update that they nerfed your monsters and caused all your good cards to drop. In other games you would get lucky and get your entire collection from them. In Artifact you have to have some of the \"fair\" games (ie some decks you can play for free). So the game is not perfect, but they fixed some bad things.\n",
            "Artifact is a great game and I've only played a couple hours and I'm still enjoying it. After just playing there's no shortage of strategy in it. I hope they keep fixing it and there'll be no need for me to buy tickets.\n",
            "Solutions:\n",
            "- create a new game\n",
            "- Add various social features (like social login)\n",
            "- add a \"discount system\"\n",
            "- No need to pay for tickets\n",
            "- add a ladder\n",
            "I bought the game hoping it will be released soon with high impact on the meta and tournament scene. I know that Blizzard can make it get released as soon as they want. Unfortunately I did not want to give my money to them.\n",
            "Lack of progression is a big issue. I also tried out the free trial but I lost interest after 3 and 4 hours.\n",
            "So you can play the game for free and still have not gotten your first ticket. But if you want to play ranked play you have to pay money for a full collection. That makes this game a LOT more expensive than any other game that I've played.\n",
            "You can play with friends but there is no way to compete in ranked with an undefeated opponent.\n",
            "Overall this game sucks. I only wish I could play with my friends. I wish there were also some ways to earn packs.\n",
            "I strongly recommend this game. If you are unable to spend money on it, you can play it free but this will cost you a ticket for constructed and the rewards will be quite low. Also, make sure you are on the beta and the game won't die.\n",
            "I played this game for 6 months and i had this game in my basement since.\n",
            "Almost forgot to mention the free time i had to waste on the game.\n",
            "I have played other card games and such but not this one.\n",
            "And finally, i just bought my ticket for this game.\n",
            "By the way, this game does not allow you to sell your cards or even see your MMR!\n",
            "If you want to play competitively, you need to buy these items (and more of them if you wish).\n",
            "I hope this is not a huge issue and i'll see you on the other aspects soon :)\n",
            "Well, I guess i'll stop here!   ffffffff I love the game.  The thing i dont like is the playerbase.  The game itself is great, i can say that, its definitely worth\n",
            "====================\n",
            "\n",
            "I hate Artifact games, and one day I really do have to admit that.\n",
            "[h1]Value:[/h1] The game is better, the game is more competitive, the game is cheaper and better when it comes to the card(s) you want to have at a specific price, the card price in the real world is a lot lower, it's hard to say why a few $ you got into is so damn big in this game. It's actually so cheap in some cases that I could get 2 x to the next tier without even playing the game. Other times you'll pay 10 dollars for a common and still get what you need. That's amazing for me, it's an absolute bargain.\n",
            "As for the free stuff, if you don't care for the pay you can just play casual phantom draft and get no rewards. But if you do want to invest a little and have fun, it'll cost you around 20 bucks and you can win packs or tickets.\n",
            "[b][u][b][span Style=Style2&mso-anchor=center;a-alt=\"you win\"&mso-accent=0\"&mso-exp-accent=0\";a-alt=\"you win\"&mso-anchor=center;a-alt=\"you win\"&mso-accent=0\"&mso-exp-accent=0\";a-alt=\"you win\"&mso-anchor=center;a-alt=\"you win\"&mso-accent=0\"&mso-exp-accent=0\";a-alt=\"you win\"&mso-anchor=center;a-alt=\"you win\"&mso-accent=0\"&mso-exp-accent=0\";a-alt=\"you win\"&mso-anchor=center;a-alt=\"you win\"&mso-accent=0\"&mso-exp-accent=0\";a-alt=\"you win\"&mso-anchor=center;a-alt=\"you win\"&mso-accent=0\"&mso-exp-accent=0\";a-alt=\"you win\"&mso-anchor=center;a-alt=\"you win\"&mso-accent=0\"&mso-exp-accent=0\"&mso-anchor=center;a-alt=\"you win\"&mso-accent=0\"&mso-exp-accent=0\";a-alt=\"you win\"&mso-anchor=center;a-alt=\"you win\"&mso-accent=0\"&mso-exp-accent=0\"&mso-anchor=center;a-alt=\"you win\"&mso-anchor=center;a-alt=\"you win\"&mso-accent=0\"&mso-exp-accent=0\";a-alt=\"you win\"&mso-anchor=center;a-alt=\"you win\"&mso-accent=0\"&mso-exp-accent=0\";a-alt=\"you win\"&mso-anchor=center;a-alt=\"you win\"&mso-accent=0\"&mso-exp-accent=0\";a-alt=\"you win\"&mso-anchor=center;a-alt=\"you win\"&mso-accent=0\"&mso-exp-accent=0\";a-alt=\"you win\"&mso-anchor=center;a-alt=\"you win\"&mso-accent=0\"&mso-exp-accent=0\";a-alt=\"you win\"&mso-anchor=center;a-alt=\"you win\"&mso-accent=0\"&mso-exp-accent=0\"&mso-anchor=center;a-alt=\"you win\"&mso-accent=0\"&mso-exp-accent=0\"&mso-anchor=center;a-alt=\"you win\"&mso-anchor=center;a-alt=\"you win\"&mso-accent=0\"&mso-exp-accent=0\";a-alt=\"you win\"&mso-anchor=center;a-alt=\"you win\"&mso-accent=0\"&mso-exp-accent=0\";a-alt=\"you win\"&mso-anchor=center;a-alt=\"you win\"&mso-accent=0\"&mso-exp-accent\n",
            "====================\n",
            "\n"
          ],
          "name": "stdout"
        }
      ]
    },
    {
      "cell_type": "code",
      "metadata": {
        "id": "srUisIYl9fX4",
        "colab_type": "code",
        "colab": {
          "base_uri": "https://localhost:8080/",
          "height": 1837
        },
        "outputId": "5aa8a806-791e-4370-b353-1bfd94451edf"
      },
      "source": [
        "gpt2.generate(sess,\n",
        "              run_name=run_name,\n",
        "              nsamples=num_samples,\n",
        "              batch_size=num_batches,\n",
        "              temperature=temperature,\n",
        "              top_k=top_k,\n",
        "              top_p=top_p,                            \n",
        "              prefix='Please, Valve, ')"
      ],
      "execution_count": 18,
      "outputs": [
        {
          "output_type": "stream",
          "text": [
            "P, Valve,  if this game is called some bullshit and give the game a break, people. Screw your wankers.\n",
            "Oh wait, again...people, you don't even have to pay to buy the game, everyone who are buying this game are paying for the game because you made a game and now you think that the game is profitable? Then play now or you will be paying for it.\n",
            "The worst thing you can say about this game is that there are several games I want in my collection. The worst thing about this game is that it cost me one more$ to get the game (one time), than I wanted it in every game that I've been playing in the past.\n",
            "This game is a rip off. I have spent so many hours on this game for so many reasons.\n",
            "The reviews are really saying that the game is not well designed but I'll tell you why it's a rip off. The gameplay is really well designed but this game has issues with the game balance right now.\n",
            "So much the obvious: - There is no progression. When you buy the game, you have to spend 20$.\n",
            "- If you get 3 wins in a game, you get 7 wins and 11 packs and 11 boosters.\n",
            "- if you get 9 wins, you get one win pack, and one booster.\n",
            "- you don't get any of those cards unless you win 3 times in a game.\n",
            "- The game takes so much of your time to play and think, I'm a gamer, and I know there is some quality of life issues I'm seeing now, and I'm sure they will go away.\n",
            "- The monsters are random. There are a few OP cards, a few that are near the top, and there are some heroes with counter heros, but some cards are so OP that they even lead to game-sizzling games.\n",
            "- The mana you need to play is a huge barrier. Not every player has the ability to reach each card, and I'd prefer it if the mana cost was less.\n",
            "- The game was a long time ago, because it takes so much of your time to make the deck and you won't be able to change the deck if you buy the cards you need.\n",
            "These issues are all very obvious, but I feel like they really are a thing in the game right now.\n",
            "Valve already answered most of the criticisms they have. Since most of the negative reviews are about monetization, I don't see a lot to be said.\n",
            "I've been playing this game since its release because it's a TCG, and I really enjoy it.\n",
            "All this plus a paywall and inflation.\n",
            "If you're spending money, buy the game instead of playing it like a fool.\n",
            "Let's talk about Artifact:\n",
            "So, the $20 will get you all the cards you want, but only if you buy it. In a lot of cases, buying and playing the game will result in paying for all of them (including 3 packs and 6 booster packs). If you buy the game for the $20 and know what you are doing, you can only play it for the few days you get for paying. It's something that's not being accounted for.\n",
            "I am really having fun with this game.\n",
            "\"Be aware of yourself in the game!\"\n",
            "This is one of the best play-styles ever.\n",
            "Now lets get one thing out of the way. This is the card game of its kind. So maybe it will become your new life.\n",
            "Second: You don't have to buy every single card to play the game. Just play matches you enjoy and it's pretty easy to play without paying a dime.\n",
            "This game is fantastic and has the potential to be one of the best in the genre. That being said, there are definitely things that could be done better, such as the matchmaking.\n",
            "The monetization is really not the problem.\n",
            "The biggest problem the game has is that, unless you win 6 matches with some specific cards, you lose your buy-in (or so says the developers).\n",
            "The biggest problem the game has is that, unless you win 6 matches with some specific cards, you lose your buy-in (or so says the developers). The main problem with this game is that there's no incentive for good or bad deckbuilding and play style. This can be rectified by buying a few packs and making your very own draft deck. It takes an extremely long time to make good decks so you might as well pay to play this game.\n",
            "In any case, the fact that you don't get anything for your money makes this game so much easier to get. The longer you play the game, the better.\n",
            "The biggest problem the game has is that there's no incentive for good or bad deckbuilding and play style. The reason this is so is because I have won so many good matches, but the card design is the problem.\n",
            "Purchasing the game means that you get\n",
            "====================\n",
            "\n",
            "P, Valve, 1. Increase the minimum paying to play. 2.  1 year of paid release from those who already payed to the game. 3. Drop the pricing and ditch the the negative reviews.  That really won me over.\n",
            "That's great, the mechanics are incredible, but a lot of people love the game because it's free. Well, maybe. Just kidding, people who have already paid don't get the game and make the mistake of spending the 100$ to play. But just because it's not free, doesn't mean it's not worth it.\n",
            "I've been playing CoC for a while now and played this game without much warning or regret. I highly recommend this game. Will also share the review with anyone who hasn't bought this game yet.\n",
            "Thank you for reading!\n",
            "I bought this game to see what it was like. I came across this game over at http://steamcommunity.com/sharedfiles/filedetails/?id=8167588470 and fell in love!\n",
            "I have had a lot of fun with this game so far, so it is great to be back!\n",
            "Let's start from the beginning. This is the best game I have ever played. Do not buy it unless you're willing to put a very large amount of time into the game and not end up at the same game board as me. Don't spend any money on it unless you are very lucky, especially if you have no friends at all.\n",
            "Be careful with the alt characters. Don't know why I chose this game, but I didn't like it at all. A friend, who also is played 3 classes and now switched to the magic class and is also very good, was good, he played Legend and won the tournament for now, but he was absolutely insane with these alt characters, it really annoyed me. Luckily, I now play mtg, and so did my friend.\n",
            "If you're a Dota or Counter Strike fan or just enjoy the game for what it is, you will love this game! Just get it before people complain, and you will get it, as a refund is now available.\n",
            "I know it's an awesome game, but when it comes to the monetization it's really bad.\n",
            "Normally Valve reviews on this game are pretty short but this review is so short it's not even funny. This game was a beast!\n",
            "We're gonna fight at least a ton of people on this game! I've never played an online card game before but this is so much fun! The best version of the game! I've played Hearthstone, Pokemon and GG Yugioh.\n",
            "To conclude I bought it on release because I thought it was a card game and now it's my favorite digital card game.\n",
            "I have been playing for over a year now and these last weeks really has been the biggest, because it's fun and challenging.\n",
            "The game starts out really confusing, and with a beginner/intermediate level is really, really great. Once you understand, you can grind for hours to get as high as you want.\n",
            "I've played a ton of card games, and honestly I've never spent money on them.\n",
            "The only bad thing about the game is when you buy more cards, you have to buy the actual game on Steam. I paid 2€ for this game, and since then I've spent nearly the same amount for every other card I've bought, which is fucking insane. I was hoping for a refund, but since I didn't get it I got angry and created a post.\n",
            "I would be surprised if this game won't be very profitable. If it does, the buy-in is extremely reasonable, and without a doubt it will give Valve a lot of extra income.\n",
            "Artifact is a very fun card game to boot.\n",
            "I've tried Hearthstone, and now, Dota, and the 3-5 cards that come with the game are just fucking unbelievable.\n",
            "I have had all of these cards, and they are awesome! And don't believe the lies!\n",
            "The gameplay is simple, fair, and has interesting strategies to take to win the game. There are a lot of strategies to be learned before you've found your preferred playstyle.\n",
            "I've played a lot of games in this game, but this is by far the most fun I've had.\n",
            "Overall, I'm disappointed in how the game is currently constructed, as there are very different and well-thought out playstyles to be followed. I was expecting a much more collaborative and welcoming environment, but it feels very dry in the opening board, and my actual playtime has been cut short.\n",
            "I'm glad I have let go of a few cards and keep my original choice of picking which decks I wanted to play.\n",
            "I've been enjoying the concept of the game, especially as I've only spent so much time with it. I understand where Valve is coming from, and as a veteran Hearthstone player, they are even trying to learn this game.\n",
            "\n",
            "====================\n",
            "\n",
            "P, Valve,  if this is your game, stop trying to be sneaky and feel free to make the site some level of shitty. This is not a game for you and does not belong to you.\n",
            "This is not the type of game I played for years so i will refrain from reviewing it. There is not an entry fee to the game, it's $15 USD, and there's 2 active realms. I can also get some cash in here, it's expensive to enter and of course there are no bonus prizes. I have played a lot of card games (whole deck) so expect a lot of spending money in there.\n",
            "Yes there is free meta decks but it's expected to be paid for in the future, so you have to prepare.\n",
            "So, i dont want to talk about the monetization issue because i really do not want to waste my time. Honestly, i should put it down, as i don't see what the big deal is.\n",
            "I love playing this game, if the budget was not so high people wouldnt buy it, now there are better cards which are less expensive, so it would be a lot cheaper if the game was open.\n",
            "[ad] Main game game plays like this : [/ad]\n",
            "I see the positives :\n",
            ". All games are played on same lanes.\n",
            "[ad] Has a unique theme of the light card.\n",
            "[ad] no free draft game is free in the first place.\n",
            "[ad] Almost all cardgames are pay to win.\n",
            "[ad] Costs 1 ticket to enter non draft games.\n",
            "[ad] You can't lose without spending money on the main board, the same as in MTG.\n",
            "[ad]  Only pays for the games which require a ticket.\n",
            ". No other card game has this kind of value in the market, and i don't think the game is pay to win.\n",
            ". It's not like every other card game, where you pay 1 ticket to enter and the rest you have to buy the tickets.\n",
            ".  Almost all cards have an effect, and in this game you dont need them.\n",
            ". In MTG it would cost you about 70 USD to get a constructed deck, but in this game you have enough cards to win a constructed without paying any extra.\n",
            ". See what i mean here ?\n",
            "There are no free play in the first place, which is annoying.\n",
            "( Very good game design. Save your money. It's a very good game for sure).\n",
            "It would have been so much easier if Valve got rid of all the money. Also, to be able to play the free draft without paying a dime would be cool.\n",
            "[b]Oh, and it's fun to play free draft mode for free, too.\n",
            "[b]Now if you only want to play constructed, then play free draft mode, but you'll need at least one ticket for that, unless you're desperate. I would say buy the game to play for free, but then i would've stuck with that. If you want to play for draft, then you're going to pay more money than a lot of people here. [/b]\n",
            "No one in here complains about how much people pay to play the game. The mechanics in this game are simple, and it's fun. That's it. Don't care about the monetization for me, or most of the players, or how many tickets the game has. Get yourself some friends, start playing free draft and enjoy. The gameplay is pretty amazing, and you have to pay for everything else because everyone who plays the game wins, but if you play free draft you can win more tickets by playing for free. But be aware that a lot of people have zero money in their pocket atm.\n",
            "But let's talk about the pay model, you could play the game without paying anything. You could spend your money on the non-season ticket, or whatever, it costs much less than a MTG tournament ticket, and it's a better game. Or you could use this as a pickle with the system and play forever, and then if you lose you just refund the ticket and continue on. I like this game.\n",
            "[size=3]Good and bad[/size]\n",
            "[list]\n",
            "[u]Good : You can play it without paying anything.\n",
            "[u]Bad : You need a lot of friends to play any kind of competitive deck, even the free ones, you can only play one of them.\n",
            "[u]Hateful: Some decks are fun.\n",
            "[u]Casual: The game is pretty great. People on the forums complain about casual matches, but casual can easily do more than my friends, and that's better than standard. You can try to play the non-rare decks for free.\n",
            "[u]Unfair: I want to play everything because of the free booster packs. Other people complain about this, but these days people don't feel the need to buy booster\n",
            "====================\n",
            "\n"
          ],
          "name": "stdout"
        }
      ]
    }
  ]
}