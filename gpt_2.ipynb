{
  "nbformat": 4,
  "nbformat_minor": 0,
  "metadata": {
    "colab": {
      "name": "gpt-2.ipynb",
      "version": "0.3.2",
      "provenance": [],
      "collapsed_sections": []
    },
    "kernelspec": {
      "name": "python3",
      "display_name": "Python 3"
    },
    "accelerator": "GPU"
  },
  "cells": [
    {
      "metadata": {
        "id": "5u6MjGQAuzWN",
        "colab_type": "text"
      },
      "cell_type": "markdown",
      "source": [
        "# Sample Steam Reviews with GPT-2\n",
        "Code inspired from https://github.com/woctezuma/sample-steam-reviews"
      ]
    },
    {
      "metadata": {
        "id": "2KjP9yVVveN1",
        "colab_type": "text"
      },
      "cell_type": "markdown",
      "source": [
        "## Setting"
      ]
    },
    {
      "metadata": {
        "id": "Lhkj7eqctrYc",
        "colab_type": "code",
        "outputId": "e1f4fe2f-1205-4380-afe2-09d8c19a84d7",
        "colab": {
          "base_uri": "https://localhost:8080/",
          "height": 35
        }
      },
      "cell_type": "code",
      "source": [
        "from google.colab import drive\n",
        "\n",
        "mount_folder = '/content/gdrive'\n",
        "drive.mount(mount_folder)"
      ],
      "execution_count": 4,
      "outputs": [
        {
          "output_type": "stream",
          "text": [
            "Drive already mounted at /content/gdrive; to attempt to forcibly remount, call drive.mount(\"/content/gdrive\", force_remount=True).\n"
          ],
          "name": "stdout"
        }
      ]
    },
    {
      "metadata": {
        "id": "c1B_Tfo5u9l0",
        "colab_type": "code",
        "outputId": "0690df9e-3ed3-4ed1-94ab-2c38f6bbfc9f",
        "colab": {
          "base_uri": "https://localhost:8080/",
          "height": 35
        }
      },
      "cell_type": "code",
      "source": [
        "%cd '/content/gdrive/My Drive/'"
      ],
      "execution_count": 2,
      "outputs": [
        {
          "output_type": "stream",
          "text": [
            "/content/gdrive/My Drive\n"
          ],
          "name": "stdout"
        }
      ]
    },
    {
      "metadata": {
        "id": "_1ruwgwCuEHd",
        "colab_type": "code",
        "outputId": "15ca8bea-2fc4-4485-df13-8fa7dd9b9b91",
        "colab": {
          "base_uri": "https://localhost:8080/",
          "height": 311
        }
      },
      "cell_type": "code",
      "source": [
        "!pip install gpt_2_simple"
      ],
      "execution_count": 3,
      "outputs": [
        {
          "output_type": "stream",
          "text": [
            "Collecting gpt_2_simple\n",
            "  Downloading https://files.pythonhosted.org/packages/cc/46/74c43ed6a8167f0095989d818631e271de82b4f32a4a8066cd9ca7cd6a06/gpt_2_simple-0.1.tar.gz\n",
            "Requirement already satisfied: regex in /usr/local/lib/python3.6/dist-packages (from gpt_2_simple) (2018.1.10)\n",
            "Requirement already satisfied: requests in /usr/local/lib/python3.6/dist-packages (from gpt_2_simple) (2.18.4)\n",
            "Requirement already satisfied: tqdm in /usr/local/lib/python3.6/dist-packages (from gpt_2_simple) (4.28.1)\n",
            "Requirement already satisfied: numpy in /usr/local/lib/python3.6/dist-packages (from gpt_2_simple) (1.16.2)\n",
            "Requirement already satisfied: urllib3<1.23,>=1.21.1 in /usr/local/lib/python3.6/dist-packages (from requests->gpt_2_simple) (1.22)\n",
            "Requirement already satisfied: certifi>=2017.4.17 in /usr/local/lib/python3.6/dist-packages (from requests->gpt_2_simple) (2019.3.9)\n",
            "Requirement already satisfied: idna<2.7,>=2.5 in /usr/local/lib/python3.6/dist-packages (from requests->gpt_2_simple) (2.6)\n",
            "Requirement already satisfied: chardet<3.1.0,>=3.0.2 in /usr/local/lib/python3.6/dist-packages (from requests->gpt_2_simple) (3.0.4)\n",
            "Building wheels for collected packages: gpt-2-simple\n",
            "  Building wheel for gpt-2-simple (setup.py) ... \u001b[?25ldone\n",
            "\u001b[?25h  Stored in directory: /root/.cache/pip/wheels/18/42/c1/17967454ab16c9557ed49cb687262eda9a39419fc8931b5e7d\n",
            "Successfully built gpt-2-simple\n",
            "Installing collected packages: gpt-2-simple\n",
            "Successfully installed gpt-2-simple-0.1\n"
          ],
          "name": "stdout"
        }
      ]
    },
    {
      "metadata": {
        "id": "EO62_p_Ovk8y",
        "colab_type": "text"
      },
      "cell_type": "markdown",
      "source": [
        "## Load data\n",
        "Store page: https://store.steampowered.com/app/583950/Artifact/"
      ]
    },
    {
      "metadata": {
        "id": "IFJvTpQFuWa0",
        "colab_type": "code",
        "outputId": "05b92297-0ef3-47c4-b9f3-adb990307e39",
        "colab": {
          "base_uri": "https://localhost:8080/",
          "height": 72
        }
      },
      "cell_type": "code",
      "source": [
        "!curl -O https://raw.githubusercontent.com/woctezuma/sample-steam-reviews/master/output/583950.txt"
      ],
      "execution_count": 5,
      "outputs": [
        {
          "output_type": "stream",
          "text": [
            "  % Total    % Received % Xferd  Average Speed   Time    Time     Time  Current\n",
            "                                 Dload  Upload   Total   Spent    Left  Speed\n",
            "100 3579k  100 3579k    0     0  3215k      0  0:00:01  0:00:01 --:--:-- 3215k\n"
          ],
          "name": "stdout"
        }
      ]
    },
    {
      "metadata": {
        "id": "xWtKDT5q0342",
        "colab_type": "code",
        "colab": {}
      },
      "cell_type": "code",
      "source": [
        "artifact_file_name = '583950.txt'"
      ],
      "execution_count": 0,
      "outputs": []
    },
    {
      "metadata": {
        "id": "4tVhSIvf0cPP",
        "colab_type": "code",
        "outputId": "9afad72b-b2a1-493a-fc56-964e1b2d7802",
        "colab": {
          "base_uri": "https://localhost:8080/",
          "height": 35
        }
      },
      "cell_type": "code",
      "source": [
        "with open(artifact_file_name, 'r', encoding='utf8') as f:\n",
        "  lines = [line.strip() for line in f.readlines()]\n",
        "  \n",
        "print('#lines = {}'.format(len(lines)))"
      ],
      "execution_count": 7,
      "outputs": [
        {
          "output_type": "stream",
          "text": [
            "#lines = 25728\n"
          ],
          "name": "stdout"
        }
      ]
    },
    {
      "metadata": {
        "id": "WwIbmAnQ2MnD",
        "colab_type": "text"
      },
      "cell_type": "markdown",
      "source": [
        "Remove empty lines"
      ]
    },
    {
      "metadata": {
        "id": "ud1m_CMZ1vyF",
        "colab_type": "code",
        "outputId": "6958eb4d-aaa5-4d61-a9cb-49a7acbcde10",
        "colab": {
          "base_uri": "https://localhost:8080/",
          "height": 35
        }
      },
      "cell_type": "code",
      "source": [
        "texts = [line for line in lines if len(line)>0]\n",
        "\n",
        "print('#lines = {}'.format(len(texts)))"
      ],
      "execution_count": 8,
      "outputs": [
        {
          "output_type": "stream",
          "text": [
            "#lines = 17575\n"
          ],
          "name": "stdout"
        }
      ]
    },
    {
      "metadata": {
        "id": "dbvcakoxkcsp",
        "colab_type": "text"
      },
      "cell_type": "markdown",
      "source": [
        "Save file without empty lines"
      ]
    },
    {
      "metadata": {
        "id": "1TZ7jLisi1m8",
        "colab_type": "code",
        "colab": {}
      },
      "cell_type": "code",
      "source": [
        "artifact_trimmed_file_name = 'artifact.txt'"
      ],
      "execution_count": 0,
      "outputs": []
    },
    {
      "metadata": {
        "id": "4juHQ059iwyd",
        "colab_type": "code",
        "colab": {}
      },
      "cell_type": "code",
      "source": [
        "with open(artifact_trimmed_file_name, 'w', encoding='utf8') as f:\n",
        "  print(texts, file=f)"
      ],
      "execution_count": 0,
      "outputs": []
    },
    {
      "metadata": {
        "id": "CboypR0Nvm_x",
        "colab_type": "text"
      },
      "cell_type": "markdown",
      "source": [
        "## Train\n",
        "References:\n",
        "-   https://github.com/minimaxir/gpt-2-simple\n",
        "-   https://colab.research.google.com/drive/1VLG8e7YSEwypxU-noRNhsv5dW4NfTGce"
      ]
    },
    {
      "metadata": {
        "id": "_pdkhHU6wd12",
        "colab_type": "code",
        "colab": {
          "base_uri": "https://localhost:8080/",
          "height": 146
        },
        "outputId": "533bbac3-2615-4967-8009-1eb974a371d4"
      },
      "cell_type": "code",
      "source": [
        "import gpt_2_simple as gpt2\n",
        "\n",
        "gpt2.download_gpt2()"
      ],
      "execution_count": 11,
      "outputs": [
        {
          "output_type": "stream",
          "text": [
            "Fetching checkpoint: 1.00kit [00:00, 284kit/s]                                                      \n",
            "Fetching encoder.json: 1.04Mit [00:00, 45.1Mit/s]                                                   \n",
            "Fetching hparams.json: 1.00kit [00:00, 349kit/s]                                                    \n",
            "Fetching model.ckpt.data-00000-of-00001: 498Mit [00:08, 58.2Mit/s]                                  \n",
            "Fetching model.ckpt.index: 6.00kit [00:00, 1.73Mit/s]                                               \n",
            "Fetching model.ckpt.meta: 472kit [00:00, 39.0Mit/s]                                                 \n",
            "Fetching vocab.bpe: 457kit [00:00, 40.7Mit/s]                                                       \n"
          ],
          "name": "stderr"
        }
      ]
    },
    {
      "metadata": {
        "id": "tIQNCp3suNhH",
        "colab_type": "code",
        "outputId": "cab91f08-f168-4da0-e6f6-e6a18cd89c26",
        "colab": {
          "base_uri": "https://localhost:8080/",
          "height": 2314
        }
      },
      "cell_type": "code",
      "source": [
        "sess = gpt2.start_tf_sess()\n",
        "\n",
        "gpt2.finetune(sess,\n",
        "              dataset=artifact_trimmed_file_name,\n",
        "              steps=100\n",
        "              )"
      ],
      "execution_count": 12,
      "outputs": [
        {
          "output_type": "stream",
          "text": [
            "WARNING:tensorflow:From /usr/local/lib/python3.6/dist-packages/tensorflow/python/framework/op_def_library.py:263: colocate_with (from tensorflow.python.framework.ops) is deprecated and will be removed in a future version.\n",
            "Instructions for updating:\n",
            "Colocations handled automatically by placer.\n",
            "WARNING:tensorflow:From /usr/local/lib/python3.6/dist-packages/gpt_2_simple/src/sample.py:51: to_float (from tensorflow.python.ops.math_ops) is deprecated and will be removed in a future version.\n",
            "Instructions for updating:\n",
            "Use tf.cast instead.\n",
            "WARNING:tensorflow:From /usr/local/lib/python3.6/dist-packages/gpt_2_simple/src/sample.py:53: multinomial (from tensorflow.python.ops.random_ops) is deprecated and will be removed in a future version.\n",
            "Instructions for updating:\n",
            "Use tf.random.categorical instead.\n",
            "WARNING:tensorflow:From /usr/local/lib/python3.6/dist-packages/tensorflow/python/ops/math_ops.py:3066: to_int32 (from tensorflow.python.ops.math_ops) is deprecated and will be removed in a future version.\n",
            "Instructions for updating:\n",
            "Use tf.cast instead.\n",
            "WARNING:tensorflow:From /usr/local/lib/python3.6/dist-packages/tensorflow/python/ops/math_grad.py:102: div (from tensorflow.python.ops.math_ops) is deprecated and will be removed in a future version.\n",
            "Instructions for updating:\n",
            "Deprecated in favor of operator or tf.math.divide.\n",
            "Loading checkpoint models/117M/model.ckpt\n",
            "WARNING:tensorflow:From /usr/local/lib/python3.6/dist-packages/tensorflow/python/training/saver.py:1266: checkpoint_exists (from tensorflow.python.training.checkpoint_management) is deprecated and will be removed in a future version.\n",
            "Instructions for updating:\n",
            "Use standard file APIs to check for files with this prefix.\n",
            "INFO:tensorflow:Restoring parameters from models/117M/model.ckpt\n"
          ],
          "name": "stdout"
        },
        {
          "output_type": "stream",
          "text": [
            "\r  0%|          | 0/1 [00:00<?, ?it/s]"
          ],
          "name": "stderr"
        },
        {
          "output_type": "stream",
          "text": [
            "Loading dataset...\n"
          ],
          "name": "stdout"
        },
        {
          "output_type": "stream",
          "text": [
            "\r100%|██████████| 1/1 [00:05<00:00,  5.16s/it]\n"
          ],
          "name": "stderr"
        },
        {
          "output_type": "stream",
          "text": [
            "dataset has 848009 tokens\n",
            "Training...\n",
            "[1 | 9.85] loss=3.56 avg=3.56\n",
            "[2 | 12.00] loss=3.82 avg=3.69\n",
            "[3 | 14.14] loss=3.62 avg=3.67\n",
            "[4 | 16.29] loss=3.71 avg=3.68\n",
            "[5 | 18.45] loss=3.51 avg=3.64\n",
            "[6 | 20.61] loss=3.65 avg=3.65\n",
            "[7 | 22.78] loss=3.47 avg=3.62\n",
            "[8 | 24.95] loss=3.44 avg=3.60\n",
            "[9 | 27.11] loss=3.48 avg=3.58\n",
            "[10 | 29.29] loss=3.14 avg=3.54\n",
            "[11 | 31.48] loss=3.59 avg=3.54\n",
            "[12 | 33.67] loss=3.43 avg=3.53\n",
            "[13 | 35.86] loss=3.41 avg=3.52\n",
            "[14 | 38.05] loss=3.63 avg=3.53\n",
            "[15 | 40.24] loss=3.46 avg=3.52\n",
            "[16 | 42.45] loss=3.44 avg=3.52\n",
            "[17 | 44.66] loss=3.47 avg=3.52\n",
            "[18 | 46.87] loss=3.41 avg=3.51\n",
            "[19 | 49.09] loss=3.55 avg=3.51\n",
            "[20 | 51.31] loss=3.36 avg=3.50\n",
            "[21 | 53.53] loss=3.30 avg=3.49\n",
            "[22 | 55.76] loss=3.52 avg=3.49\n",
            "[23 | 58.00] loss=3.44 avg=3.49\n",
            "[24 | 60.23] loss=3.23 avg=3.48\n",
            "[25 | 62.48] loss=3.54 avg=3.48\n",
            "[26 | 64.72] loss=3.42 avg=3.48\n",
            "[27 | 66.97] loss=3.40 avg=3.48\n",
            "[28 | 69.23] loss=3.37 avg=3.47\n",
            "[29 | 71.48] loss=3.45 avg=3.47\n",
            "[30 | 73.75] loss=3.17 avg=3.46\n",
            "[31 | 76.02] loss=3.45 avg=3.46\n",
            "[32 | 78.29] loss=3.31 avg=3.45\n",
            "[33 | 80.57] loss=3.43 avg=3.45\n",
            "[34 | 82.85] loss=3.32 avg=3.45\n",
            "[35 | 85.14] loss=3.39 avg=3.45\n",
            "[36 | 87.44] loss=3.60 avg=3.45\n",
            "[37 | 89.74] loss=3.35 avg=3.45\n",
            "[38 | 92.04] loss=3.39 avg=3.45\n",
            "[39 | 94.34] loss=3.52 avg=3.45\n",
            "[40 | 96.64] loss=3.40 avg=3.45\n",
            "[41 | 98.93] loss=3.21 avg=3.44\n",
            "[42 | 101.23] loss=3.30 avg=3.44\n",
            "[43 | 103.52] loss=3.41 avg=3.44\n",
            "[44 | 105.81] loss=3.38 avg=3.43\n",
            "[45 | 108.10] loss=3.45 avg=3.43\n",
            "[46 | 110.37] loss=3.29 avg=3.43\n",
            "[47 | 112.65] loss=3.30 avg=3.43\n",
            "[48 | 114.92] loss=3.40 avg=3.43\n",
            "[49 | 117.19] loss=3.35 avg=3.42\n",
            "[50 | 119.46] loss=3.47 avg=3.43\n",
            "[51 | 121.73] loss=3.40 avg=3.42\n",
            "[52 | 123.99] loss=3.14 avg=3.42\n",
            "[53 | 126.25] loss=3.28 avg=3.41\n",
            "[54 | 128.51] loss=3.47 avg=3.42\n",
            "[55 | 130.76] loss=3.13 avg=3.41\n",
            "[56 | 133.02] loss=3.25 avg=3.41\n",
            "[57 | 135.28] loss=3.41 avg=3.41\n",
            "[58 | 137.53] loss=3.27 avg=3.40\n",
            "[59 | 139.79] loss=3.50 avg=3.40\n",
            "[60 | 142.04] loss=3.51 avg=3.41\n",
            "[61 | 144.29] loss=3.34 avg=3.41\n",
            "[62 | 146.55] loss=3.30 avg=3.40\n",
            "[63 | 148.81] loss=3.22 avg=3.40\n",
            "[64 | 151.08] loss=3.56 avg=3.40\n",
            "[65 | 153.34] loss=3.34 avg=3.40\n",
            "[66 | 155.60] loss=3.46 avg=3.40\n",
            "[67 | 157.87] loss=3.22 avg=3.40\n",
            "[68 | 160.14] loss=3.18 avg=3.39\n",
            "[69 | 162.40] loss=3.28 avg=3.39\n",
            "[70 | 164.68] loss=3.22 avg=3.39\n",
            "[71 | 166.95] loss=3.38 avg=3.39\n",
            "[72 | 169.23] loss=3.28 avg=3.39\n",
            "[73 | 171.50] loss=3.34 avg=3.39\n",
            "[74 | 173.79] loss=3.22 avg=3.38\n",
            "[75 | 176.07] loss=3.29 avg=3.38\n",
            "[76 | 178.35] loss=3.13 avg=3.38\n",
            "[77 | 180.63] loss=3.16 avg=3.37\n",
            "[78 | 182.90] loss=3.16 avg=3.37\n",
            "[79 | 185.18] loss=3.45 avg=3.37\n",
            "[80 | 187.46] loss=3.26 avg=3.37\n",
            "[81 | 189.74] loss=3.27 avg=3.37\n",
            "[82 | 192.01] loss=3.33 avg=3.37\n",
            "[83 | 194.29] loss=3.23 avg=3.36\n",
            "[84 | 196.57] loss=3.27 avg=3.36\n",
            "[85 | 198.85] loss=3.27 avg=3.36\n",
            "[86 | 201.12] loss=3.29 avg=3.36\n",
            "[87 | 203.40] loss=3.32 avg=3.36\n",
            "[88 | 205.67] loss=3.39 avg=3.36\n",
            "[89 | 207.94] loss=3.28 avg=3.36\n",
            "[90 | 210.21] loss=2.98 avg=3.35\n",
            "[91 | 212.47] loss=3.28 avg=3.35\n",
            "[92 | 214.74] loss=3.26 avg=3.35\n",
            "[93 | 217.01] loss=3.20 avg=3.35\n",
            "[94 | 219.29] loss=3.26 avg=3.34\n",
            "[95 | 221.56] loss=3.29 avg=3.34\n",
            "[96 | 223.83] loss=3.11 avg=3.34\n",
            "[97 | 226.09] loss=3.30 avg=3.34\n",
            "[98 | 228.35] loss=3.22 avg=3.34\n",
            "[99 | 230.62] loss=3.29 avg=3.34\n",
            "Saving checkpoint/run1/model-100\n"
          ],
          "name": "stdout"
        }
      ]
    },
    {
      "metadata": {
        "id": "UAmXAeJbweEp",
        "colab_type": "code",
        "outputId": "a5099f5e-216a-4267-de25-68d6dee4ee17",
        "colab": {
          "base_uri": "https://localhost:8080/",
          "height": 368
        }
      },
      "cell_type": "code",
      "source": [
        "num_samples = 3\n",
        "\n",
        "gpt2.generate(sess, nsamples=num_samples, prefix='I love Artifact')\n",
        "gpt2.generate(sess, nsamples=num_samples, prefix='I hate Artifact')"
      ],
      "execution_count": 13,
      "outputs": [
        {
          "output_type": "stream",
          "text": [
            "I love Artifact. It is a fantastic game that is fun to play and burnish your collection.\", \"P.S. If you don't like business card games, don't buy this game.  If you do, you'll instantly be spending money on the game to satisfy your preconstructed preconstructed preconstructed preconstructed preconstructed preconstructed preconstructed preconstructed preconstructed preconstructed preconstructed preconstructed preconstructed preconstructed preconstructed preconstructed preconstructed preconstructed preconstructed preconstructed it's all there.\", 'I love this game. I'm a big fan of Dota and Hearthstone and all of the other cards and they're all great, but Artifact is a lot more serious and complex than most of the other card games out there.  They have a lot of depth and are deep enough that it's easy to tell if you're trying to learn something or not.', 'P.P.S. If you aren't interested in card games, don't buy this game.   If you're a long time Magic player or MTG player or anything you can imagine, you won't be disappointed.', 'The gold is my money. The game has a lot of depth and is fun. I think the most tedious part is figuring out how to get some cards, but that's not really my focus here. It's good. I'm having a blast, but that's not all I want!', \"I like the gameplay. I like the tactical gameplay. I like the feedback. I like the lore. I like the gameplay more. I'm not a big fan of getting into packs for free, but if I wanted to play this game for a dollar, I'd probably do that. I like it a lot. I like the experience, but I don't really like the monetization system of buying one card for 20 cents on the market. So I don't actually mind. I like the game a lot and I like it a lot. I'm not gonna say I don't enjoy it, but I don't really like it.\", 'I really like the visuals but this is the first game I've seen that has a lot of randomness. Even in a game that's meant to be played by a skilled player, it's still going to be random. It's going to be random. The randomness is just so bad that it's hard to be an expert in Artifact.', 'This game is a little bit different than Magic, but I think I'll be better with the game. It's more balanced than Hearthstone.', 'I'm guessing it's going to be a bit more competitive than Hearthstone. I'm not being overly harsh here, but I'm not complaining about the market model either. You may not be able to put as much RNG and luck into every single game.', \"I'm not here to be a \"gamers only\" critic, I'm here to be a little more constructive. I'm not here to be a \"gamers only\" critic, I'm here to be a little more constructive. I'm not here to be a \"gamers only\" critic, I'm here to be a little more constructive.\", \"I love the game. It's fun. I like it a lot. I like the game a lot. I like the game a lot. I like the game a lot. I can't recommend it if you want to know what's going on in the game.\", \"But I like the game a lot. I like the game a lot. I like the game a lot. I like the game a lot. I can't recommend it if you want to know what's going on in the game.\", \"This is not a \"pay to win\" game like I started it off. It's not a \"pay to win\" game like I started it off.\", \"The game is pretty fun. It's not a grind fest. It's not a grind fest. It's not a grind fest. I've played Hearthstone, Magic, Magic the Gathering, and Hearthstone before, and I've never been able to enjoy the game more. The game is fun. I like it a lot. I like the game a lot. I like the game a lot.\", \"The game is pretty fun.\", \"It's not a grind fest. It's not a grind fest. I've played Hearthstone, Magic, Magic the Gathering, and Hearthstone before, and I've never been able to enjoy the game more. The game is fun. I like it a lot.\", \"It's not a grind fest. It's not a grind fest. I've played Hearthstone, Magic, Magic the Gathering, and Hearthstone before, and I've never been able to enjoy the game more.\", \"The game is pretty fun. It's not a grind fest. It's not a grind fest.\", \"The game is pretty fun. I don't like it a lot. I like the game a lot. I like the game a lot. I like the game a lot. I like\n",
            "====================\n",
            "\n",
            "I love Artifact. I just love how different the three lanes are. I really like the movement and the animations. The balancing is great. I have to say that I don't like having to pay to play constructed. I really like the fact that the game gives you 2 legendaries and you can play drafts for free. I can't recommend this game to everyone, but if you are feeling a little bit lucky, I suggest you try it. If you are just looking for a casual card game, I suggest you try it, because I think it will be a lot cheaper.\", \"Artifact is a game with a lot of potential. You can easily turn into a first person shooter or a card game. I'd recommend it for those looking for a way to play a game that feels fresh and free to play without spending money.\", 'If you are looking for a game that's fun and deep, consider this.', 'The game itself is pretty good. There's a lot of depth to the game, games are fun, but some mistakes can be costly. The art style is quite good, there's a lot of strategy, but the game itself is a little kludgy.', 'The game is really good, but people complaining about the monetization are missing out.', \"The game is not cheap, but it is not expensive for a game like Hearthstone. I was a fan of Artifact and I use it because of the card model and the abilities that you get with it. I enjoy the game as much as I do and I'm really enjoying it. I'm a big fan of Artifact, but I can't recommend it to anyone who has really low skill levels.\", 'I love the monetization, but I have to say it is not for everyone. I think it will be $20 to $30 for the core game. It will cost you money if you want to play constructed, but it will be more expensive if you want to play draft.', 'I'm really enjoying this game. I'm not a big fan of the monetization, but I do like how it feels. I'm not a big fan of the monetization, but I do like how it feels. I'm not a big fan of the monetization, but I do like how it feels. I'm really enjoying the game as much as I enjoy it. I can't recommend it for anybody.', 'I'm not a big fan of the monetization, but I do like how it feels. I'm not a big fan of the monetization, but I do like how it feels. I'm not a big fan of the monetization, but I do like how it feels. I'm really enjoying the game as much as I enjoy it. I can't recommend it for anybody.', \"It's not for everyone. I love the game, I really do, and I'm really enjoying it. I'm a big fan of the game, but I can't recommend it for anyone without spending money.\", \"I don't think it's a bad game, but I don't think it's worth the money in the end. If you don't want to spend money on anything, you can play casual card games like Hearthstone or Magic the Gathering. I think that's one of the best modes you can play, and the game is free, but you're still going to get a few tickets, and if you don't want to spend money, you can play a few different modes like draft. I think that's a good bit of a lot of fun, and it's a lot of fun to play, but I don't think it's fun to play for free.\", \"You don't have to buy a ticket to play, but you do have to buy a card. I've been playing Magic the Gathering for a long time, and I don't think I ever lost a match, but I don't think I ever lost a card game that I enjoy playing. It's not that hard, I can go to tournaments and I can just play. I know the game has a lot of complexity, but it's really fun to play. The biggest downside is that it's not really for everyone, but it's not that hard. I like it because I don't have to spend money to play the game, but I don't like the fact that I have to buy a lot of cards to play the game, and I don't like the fact that I can just play casual phantom drafts and get some tickets, and I can play a lot of other modes, but I don't think I've ever lost a match, but I don't think I ever lost a card game that I enjoy playing. It's not that hard, I can go to tournaments and I can just play. I know the game has a lot of complexity, but it's really fun to play, and I like it because I don't have to spend money to play the game.\", \"The game has a lot of depth, but the monetization is just a big\n",
            "====================\n",
            "\n",
            "I love Artifact, and the gameplay is fun, but the way you're having to spend money is just ridiculous to me. I can't play competitively in Artifact, but I can play the competitive modes, and I have to pay for them. And, for those that don't have any money, you don't have to spend anywhere. I didn't even need to buy anything, and I could buy the packs I wanted, and play a few matches, and the game would just give me a ticket to play them.\", \"As a Magic fan and a Magic fan, I was surprised to find out that there is a real plan on how to make this game work and work well. The initial cards, the \"draft\" mode, and the \"curve\" mode are great. I'm a Magic card game fan for over 20 years, and I'm very much an amnesiac. I like the meta game, it's fun to play, and it's super fun to play with friends. The game is very fun and has a lot of depth. The game is easy to understand and understand, and the game itself is very unique. I would say that the monetization is a bit above average, but it is very good. I would recommend the game if you're a Magic fan. I'm not complaining, I'm not a Magic fan, I simply love the game. I'm not a Magic fan, I'm a Magic fan.\", 'The game is fun, but there's a lot of things to consider. For example, the \"curve\" mode, which is where you can play a lot of different cards at once, is really fun. There are cards that you control, and they're actually pretty strong. The amount of \"curves\" you have to play is pretty small, so you have to really carefully consider how to play them, and how they're going to play out in the long run. There's a lot of balance to be had, and the game is really enjoyable. I don't think I'll ever play a game that's not really fun and I love the way the game is designed. However, I have a lot of faith that this game will work out, and I'm very happy with how it has turned out.', 'Also, the economy is great as a whole, and I can put all my stuff in a collection, and I can make the most money I can, which is a big plus in a lot of decks. I also prefer it that there is no free to play mode.', 'This game is really good, and I was very excited to give it a try. I am truly excited for the future of this game, and I will be playing it with friends for the next few years.', 'I am really proud of the game, and I highly recommend it to everyone. I'm still looking for the next big card game, but if you're interested in this type of game, I highly recommend it.', 'For those that are not familiar with this game, it is a card game where you play with cards. Your deck is randomly chosen, with the number of cards you win determines the number of cards you get.  The game has a very fast paced economy and a lot of depth. I have not played a card game that involved playing with cards for a long period of time. I have played a lot of card games, and I have found this to be the best card game I have ever played. I love the fact that there is no grinding.  I am an expert in Artifact, and I have already spent a lot of money on packs and tickets, and am also a lot of fun.', \"I have played a lot of card games, and I have found this to be the best card game I have ever had the pleasure of playing. I have spent a lot of money on a lot of cards, and I am a huge fan of this game.\", 'This game is a brilliant idea if you want to be competitive. It's been awhile since I've been able to play competitively, but I am currently using this game to try out a few matches. I really enjoyed this game, and I have very much enjoyed playing. I feel like this game will continue to grow as the game goes on. I am happy that I'm able to play this game and enjoy it as much as I do.', \"I have a lot of faith in this game, and I'm excited to see how it evolves. I have played a lot of card games and I have its flaws. I am a big fan of this game, and I am excited to see how it evolves. I have played a lot of card games, and I have been able to play a lot of cards. This game is super fun, and I am very excited for its future. I am very happy about the game's future. It is a bit expensive for a card game, but I am really, really happy about it.\", 'I really like the game, and the monet\n",
            "====================\n",
            "\n",
            "I hate Artifact. You can't play as much as you want and you have to buy cards to get what you want. At least, that's how I see it, but this is a scam.\", \"Really bad representation of how a game should be.\", 'It's a review game, not a buy/sell. The game is not a buy, it's a sell.', 'The biggest complaint you can have with this game is that it's really bad. The game is slow and boring and it's hard to understand. The gameplay is pretty convoluted and the monetization is insane. The game is garbage, the monetization is terrible and I will not be replaying this game. I recommend you to people who are like me, like a hardcore tabletop game, and who are just not interested in games. Please, Valve, please stop this game.', 'This game is garbage, and I will not be playing it for a long time.', 'I have played some of the highest priced card games, and the \"combo\" system is an absolute hit. It is not a good idea to have to purchase cards in order to play competitively. This is a scam game, not a buy.', 'Do you really want to spend thousands of dollars on a product? You are going to have to buy a ticket, and pay for tickets. This is one of the worst games on the market and they have ruined the money of people who don't care about the game.', 'I will also not be playing this game for a long time, because I really want to play casual TCG's.', \"This is the worst game I have ever played. You don't even get to play for a full day on the market for a full set. I am not a TCG fan, not even a casual player. I love Artifact, and I will not be playing it for a long time. This is the worst game I have ever played, and I will not be playing it for a long time. It is not a fun game, and it is not a good game. I have played MTG and Hearthstone, and I have never played any other card game. I am not a TCG fan, but I am a casual player. I have never played a card game before, and I am not even a TCG fan. I feel the need to listen to people who are not TCG fans, but I am a TCG fan. I will end this review because I am a TCG fan. This game is not worth it. If you want to be competitive, have fun, and have fun playing this game. It is not worth spending money on.\", \"I had a blast playing this game. Plays very well, has a lot of depth, and I love the game. I don't want to spend more to have more fun with the game, but it is not free to play. I don't want to spend more money than I would have to to play the game for fun and I am not a TCG fan. I will end this review because I am a TCG fan. I love this game. I have a good reason to love this game. I don't want to spend more money than I would have to spend to play the game for fun, but I am not a TCG fan and I will not be playing this game. I have a good reason to love this game. I'm a TCG fan, and I hate this game. I will end this review because I am a TCG fan. I love this game, I love this game, I love this game, I love this game. I love this game. I hate this game. I love it. I love it. I love this game. I hate it. I love it. I love it. I'm losing it. I love it. I love this game, I love it. I love it. I love this game. I love it, I love it. I love it. I love it. I love it. I love it. I love it. I love it. I love it. I love it. I love it. I love it. I love it. I love it. I love it.\", 'I want to play this game for two whole hours, but I can't. I don't want to buy tickets, I don't want to buy anything. I don't want to play any other game.', 'You can't play this game for a full day on the market, and you can't. You can't buy any cards, and you can't play any other game.', 'I want to play this game for a very long time, but I can't. I don't want to buy tickets, I don't want to buy anything. I don't want to play any other game.', 'I want to play this game for two whole hours, but I can't. I don't want to play any other game.', 'I want to play this\n",
            "====================\n",
            "\n",
            "I hate Artifact, I love it but I don't have the time to have it play any other card game.\", \"I am a big fan of the lore, it is a really great game. I am a big fan of the card art, I love the animations and the presentation. I'm a big fan of the community, and I really like the lore.  I enjoy every aspect of this game. I'm a fan of trading card games and I really like the idea of a trading card game. I really like this game and I really like the gameplay.\", \"Fun game. I can't wait to try it out and see what I like and how I like it.\", 'If you want to play a TCG you should buy it.', \"I love this game, it's pretty competitive.\",, \"The system is very well-designed and it is very competitive.  I am loving the progression and the skill of this game.  It's a lot of fun to play and to play competitly, it's a lot more fun than most online card games.  I've played a lot of card games, but Artifact really shines in the competitive ones.  I can see myself playing this for years, but I don't want to spend huge amounts of money just to win, but that's a lot of fun.\", 'I strongly recommend this game, it's a lot of fun to play, and I'm loving it.', 'I want to like this game more. I think Artifact is a great game to play with friends and enjoy the game mode.', 'I want to like this game more.', 'My initial purchase was a great deal and I will continue to play it for years to come. I even have a match where I run out of dust and I end up winning by a small amount. It's a fantastic game and I can\\'t wait to get into it.', \"I really like these games, they are both fun and interesting to play. The gameplay is cool, and there is a lot of replayability to this game. I'm enjoying the game immensely. I'm not sure it will be as popular as there is a lot of negativity about it. It's not like it's a game where you have to be a top player to win a lot of games. You just need to be able to play well to get into a top tier card game. I've played Magic and Magic Arena and they were all very good, but Artifact is much more of a \"fun game\" to play. It's a lot of fun to play, and I've seen a lot of people complaining about it, but it's actually really fun to play. I do not expect to have all the cards in the game, but I don't think it will be a problem. I'm not sure what the problem is, but I think its fun enough that I will just stick with it.\", \"I love the idea of hands-free play. You can play against any player for free, and you can play against any deck for free. I love the fact that I can create decks for free with the cards I own. I am not a huge fan of the monetization model, but I am a big fan of it and I'm excited to see how it evolves as more people begin to see it as a viable option. I really enjoy the free starter decks I have from playing the game, and I think this is a very good thing, and I think people will enjoy it too.\", \"I don't think it's a bad thing for people to be able to play for free. They have a base here, and I think the money is going to buy into it. I'm going to be very happy with that.\", \"I am also very excited and excited to see how the game evolves. I've been playing Magic since I was a kid, and I've been playing Artifact since I was a kid, and I've been playing it for a long time. I've seen it in the 30 or 60 years of Magic lore. I've tried it, and I've had a lot of fun. I'm not going to critique this game, or give it a negative review, but I'd like to see some of the things that are going on in the game, and some of the things that I don't think are going on in the game. I think the money is going to go into the game, and I'm sure it will. I'm not sure how it's going to evolve with the more popular players and the more casual players, but I think it's going to be a lot of fun for people to try it out. I don't think it's a problem, but I do not think it's fun to play.\", 'I am excited about the future of this game.', 'I like the mechanics.', 'I like the way the game is going.', 'I like the way it has a little bit of a challenge, but I think it's going to be a lot more\n",
            "====================\n",
            "\n",
            "I hate Artifact but I have never played a card that I could not already know before I played in a casual draft. The game is absurd and lacking any kind of progression.\", \"I have no problem with this game and I see it as a great game.\", \"In terms of the monetization, it is not bad at all. I have not played the whole 4-5 weeks, and I am enjoying myself immensely. I am using a 20 dollar dollar card/pack and I am getting a lot of cards with my deck in the shop. I have no issues with it, but I am a big fan of the monetization model and I would have given this game a negative review if I didn't like the monetization.\", \"This game is good for people who are looking for a game that has depth, that is affordable, and a bit more complicated than Hearthstone. As a person who has been playing card games for over 20 years, I can say that the game is deep and it has a lot of replayability. I recommend this game to people who are looking for a more complex and deep game. The monetization is incredibly fair and I like it.\", 'I have played my whole life and am still doing it. I have played Magic the Gathering, Magic: The Gathering, Eternal and Hearthstone but I have never played a card game that I do not have a deep love for. I love games like Dota and Magic and I love the challenge that Magic presents. I have never played a game that I do not have a deep love for. I love the games that I am playing and I am thrilled I am enjoying the game. I am not a fan of the monetization model and it is a shame that it is not in the best place. I don't have any bad feelings about it but I will recomend it.', 'I was even surprised when I tried it out for the first time and I could not stop enjoying it. I have played all of the games that Valve has released, and I have never felt like I was losing to a bad player. I have never felt like I was winning in a game that I didn't have the chance to experience. This game is huge and I am very happy with my experience.', 'I highly recommend this game. It is a great experience. The prices are reasonable and the game is fun.', 'I will recommend this game to people who are looking for a competitive card game, but like me, don't like games that are really free. I would say that you can play for free for the first few hours, and then you will have to pay $20 for a full collection of cards (most of which are mostly not free) to play. The game is great, and fun, and I am a fan of the lore for many people. I am also a big fan of the Valve award system. I would really like to get a Valve award, but it is unlikely to ever happen.', 'I would recommend this game to anyone who enjoys the game. It is an amazing card game, and you can play for free in the marketplace for years to come. I highly recommend it.', \"This game is absolutely amazing, and I'm a big fan of the free modes. You can play for free in the game, and they have lots of prizes for free players.\", \"I am a huge fan of Dota and Hearthstone, but I have never played a game that I did not enjoy.\", 'I've been playing a lot of other things for a long time now, and I was loving this game. I was a little surprised that this game didn't come out in Steam, but I was really surprised. I had hoped that the game would be a little more polished, but it was a lot of fun, and a lot of fun. The voice acting is great, and the game is fun, but it feels lost in the background. The game is so full of fun and intense, but it really doesn't have a lot of depth. I don't know if I will ever play this game again, but I love it. I had a lot of fun playing this game, and I am very happy with the way it has changed over time. Hopefully this game will stay fun for years to come, and I will keep playing it.', \"I still have a lot of questions about this game, but I'm happy to say I'm enjoying it. I do think there are a lot of different modes that you can play in, and I think there are lots of ways to play some of them, but I've been enjoying this game a lot more. I think it is a lot more fun than I thought it would be. I think it's a very good game to play, and the fact that it's a lot of fun, and there's a lot of free stuff out there for people to play with.\", \"I'm not a huge game player, but I like this game a lot. It's a lot of fun, and it's not as expensive as some\n",
            "====================\n",
            "\n"
          ],
          "name": "stdout"
        }
      ]
    }
  ]
}