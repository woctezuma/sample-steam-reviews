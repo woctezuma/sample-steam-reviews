{
  "nbformat": 4,
  "nbformat_minor": 0,
  "metadata": {
    "colab": {
      "name": "gpt-2.ipynb",
      "version": "0.3.2",
      "provenance": [],
      "collapsed_sections": []
    },
    "kernelspec": {
      "name": "python3",
      "display_name": "Python 3"
    },
    "accelerator": "GPU"
  },
  "cells": [
    {
      "metadata": {
        "id": "5u6MjGQAuzWN",
        "colab_type": "text"
      },
      "cell_type": "markdown",
      "source": [
        "# Sample Steam Reviews with GPT-2\n",
        "Code inspired from https://github.com/woctezuma/sample-steam-reviews"
      ]
    },
    {
      "metadata": {
        "id": "u5sUYDD_yUpa",
        "colab_type": "text"
      },
      "cell_type": "markdown",
      "source": [
        "## Mounting Google Drive"
      ]
    },
    {
      "metadata": {
        "id": "xoMipX3cyXVb",
        "colab_type": "code",
        "colab": {
          "base_uri": "https://localhost:8080/",
          "height": 35
        },
        "outputId": "29253e1f-6cc8-4be2-c603-07079f2f5820"
      },
      "cell_type": "code",
      "source": [
        "from google.colab import drive\n",
        "\n",
        "mount_folder = '/content/gdrive'\n",
        "drive.mount(mount_folder)"
      ],
      "execution_count": 1,
      "outputs": [
        {
          "output_type": "stream",
          "text": [
            "Drive already mounted at /content/gdrive; to attempt to forcibly remount, call drive.mount(\"/content/gdrive\", force_remount=True).\n"
          ],
          "name": "stdout"
        }
      ]
    },
    {
      "metadata": {
        "id": "kwi74DBfyX8u",
        "colab_type": "code",
        "colab": {
          "base_uri": "https://localhost:8080/",
          "height": 35
        },
        "outputId": "24c96449-bf56-4483-f521-46065f8e3431"
      },
      "cell_type": "code",
      "source": [
        "%cd '/content/gdrive/My Drive/'"
      ],
      "execution_count": 2,
      "outputs": [
        {
          "output_type": "stream",
          "text": [
            "/content/gdrive/My Drive\n"
          ],
          "name": "stdout"
        }
      ]
    },
    {
      "metadata": {
        "id": "2KjP9yVVveN1",
        "colab_type": "text"
      },
      "cell_type": "markdown",
      "source": [
        "## Setting the GPT-2 model"
      ]
    },
    {
      "metadata": {
        "id": "C8loaXLvwIYE",
        "colab_type": "text"
      },
      "cell_type": "markdown",
      "source": [
        "Install the Python package\n",
        "\n",
        "Reference: https://github.com/minimaxir/gpt-2-simple"
      ]
    },
    {
      "metadata": {
        "id": "_1ruwgwCuEHd",
        "colab_type": "code",
        "outputId": "1f1d2130-3325-40e6-da73-73503af66775",
        "colab": {
          "base_uri": "https://localhost:8080/",
          "height": 182
        }
      },
      "cell_type": "code",
      "source": [
        "!pip install gpt_2_simple"
      ],
      "execution_count": 3,
      "outputs": [
        {
          "output_type": "stream",
          "text": [
            "Requirement already satisfied: gpt_2_simple in /usr/local/lib/python3.6/dist-packages (0.1)\n",
            "Requirement already satisfied: regex in /usr/local/lib/python3.6/dist-packages (from gpt_2_simple) (2018.1.10)\n",
            "Requirement already satisfied: numpy in /usr/local/lib/python3.6/dist-packages (from gpt_2_simple) (1.16.2)\n",
            "Requirement already satisfied: tqdm in /usr/local/lib/python3.6/dist-packages (from gpt_2_simple) (4.28.1)\n",
            "Requirement already satisfied: requests in /usr/local/lib/python3.6/dist-packages (from gpt_2_simple) (2.18.4)\n",
            "Requirement already satisfied: idna<2.7,>=2.5 in /usr/local/lib/python3.6/dist-packages (from requests->gpt_2_simple) (2.6)\n",
            "Requirement already satisfied: certifi>=2017.4.17 in /usr/local/lib/python3.6/dist-packages (from requests->gpt_2_simple) (2019.3.9)\n",
            "Requirement already satisfied: chardet<3.1.0,>=3.0.2 in /usr/local/lib/python3.6/dist-packages (from requests->gpt_2_simple) (3.0.4)\n",
            "Requirement already satisfied: urllib3<1.23,>=1.21.1 in /usr/local/lib/python3.6/dist-packages (from requests->gpt_2_simple) (1.22)\n"
          ],
          "name": "stdout"
        }
      ]
    },
    {
      "metadata": {
        "id": "nTkq7wEQwEkZ",
        "colab_type": "text"
      },
      "cell_type": "markdown",
      "source": [
        "Download the pre-trained model"
      ]
    },
    {
      "metadata": {
        "id": "_pdkhHU6wd12",
        "colab_type": "code",
        "outputId": "e259502c-037a-46a3-d7f2-9f82481948c0",
        "colab": {
          "base_uri": "https://localhost:8080/",
          "height": 146
        }
      },
      "cell_type": "code",
      "source": [
        "import gpt_2_simple as gpt2\n",
        "\n",
        "gpt2.download_gpt2()"
      ],
      "execution_count": 4,
      "outputs": [
        {
          "output_type": "stream",
          "text": [
            "Fetching checkpoint: 1.00kit [00:00, 269kit/s]                                                      \n",
            "Fetching encoder.json: 1.04Mit [00:00, 44.6Mit/s]                                                   \n",
            "Fetching hparams.json: 1.00kit [00:00, 470kit/s]                                                    \n",
            "Fetching model.ckpt.data-00000-of-00001: 498Mit [00:09, 52.6Mit/s]                                  \n",
            "Fetching model.ckpt.index: 6.00kit [00:00, 1.81Mit/s]                                               \n",
            "Fetching model.ckpt.meta: 472kit [00:00, 35.8Mit/s]                                                 \n",
            "Fetching vocab.bpe: 457kit [00:00, 40.6Mit/s]                                                       \n"
          ],
          "name": "stderr"
        }
      ]
    },
    {
      "metadata": {
        "id": "EO62_p_Ovk8y",
        "colab_type": "text"
      },
      "cell_type": "markdown",
      "source": [
        "## Setting the input data\n",
        "Store page: https://store.steampowered.com/app/583950/Artifact/"
      ]
    },
    {
      "metadata": {
        "id": "FsqlMjU5vtbU",
        "colab_type": "text"
      },
      "cell_type": "markdown",
      "source": [
        "Download"
      ]
    },
    {
      "metadata": {
        "id": "IFJvTpQFuWa0",
        "colab_type": "code",
        "outputId": "750e34ed-54d9-47bc-df88-8d1c5a3a4fb5",
        "colab": {
          "base_uri": "https://localhost:8080/",
          "height": 72
        }
      },
      "cell_type": "code",
      "source": [
        "!curl -O https://raw.githubusercontent.com/woctezuma/sample-steam-reviews/master/output/583950.txt"
      ],
      "execution_count": 5,
      "outputs": [
        {
          "output_type": "stream",
          "text": [
            "  % Total    % Received % Xferd  Average Speed   Time    Time     Time  Current\n",
            "                                 Dload  Upload   Total   Spent    Left  Speed\n",
            "\r  0     0    0     0    0     0      0      0 --:--:-- --:--:-- --:--:--     0\r  0     0    0     0    0     0      0      0 --:--:-- --:--:-- --:--:--     0\r100 3579k  100 3579k    0     0  8582k      0 --:--:-- --:--:-- --:--:-- 8562k\n"
          ],
          "name": "stdout"
        }
      ]
    },
    {
      "metadata": {
        "id": "DknzBlfdvvyo",
        "colab_type": "text"
      },
      "cell_type": "markdown",
      "source": [
        "Load"
      ]
    },
    {
      "metadata": {
        "id": "xWtKDT5q0342",
        "colab_type": "code",
        "colab": {}
      },
      "cell_type": "code",
      "source": [
        "artifact_file_name = '583950.txt'"
      ],
      "execution_count": 0,
      "outputs": []
    },
    {
      "metadata": {
        "id": "4tVhSIvf0cPP",
        "colab_type": "code",
        "outputId": "44f732d2-c5f0-4c14-936b-75afbbeeb494",
        "colab": {
          "base_uri": "https://localhost:8080/",
          "height": 35
        }
      },
      "cell_type": "code",
      "source": [
        "with open(artifact_file_name, 'r', encoding='utf8') as f:\n",
        "  lines = [line.strip() for line in f.readlines()]\n",
        "  \n",
        "print('#lines = {}'.format(len(lines)))"
      ],
      "execution_count": 7,
      "outputs": [
        {
          "output_type": "stream",
          "text": [
            "#lines = 25728\n"
          ],
          "name": "stdout"
        }
      ]
    },
    {
      "metadata": {
        "id": "WwIbmAnQ2MnD",
        "colab_type": "text"
      },
      "cell_type": "markdown",
      "source": [
        "Remove empty lines"
      ]
    },
    {
      "metadata": {
        "id": "ud1m_CMZ1vyF",
        "colab_type": "code",
        "outputId": "db316967-e810-4b2a-f8a5-1c798e606789",
        "colab": {
          "base_uri": "https://localhost:8080/",
          "height": 35
        }
      },
      "cell_type": "code",
      "source": [
        "texts = [line for line in lines if len(line)>0]\n",
        "\n",
        "print('#lines = {}'.format(len(texts)))"
      ],
      "execution_count": 8,
      "outputs": [
        {
          "output_type": "stream",
          "text": [
            "#lines = 17575\n"
          ],
          "name": "stdout"
        }
      ]
    },
    {
      "metadata": {
        "id": "dbvcakoxkcsp",
        "colab_type": "text"
      },
      "cell_type": "markdown",
      "source": [
        "Save file without empty lines"
      ]
    },
    {
      "metadata": {
        "id": "1TZ7jLisi1m8",
        "colab_type": "code",
        "colab": {}
      },
      "cell_type": "code",
      "source": [
        "artifact_trimmed_file_name = 'artifact.txt'"
      ],
      "execution_count": 0,
      "outputs": []
    },
    {
      "metadata": {
        "id": "4juHQ059iwyd",
        "colab_type": "code",
        "colab": {}
      },
      "cell_type": "code",
      "source": [
        "line_separator = '\\n'\n",
        "\n",
        "with open(artifact_trimmed_file_name, 'w', encoding='utf8') as f:\n",
        "  print(line_separator.join(texts), file=f)"
      ],
      "execution_count": 0,
      "outputs": []
    },
    {
      "metadata": {
        "id": "CboypR0Nvm_x",
        "colab_type": "text"
      },
      "cell_type": "markdown",
      "source": [
        "## Fine-tune the GPT-2 model on my data\n",
        "Reference: \n",
        "https://colab.research.google.com/drive/1VLG8e7YSEwypxU-noRNhsv5dW4NfTGce"
      ]
    },
    {
      "metadata": {
        "id": "tIQNCp3suNhH",
        "colab_type": "code",
        "outputId": "1c96d769-4dc3-4348-a697-ae9b364278ad",
        "colab": {
          "base_uri": "https://localhost:8080/",
          "height": 4261
        }
      },
      "cell_type": "code",
      "source": [
        "sess = gpt2.start_tf_sess()\n",
        "\n",
        "gpt2.finetune(sess,\n",
        "              dataset=artifact_trimmed_file_name,\n",
        "              steps=1000,\n",
        "              restore_from='fresh',   # change to 'latest' to resume training\n",
        "              print_every=10,   # how many steps between printing progress\n",
        "              sample_every=200,   # how many steps to print a demo sample\n",
        "              save_every=500   # how many steps between saving checkpoint              \n",
        "              )"
      ],
      "execution_count": 11,
      "outputs": [
        {
          "output_type": "stream",
          "text": [
            "WARNING:tensorflow:From /usr/local/lib/python3.6/dist-packages/tensorflow/python/framework/op_def_library.py:263: colocate_with (from tensorflow.python.framework.ops) is deprecated and will be removed in a future version.\n",
            "Instructions for updating:\n",
            "Colocations handled automatically by placer.\n",
            "WARNING:tensorflow:From /usr/local/lib/python3.6/dist-packages/gpt_2_simple/src/sample.py:51: to_float (from tensorflow.python.ops.math_ops) is deprecated and will be removed in a future version.\n",
            "Instructions for updating:\n",
            "Use tf.cast instead.\n",
            "WARNING:tensorflow:From /usr/local/lib/python3.6/dist-packages/gpt_2_simple/src/sample.py:53: multinomial (from tensorflow.python.ops.random_ops) is deprecated and will be removed in a future version.\n",
            "Instructions for updating:\n",
            "Use tf.random.categorical instead.\n",
            "WARNING:tensorflow:From /usr/local/lib/python3.6/dist-packages/tensorflow/python/ops/math_ops.py:3066: to_int32 (from tensorflow.python.ops.math_ops) is deprecated and will be removed in a future version.\n",
            "Instructions for updating:\n",
            "Use tf.cast instead.\n",
            "WARNING:tensorflow:From /usr/local/lib/python3.6/dist-packages/tensorflow/python/ops/math_grad.py:102: div (from tensorflow.python.ops.math_ops) is deprecated and will be removed in a future version.\n",
            "Instructions for updating:\n",
            "Deprecated in favor of operator or tf.math.divide.\n",
            "Loading checkpoint models/117M/model.ckpt\n",
            "WARNING:tensorflow:From /usr/local/lib/python3.6/dist-packages/tensorflow/python/training/saver.py:1266: checkpoint_exists (from tensorflow.python.training.checkpoint_management) is deprecated and will be removed in a future version.\n",
            "Instructions for updating:\n",
            "Use standard file APIs to check for files with this prefix.\n",
            "INFO:tensorflow:Restoring parameters from models/117M/model.ckpt\n"
          ],
          "name": "stdout"
        },
        {
          "output_type": "stream",
          "text": [
            "\r  0%|          | 0/1 [00:00<?, ?it/s]"
          ],
          "name": "stderr"
        },
        {
          "output_type": "stream",
          "text": [
            "Loading dataset...\n"
          ],
          "name": "stdout"
        },
        {
          "output_type": "stream",
          "text": [
            "\r100%|██████████| 1/1 [00:04<00:00,  4.81s/it]\n"
          ],
          "name": "stderr"
        },
        {
          "output_type": "stream",
          "text": [
            "dataset has 834870 tokens\n",
            "Training...\n",
            "[10 | 29.71] loss=3.53 avg=3.53\n",
            "[20 | 54.17] loss=3.58 avg=3.56\n",
            "[30 | 77.76] loss=3.40 avg=3.50\n",
            "[40 | 101.09] loss=3.48 avg=3.50\n",
            "[50 | 124.79] loss=3.61 avg=3.52\n",
            "[60 | 148.53] loss=3.37 avg=3.50\n",
            "[70 | 172.11] loss=3.28 avg=3.46\n",
            "[80 | 195.70] loss=3.13 avg=3.42\n",
            "[90 | 219.39] loss=3.36 avg=3.41\n",
            "[100 | 243.10] loss=3.44 avg=3.42\n",
            "[110 | 266.79] loss=3.22 avg=3.40\n",
            "[120 | 290.45] loss=3.20 avg=3.38\n",
            "[130 | 314.08] loss=3.28 avg=3.37\n",
            "[140 | 337.74] loss=3.25 avg=3.36\n",
            "[150 | 361.38] loss=3.04 avg=3.34\n",
            "[160 | 385.04] loss=3.17 avg=3.33\n",
            "[170 | 408.68] loss=3.15 avg=3.32\n",
            "[180 | 432.29] loss=3.12 avg=3.31\n",
            "[190 | 455.90] loss=3.29 avg=3.30\n",
            "======== SAMPLE 1 ========\n",
            ", and when you get to the last 2 lanes, there's no way to get any cards back.\n",
            "After having a few games played, I believe that the game really needs more updates to prevent people from buying the game on the Steam Market - and this update is a huge step forward.\n",
            "This game is worth your $20, that means your money, even if you are already playing Hearthstone!\n",
            "I recommend getting a refund in game or refund this game in the steam market and the cost of getting packs or buying more (that's less than the price of a 3 months' worth of Valve credit).\n",
            "If you really have no desire as a card game to buy other card games that are on the market, then go ahead and purchase this game.\n",
            "Best card game I've ever played. I like card games. But Artifact is the deepest game I have ever played.\n",
            "People complaining that it has too much RNG... that they will get tired of after a while.\n",
            "No. It's very fun, no one has to say a good damn damn thing if they are being told off by the community.\n",
            "Very deep strategy game with a lot of skill involved. Very affordable from day one, but it is well worth the buy-in if you really have to grind to be getting good at the game.\n",
            "Valve made an interesting, beautiful game and that has not been the case as far as I can tell, Artifact is the best card game I've ever played, and I'm looking forward to how it evolves in the years to come.\n",
            "So, it depends if you're a fan of traditional TCGs or you're just interested in the strategic game modes with a lot of fun.\n",
            "The gameplay is addicting, and fun. I get why some say the market is bad when the game is cheaper and more fun, but the game requires more money than what would be acceptable. The games modes you have to play with pay for cards, the tickets, and more. And there is no competitive competitive mode with only the highest-tier decks.\n",
            "A fun, free to play experience for those who love strategy games. It might be too long for some people, but for those who have been a loyal card gamer, this is for you.\n",
            "This game is fun. I really like the fact that there are draft modes as well as constructed. Every match with a constructed deck costs 20 cents and you will have to spend 20 more bucks on packs or to win 2 out of 3 matches.\n",
            "The monetization is pretty fair and I'm sure the games players are getting this game for will not change forever.\n",
            "The game itself is great. I spent 2 hours playing, playing 3 games for 2 hours, and finished a total of 10 wins.\n",
            "My complaint about the games price is unfounded. You can play constructed for free, or you can play phantom draft (single player), or you can spend money on tickets and cards just the game. To keep costs down, you just need a wallet/card library. You can play infinite draft or phantom drafts as well (with only one loss) and with no packs, tickets or rares like with the Steam Market currently, you can pick and choose what you want from free and/or pre-constructed decks.\n",
            "It doesn't need to cost 1 dollar. If you play with friends, you have some free time to spend with free packs if you want to get into constructed. It's cheaper to play, I like the fact that you can pick and choose what you want and you don't have to pay any more extra money. Plus you just get to play a game and enjoy the game more.\n",
            "The games complexity is amazing but they have the biggest RNG problem, which was the ability of buying and breaking the RNG. This RNG can easily be circumvented through clever cards.\n",
            "The draft mode is one of the biggest marketplaces though, but I'll be buying the full set if it gets better and matches can really be close. It costs more than other games and can be expensive.\n",
            "I have a friend who is a MTG player and has played Magic since 1995, and the amount of cards is high: from 16 and above to over 20 and the top 5: from 10 to over 40. This makes the constructed mode so many times more fun, and I feel like it's a much fairer game now because in this mode you need to be smart about what you play, and knowing how much you will need depends heavily on your deck.\n",
            "Pros:\n",
            "> The core gameplay is rich, strategic, complex, and has some of the best draft in any card game.\n",
            "> There are 2 starter decks for constructed, with a starting balance of one that will make your deck competitive\n",
            "> Playing with friends is fun, I started out with a deck that I've come better with since I opened booster packs.\n",
            "> The market is fair, there is no need to buy cards from the market, you only need to use your starter pack or\n",
            "\n",
            "[200 | 491.59] loss=3.13 avg=3.29\n",
            "[210 | 515.20] loss=3.06 avg=3.28\n",
            "[220 | 538.80] loss=3.11 avg=3.27\n",
            "[230 | 562.43] loss=2.98 avg=3.26\n",
            "[240 | 586.06] loss=3.23 avg=3.26\n",
            "[250 | 609.67] loss=3.08 avg=3.25\n",
            "[260 | 633.31] loss=3.06 avg=3.24\n",
            "[270 | 656.98] loss=3.18 avg=3.24\n",
            "[280 | 680.61] loss=2.98 avg=3.23\n",
            "[290 | 704.26] loss=2.93 avg=3.22\n",
            "[300 | 727.94] loss=2.91 avg=3.20\n",
            "[310 | 751.59] loss=3.08 avg=3.20\n",
            "[320 | 775.24] loss=2.76 avg=3.18\n",
            "[330 | 798.93] loss=2.93 avg=3.18\n",
            "[340 | 822.57] loss=3.10 avg=3.17\n",
            "[350 | 846.19] loss=2.88 avg=3.16\n",
            "[360 | 869.93] loss=2.83 avg=3.15\n",
            "[370 | 893.75] loss=2.94 avg=3.14\n",
            "[380 | 917.37] loss=2.91 avg=3.14\n",
            "[390 | 941.03] loss=3.02 avg=3.13\n",
            "======== SAMPLE 1 ========\n",
            " you will get some kind of rewards after spending $20.\n",
            "1. Card packs\n",
            "As a huge TCG fan, i was on board the beta version because i thought you are welcome and can make purchases. But after playing a lot of Hearthstone, Yu-Gi-Oh!, Gwent, MTG, Gwent Pro Tour, I found that people will hate on the game until they feel that you need to have packs.\n",
            "If you don't have a complete pack you will be happy playing this game in your free time.\n",
            "2. Casual and Paid modes\n",
            "All modes do not reward cards, so unless you spend money, you don't get anything. The only way to get card packs is to buy them with in-game currency (e.g. 1 Ticket).\n",
            "3. Free draft modes and Casual Phantom Draft\n",
            "Constructed Draft Play with a prize if u win a set. If u loose a set, if u win 2 games and lose.\n",
            "Playing in these modes is fine and well so far.\n",
            "Pauper Free Draft!\n",
            "You have to spend a ticket, in order to play this game, you have to play in casual/open draft. Don't worry though, after playing for 4 games in casual/open draft you can play free phantom draft forever.\n",
            "If you are like my friend, in no particular order, and you are playing a \"casual\" draft mode you can get 2 tickets (3 is best in my opinion, 5 is worst). In my draft, I spent almost no money on it and just drew card for 2.\n",
            "And the other thing....\n",
            "Everytime this game gets banned, the game should be free to play.\n",
            "If you don't like paying for cards, buy the game.\n",
            "Theres an element of RNG I feel that the game does have that is really strong. Sometimes the RNG can affect the game, but in other cases you have to think a little more. Sometimes you lose control. Sometimes you get too greedy. If you like card games, buy it, it's fun!\n",
            "All in all, the game is fun.\n",
            "This is a solid TCG, as far as i am concerned.\n",
            "People who say you have to spend 3 more dollars than expected, are completely wrong. The initial $19.99 price tag is just fine, I paid ~$30 instead for 20 packs and now I still have all the cards I need, even some commons i would rather play with, and some I don't yet, all this money you put into, i make from the 20 dollar buy.\n",
            "If you want the game for the free draft mode, there is a \"free\" draft mode that i would suggest playing in.  The draft mode is more interesting than the constructed, you don't get rewards for playing the ranked modes, but you also don't get any free packs.\n",
            "A draft mode should be free!\n",
            "I really love the gameplay and i enjoy playing it. I can spend hours on draft a game, which i do now, to still buy good cards.\n",
            "I honestly don't feel like it has a fair monetization model. You can find some steam market to check on the prices of cards. If you want to keep spending you could spend a few hundred hours buying the game.\n",
            "Just the gameplay alone is enough to keep me coming back, but at this point there is zero progression when you lose to a deck.\n",
            "The game is good, but there's none in this game.\n",
            "Just as I was saying, i'm glad i didn't spend a dime more than the $20. But as stated earlier, you can't play this game and get anything. Even after only buying the game, you still can't play any competitive modes. This is insane. If this game was free, i would have played and gotten a solid refund.\n",
            "It's easy to say, but paying for more cards is a no-no because if you just put money into the game, all cards are cheap, so the only way they could have made any money, is if they only made a few dollars.\n",
            "I've sold all the cards, and gotten into some ranked right now, so that may be a better comparison for someone who didn't get into this game: Hearthstone.\n",
            "For those who don't know Hearthstone, you can get free unlimited drafts. This game takes care of all the fun I had with playing MTGO, but I find it more fun building decks over the course of a game.\n",
            "The gameplay is great: every lane and every round you can't predict how your opponent will respond, no matter who you are. The game is amazing: the random elements add to the challenge as you choose your heroes, play minions and decide if you're good or no. It also gets into the meta stuff: meta decks and deck builders are everywhere, but you can play more than once per round. You can even decide where your opponent plays cards, even if you're not in good form. It\n",
            "\n",
            "[400 | 975.81] loss=2.84 avg=3.13\n",
            "[410 | 999.48] loss=3.05 avg=3.12\n",
            "[420 | 1023.07] loss=2.88 avg=3.12\n",
            "[430 | 1046.74] loss=2.89 avg=3.11\n",
            "[440 | 1070.53] loss=3.10 avg=3.11\n",
            "[450 | 1094.28] loss=2.91 avg=3.10\n",
            "[460 | 1117.96] loss=2.82 avg=3.10\n",
            "[470 | 1141.62] loss=2.79 avg=3.09\n",
            "[480 | 1165.25] loss=2.71 avg=3.08\n",
            "[490 | 1188.89] loss=2.41 avg=3.06\n",
            "Saving checkpoint/run1/model-500\n",
            "[500 | 1216.47] loss=2.81 avg=3.05\n",
            "[510 | 1240.16] loss=2.80 avg=3.05\n",
            "[520 | 1264.03] loss=2.49 avg=3.03\n",
            "[530 | 1287.64] loss=2.89 avg=3.03\n",
            "[540 | 1311.32] loss=2.58 avg=3.02\n",
            "[550 | 1335.03] loss=2.82 avg=3.02\n",
            "[560 | 1358.71] loss=2.96 avg=3.01\n",
            "[570 | 1382.34] loss=2.63 avg=3.01\n",
            "[580 | 1405.98] loss=2.97 avg=3.01\n",
            "[590 | 1429.59] loss=2.74 avg=3.00\n",
            "======== SAMPLE 1 ========\n",
            " £-to-play game\n",
            "the games take 3 steps before you hit a wall\n",
            "the game is pretty much a collection of cards\n",
            "also there are 10 packs and 5 event tickets which cost $2 each and each of them costs $5\n",
            "the game has really great social features but the game itself is all about money\n",
            "I wanted a physical card game, but as of right now the marketplace is not affordable when compared to the physical card market. The most expensive card is RNG, 20 gold gives you Axe, what cards can you obtain around 20 gold? You dont even have 1 hero? If you play this game you wont get what you pay for, and it costs 3$ to play competitive,  and it costs 10$ to finish 1 competitive deck. I'd much rather play dota 2 instead of this game. The economy would be much worse since you cannot trade cards. Would be nice for us to have the marketplace instead of just trading cards with bots. You can sell cards on a marketplace but it would take a lot of money to do it. Valve has stated they're working on it but right now they need time to make it work, so I'd like to see them doing something. Or do they? I think that the market will take even more time from now unless they change their mindset.\n",
            "Gameplay wise, the game is amazing. The mechanics don't rely on RNG or card drawing, so you don't need to think and spend hours on cards to really enjoy the game. Some of the cards feel strong, but it's because of the RNG cards that you have no control over. I'm enjoying playing with my deck that I won't play against people who don't have cards with specific cards that I have to play around or it's terrible. I have to invest so much time in each match that every time I have to spend 4x as much time playing the game, as I've played against people with specific cards that I have to play around or it's terrible.\n",
            "It looks amazing so far. The voice acting is absolutely amazing. The game is amazing and I am already looking forward to playing it more!\n",
            "I also love that the pricing is just fair. For the initial £16 you get everything in the game and the 20 packs and 5 event tickets. You can play draft for free.\n",
            "That being said I cant reccomend the game in its current state. There are loads of cards that are just unplayable in constructed or are expensive in draft and if you feel the gameplay feels off, you are not being honest. I don't personally enjoy draft however and the price of entry for a constructed deck is pretty ridiculous.\n",
            "I haven't bought the game to play constructed but the card store and community market make the cards worth it. I have spent around 20 dollars so far in draft so I see no reason to not buy the game.\n",
            "I've spent $7 in packs. That's roughly a week's worth of playtime. I'm loving it so far.\n",
            "Amazing game that really excels at its strategic role play (CS:GO, Dota.)\n",
            "The monetization model is a little bit expensive, but you can do much fun with the drafting in Artifact.\n",
            "The game really needs to improve its RNG.\n",
            "My only criticism from spending $20 on artifact is the monetization model. I've been playing CS & GW extensively for years and have no problem spending just about any TCG on it.\n",
            "I haven't played any constructed yet and while I did like MTG, I don't think I'll be playing HS this year. They were good before this but I don't understand why the current model is so bad.\n",
            "The gameplay is fantastic. Not as deep as MTG in that regard, but if you have a friend with MTG and plays all day and takes all day to play HS, I'd be okay with it.\n",
            "As far as the actual card game, there isn't as much excitement as there seems to be with each new draft mode. There are so many variables that when compared to HS, are too little and too much.\n",
            "I don't know if I've ever spent money on a card game and I honestly think it could be a great one if it wasn't all the expensive cards. I really like how it rewards good players. The game is really fun. I don't know if there are many people who haven't spent money on more cards, so it's not a big deal really.\n",
            "Artifact is a very interesting and deep TCG with a lot of potential for a lot of future additions. If you are a TCG fan that has actually played a lot of TCGs you will quickly realize that it is completely different. The core gameplay is a lot of different and interesting tactics and mechanics. As far as money goes I think the game does a pretty good job of keeping people motivated without requiring any investment. If you are looking for a TCG with decent monetisation that doesn't rely on loot boxes you\n",
            "\n",
            "[600 | 1464.33] loss=2.33 avg=2.98\n",
            "[610 | 1488.01] loss=2.70 avg=2.98\n",
            "[620 | 1511.65] loss=2.56 avg=2.97\n",
            "[630 | 1535.32] loss=2.51 avg=2.96\n",
            "[640 | 1558.97] loss=2.40 avg=2.95\n",
            "[650 | 1582.61] loss=2.52 avg=2.94\n",
            "[660 | 1606.26] loss=2.39 avg=2.93\n",
            "[670 | 1629.95] loss=2.91 avg=2.93\n",
            "[680 | 1653.62] loss=2.67 avg=2.92\n",
            "[690 | 1677.31] loss=2.57 avg=2.91\n",
            "[700 | 1700.97] loss=2.59 avg=2.91\n",
            "[710 | 1724.64] loss=2.70 avg=2.90\n",
            "[720 | 1748.31] loss=2.28 avg=2.89\n",
            "[730 | 1771.96] loss=2.82 avg=2.89\n",
            "[740 | 1795.64] loss=2.43 avg=2.88\n",
            "[750 | 1819.32] loss=2.35 avg=2.87\n",
            "[760 | 1842.96] loss=2.45 avg=2.86\n",
            "[770 | 1866.64] loss=2.51 avg=2.86\n",
            "[780 | 1890.32] loss=2.29 avg=2.85\n",
            "[790 | 1913.97] loss=2.33 avg=2.84\n",
            "======== SAMPLE 1 ========\n",
            ". money is required and it all comes down to the skill level of the player. The game is not that complex to start, but learning modes requiring you to buy cards will make you more cost effective than the more affordable open/free/open beta card games.\n",
            "Game is super fun and complex (with a ton of mechanics and potential for depth), but I find myself wanting more, not more, but that's not really a criticism of the only mode that really matters, casual phantom draft, which lets you start and build a deck of your own. The game is missing some of the best content in the game, I would have paid $20 for this game at launch, but you get to keep the cards if you don't want to spend more, which, while I don't mind paying up, is actually a bit harsh on some people. I think there is still room to play with a LOT of different deck builds, so having the ability to add in free phantom drafts is huge for me. Other than that, if Valve really make some changes to add some sort of progression or rank system for certain people, I might give it a medium rating.\n",
            "I cannot recommend the game yet. However, I do hope they add in some more ways to earn cards via daily/weekly quests and some sort of in-game currency. This is a game I will miss a lot longer-term and I'm not sure I'd rather have a month of Hearthstone or Magic on my hands.\n",
            "Don't buy this game. There are a lot of potential strategies you can experiment with and the game is really just a glorification of tedious algebra.\n",
            "Not worth the money, I feel.\n",
            "Pay to pay to win, you are rewarded with nothing more than the worst cards in any expansion until you pull off the coup de grace. It just feels so empty.\n",
            "No ladder, the only way to get cards is to play through the pay to win system. I feel like  the progression system was a mistake but they failed to mention the impact it would have on the bottom line.\n",
            "Game too RNG based, and I don't know if it will change with some form of progression or just the stale meta.\n",
            "I love the 3 lane setup and the strategy and cards is what makes my game viable. The RNG will always be there like in MtG, but it takes a while for the RNG to become a detriment. But I don't know if it will change in the future.\n",
            "I wish there was a reward for free play, but the $20 for the game was just a way to insert it into the gameplay package. Of course there is no way to get in-game currency without paying real money.\n",
            "Just don't buy it. Even if it is true that the 20$ for hearthstone progression offers a lot, this game is still a cash grab.\n",
            "No ladder, no progression, just pay to win.\n",
            "This is a fun game, definitely worth the price + the $20 to get into it instead of going into Hearthstone, Gwent OR Shadowverse. Just don't waste your time with paid games. The market values of cards are pretty shitty right now compared to what other card games could have brought in the first place, so I'd recommend checking back in soon, though!\n",
            "The business model works ok, in that it can make or break you if you aren't careful with your purchase. Also, don't expect tons of free content without planning ahead. They do offer a free draft mode, so this is definitely a good game.\n",
            "If you're worried about having to pay more than the original $20, feel free to check it out. If you didn't get the game before that, don't worry, now you can do unlimited free drafts and constructed (only 2 losses to start, yeah!). If you want more cards, you have to buy them (luck is on your side as well) or buy packs and sell them on the market (luck makes cards worth buying). As a casual gamer, I'd recommend going back to something like HS. The economic model is very, very acceptable for what it is nowadays despite any concerns you may already have (minus a few bad reviews now). If you're looking for some kind of free alternative to Hearthstone, go for it, seriously. You can also do infinite free drafts, which is a very nice feature (even if you don't want to spend more than the initial 20$).\n",
            "So many gripes that are not even remotely related to the business model. Don't listen to the trolls, Artifact is worth every penny. It's not a P2P game in the sense that the pay to win structure is not ideal, but is still a highly enjoyable card game.\n",
            "My main card game problem is the endless repetitiveness. Every match I've had more than one victory after being outplayed. I can see how I can improve and adapt more to the game, but how can it be done? Valve have changed their mind on this;\n",
            "\n",
            "[800 | 1948.63] loss=2.39 avg=2.83\n",
            "[810 | 1972.31] loss=2.54 avg=2.82\n",
            "[820 | 1996.02] loss=2.14 avg=2.81\n",
            "[830 | 2019.79] loss=2.10 avg=2.80\n",
            "[840 | 2043.47] loss=2.38 avg=2.79\n",
            "[850 | 2067.15] loss=2.47 avg=2.79\n",
            "[860 | 2090.83] loss=2.14 avg=2.78\n",
            "[870 | 2114.53] loss=2.40 avg=2.77\n",
            "[880 | 2138.21] loss=2.20 avg=2.76\n",
            "[890 | 2161.85] loss=2.18 avg=2.75\n",
            "[900 | 2185.50] loss=2.71 avg=2.75\n",
            "[910 | 2209.15] loss=2.16 avg=2.74\n",
            "[920 | 2232.82] loss=2.25 avg=2.73\n",
            "[930 | 2256.47] loss=2.09 avg=2.72\n",
            "[940 | 2280.13] loss=2.11 avg=2.71\n",
            "[950 | 2303.75] loss=2.04 avg=2.70\n",
            "[960 | 2327.41] loss=2.25 avg=2.69\n",
            "[970 | 2351.06] loss=2.05 avg=2.68\n",
            "[980 | 2374.70] loss=1.62 avg=2.66\n",
            "[990 | 2398.34] loss=2.08 avg=2.66\n",
            "Saving checkpoint/run1/model-1000\n",
            "WARNING:tensorflow:From /usr/local/lib/python3.6/dist-packages/tensorflow/python/training/saver.py:966: remove_checkpoint (from tensorflow.python.training.checkpoint_management) is deprecated and will be removed in a future version.\n",
            "Instructions for updating:\n",
            "Use standard file APIs to delete files with this prefix.\n"
          ],
          "name": "stdout"
        }
      ]
    },
    {
      "metadata": {
        "id": "8_mgWLdjxGdQ",
        "colab_type": "text"
      },
      "cell_type": "markdown",
      "source": [
        "## Sample from the model"
      ]
    },
    {
      "metadata": {
        "id": "Z6aOyXtKuznW",
        "colab_type": "text"
      },
      "cell_type": "markdown",
      "source": [
        "Generate samples"
      ]
    },
    {
      "metadata": {
        "id": "UAmXAeJbweEp",
        "colab_type": "code",
        "outputId": "0f24c320-e686-46b3-b0a9-9923b6ff3aca",
        "colab": {
          "base_uri": "https://localhost:8080/",
          "height": 1617
        }
      },
      "cell_type": "code",
      "source": [
        "num_samples = 3\n",
        "num_batches = 3 # Unique to GPT-2, you can pass a batch_size to generate multiple samples in parallel, giving a massive speedup.\n",
        "\n",
        "gpt2.generate(sess, nsamples=num_samples, batch_size=num_batches, prefix='I love Artifact')"
      ],
      "execution_count": 13,
      "outputs": [
        {
          "output_type": "stream",
          "text": [
            "I love Artifact, I love its gameplay and I love its lore.\n",
            "But I also really love the monetization. I paid $15 and got Artifact for the first time, and it doesn't even cost that much to play competitively. I also got to actually buy cards that are worth more than the price of a pack, and it's not even gambling between packs!\n",
            "And there's the business model. You can buy cards, sell them, trade them. It's really quite cool.\n",
            "And the lore. It's really nice.\n",
            "I love the lore of Dota 2. It's deep and complex and I love it.\n",
            "But I love the fact that you can buy cards from other players. And the fact that you can trade them at will. The only way to get cards is by buying them.\n",
            "So this is the first TCG I've ever played (and a really good one at that), but Valve has really outdone them.\n",
            "They've really polished it up and I really like it.\n",
            "They have a free draft mode which is pretty cool.\n",
            "They have free tournaments which are really fun.\n",
            "They have free hero emote and they changed it from a very powerful card, so you can play them in the free modes which are really fun.\n",
            "The business model is actually pretty bad. You're basically forced to buy a pack to play with it, unless you want to play constructed which is not very viable.\n",
            "People complaining about the monetization are idiots, you have to buy the game for 20$ total and have to pay with that. You can play constructed and draft all you want.\n",
            "You pay for the game, you pay for the cards, you pay for the event tickets and you pay for the packs as well.\n",
            "If you're bad at TCG and want to play competitivly it's probably cheaper, but if you're good at it's probably cheaper.\n",
            "I want to like Artifact, I really do, and I like the game itself, but only because it's fun.\n",
            "I want to like Artifact, and I like the game in general, but I need to buy a game to play a game. This game is just like a real life TCG... but it's made in a real life TCG.\n",
            "The game is very fun, the matches are very interesting and the design is very nice.\n",
            "I want to like this game, but I need to pay a little bit more to play competitive constructed games, so I would need to buy the cards I need to be competitive.\n",
            "Game mechanics is very very good, the game just isn't fun to play when you need to pay a bit more.\n",
            "The game is a lot of fun and I would highly recommend it.\n",
            "I'm a Magic: The Gathering (MTG) player, and I have been playing since the beta.\n",
            "I came to this game with a love of Dota and MTG, and I am still playing.\n",
            "- The game is really good\n",
            "- The card market is reasonable, and you can always buy the specific cards you need to make your own deck\n",
            "- The game is fun\n",
            "I have spent the past few weeks playing a bunch of premade Constructed decks and the free Casual Draft matchups. I am very pleased with how the game has gone so far and I am very much enjoying it. The recent nerfs to some of the cards have been a huge blow to the balance and how good they actually are. The only big downside to this game that I really have not touched on in a last update is the fact that you cannot grind for cards, you can buy them in the marketplace, and you can play the Free Phantom Draft matches. The game has had some changes made to balance and the meta, but I am really enjoying it. I think the recent balance changes have mostly been addressed, but I would expect the game to get even better in the future if they get to that point.\n",
            "- The card market is a bit stale\n",
            "- It's not that expensive\n",
            "- It's not as hard to grind as Magic The Gathering\n",
            "- It's not that expensive\n",
            "- It's not super competitive\n",
            "- It's not super expensive\n",
            "- The singles market is cheap\n",
            "- It's not as expensive\n",
            "I have not spent any more than I was supposed to and I'm only spending the first 20 bucks.\n",
            "I'm getting more and more frustrated with the game. It's not worth the 20$ and if you don't want to pay any more then you're at a complete lack of fun. I think the stratergy is just getting more stratergy out of this game. There are so many rng elements but most of it is just one person trying to win a lane or two at a time. You need to be able to react to a lane's changing position or change position based on what your opponent does to your fragile resupply. There are lots of cards that are just just too complicated for the average player to understand but there\n",
            "====================\n",
            "\n",
            "I love Artifact, so I bought it. I can't talk about the monetization, there is no way to earn cards for free. I don't want to take the time to talk about the other aspects of the game, like what cards you can get, what sort of decks you can play, and how things like hero spawns work. Please don't buy this game, it's not worth it at the moment. I've made more money from phantom draft than I would buying packs in Hearthstone. The price of the game is too expensive for my taste. I can't refund it, it's not worth it.\n",
            "I really like this game, it is fun to play and exciting. I have to say that the price is prohibitive. I have already sold all my cards and am now on the brink of finishing the top 32. This game has potential for other games, I am looking forward to see what will come next.\n",
            "So I was initially interested in Artifact.\n",
            "The monetisation is really nice.\n",
            "I'm actually not having issues with the game itself, but the issues I've had with it are causing me to consider whether I'm buying the game or not.\n",
            "I'm aware that the game is incomplete, but I want to point out that I'm not advocating for buy the game or not. I'm just saying I'm curious about it and I've already made my investment and I think I'm worth buying the game.\n",
            "The game itself is very good, have played a lot of other card games. I don't think I'll ever need more than the basic cards. I think you can play with more than one deck without needing to buy more cards.\n",
            "The game itself is really fun, have a blast.\n",
            "I love the draft mode, you can play it for free with pre-constructed decks and practice drafts.\n",
            "I'm not going to spend any more money on this game unless I want to play constructed (which is a really good value for money option right now)\n",
            "I haven't spent any more than the base price of the game, so I'm already over the cost of the game.\n",
            "Valve knows how to make a game, so they were willing to make a counter-strike game for this. It works.\n",
            "I'm not a huge Dota fan but this game is awesome and I'm very excited to see it come to digital.\n",
            "Very good game. The imps really seem to have an edge over the other imps. Still have to learn the game but it is very fun and the gameplay is very fun so far. The cost of the game is a bit steep but I think it's not that much more than other card games. A full set can cost less than $100.\n",
            "I'm not going to recomend this game if:\n",
            "- you only want to play draft modes, but you don't want to spend more than the base price.\n",
            "- you don't want to spend more than the base price, but you don't want to spend the full price.\n",
            "Now, I'm sure Valve will approve, but right now the game is not really worth investing more money to try out. The game itself is really fun and I think it will be the best digital card game in a decade. The market integration is good and the game is very cheap for what it is. I would recommend the game if:\n",
            "-you're only interested in playing Draft modes, like Hearthstone\n",
            "-you don't want to spend more than the base price. Have fun!\n",
            "Now, I'm sure Valve will approve, but right now the game is not really worth investing more money to try out. The game itself is really fun and I think it will be the best digital card game in a decade. The market integration is good and the game is very cheap. I would recommend the game if:\n",
            "-you only want to play Draft modes, like Hearthstone\n",
            "- you don't want to spend more than the base price. Have fun!\n",
            "Now, I'm sure Valve will approve, but right now the game is not really worth investing more money to try out. The game itself is really fun and I think it will be the best digital card game in a decade. The market integration is good and the game is very cheap. I would recommend the game if:\n",
            "- you don't want to spend the same amount of money over and over again, like Magic: The Gathering.\n",
            "- you don't want to spend the same amount of money over and over again, like other card games.\n",
            "- you don't want to spend the same amount of money over and over again, like other card games.\n",
            "- you don't want to spend the same amount of money over and over again, like other card games.\n",
            "- you don't want to spend the same amount of money over and over again, like other card games.\n",
            "- you don't want to spend the same amount of money over and over again, like other card games.\n",
            "- you don't\n",
            "====================\n",
            "\n",
            "I love Artifact, and I have a bunch of free packs, but in this last patch I feel like I've had a really good time. I'll keep playing for now, as it has the potential to be a great TCG.\n",
            "The way the game works thus far is quite good. The game is balanced, but there are a lot of people who just don't get the game. I wish they would give a way to get cards. It's not a big deal, it's not a big deal, but it's not a big deal.\n",
            "The game has a lot of potential, I think. I play Hearthstone a lot, so I thought I'd give it a try. Turns out the game is fun and I'm not going to keep playing it, so I sold all my cards I got from the starter pack. I only have about 10 hours play, and I've lost quite a few times. I feel like I can still play it for a few hours, but I feel like I can't do that. I feel like this game is going to be dead in a year if it doesn't change up its stance on not giving away free packs. If you want to play a different kind of game, this is the best choice for it.\n",
            "I think the game is really fun. It's very different from other CCGs, and there is a lot of depth to the business model. The gameplay is complex and fun. I don't think people should buy this game. For the people who want to play the most competitve card games, it's a good choice. For the people who don't want to play the most competitve card games, it's not a good game.\n",
            "TL:DR :\n",
            "The game is fun, but you need to buy it before you can play.\n",
            "The business model is predatory and it's not sustainable. It will die as a TCG as the price of the next pack drop.\n",
            "I love this game, I played a lot of hearthstone and I don't mind the monetization system. I think the game will be dead before it's phased out.\n",
            "I don't really play much, but I have played MTG a lot and I think Artifact is one of the best digital TCGs. I don't really mind the monetization, but I think it's a bit too expensive for the small subset of people who don't want to spend real money.\n",
            "I think the pricing structure is fair and it is just a digital currency. I think people are spoiled by it and if they want to be competative, they shouldn't be opening packs. It's not the definition of a free game. The fact that you can buy cards and not be forced to pay for them is a bit unfair.\n",
            "I play Hearthstone a lot and I think Artifact is the best digital card game out there. I think the pricing structure is fair, people who are spoiled by the free to play model should be able to buy a specific deck early to have a good time. I think the business model is pretty fair as well, people who are spoiled by the free to play model should be able to keep grinding for free forever. I think the business model is pretty fair as well, it's a bit cheaper than other card games to have a competative deck than to have a full collection of cards that you can sell. I think the business model is pretty fair, people who are spoiled by the free to play model should be able to keep playing and getting rewards for their time playing. I think the business model is pretty fair, it's the only card game that's free to play so you can play it to your hearts content. I think the business model is pretty fair, it's the only card game that's competitive and you can keep grinding for it for free forever. I think the business model is pretty fair, it's the only card game that's free to play so you can keep getting rewarded for playing it.\n",
            "I think the business model is pretty fair, it's the only card game that's not predatory. People who are spoiled by the free to play model should be able to keep grinding for free for years to come. I think the business model is pretty fair, it's not predatory but if you do want to buy the cards it's not the best option right now. I think the pricing structure is pretty fair, people who are spoiled by the free to play model should be able to keep grinding for free forever. It's kinda sad, it seems like all the negative reviews have an echo chamber of some sort. I think the business model is pretty fair, it's the only card game that's free to play and people who want rewards should be able to keep playing. I think the business model is pretty fair, I think the people who are spoiled by the free to play model should be able to keep playing and getting rewards for them. I think the business model is pretty fair, it's the only card game that's competitive and people who want rewards should be\n",
            "====================\n",
            "\n"
          ],
          "name": "stdout"
        }
      ]
    },
    {
      "metadata": {
        "id": "MfLDNg7a9eQo",
        "colab_type": "code",
        "colab": {
          "base_uri": "https://localhost:8080/",
          "height": 1506
        },
        "outputId": "5007d49d-f03c-4e3d-b7e0-c215a6eb5499"
      },
      "cell_type": "code",
      "source": [
        "gpt2.generate(sess, nsamples=num_samples, batch_size=num_batches, prefix='I hate Artifact')"
      ],
      "execution_count": 14,
      "outputs": [
        {
          "output_type": "stream",
          "text": [
            "I hate Artifact so I know it's not for me) but I'm fine with buying the game, the mechanics are very good and it gives me a lot of satisfaction. I don't mind the microtransaction at all. The only problem is I'm not interested in playing that much anymore (besides Hearthstone where I started) and the progression seems a bit too steep. That's not to say I'm not interested, it's just not possible to become a daily player with the casual and the draft modes combined. I'm very interested in playing the expert modes and doing constructed, if that's your thing I'd probably consider it.\n",
            "Overall I have a very happy and satisfied consumer who is happy to spend time with their game and who's interested in checking out this game if they're on it for the long term. I'm not one of those people who just buys the game and leaves it out of a ga line wishlist, but if you're on the fence, you can still battle it out and maybe you'll scrap it a bit. If you're more of a casual player, definitely avoid this.\n",
            "[b]Good[/b] - The mechanics and the game play is top notch.\n",
            "[list]\n",
            "- The draft mode is fun\n",
            "- the deck builder is fun\n",
            "- the draft modes are fun\n",
            "- The price tag is fun (if you want to buy a full collection in this game, well... $40, so a full collection should be cheap)\n",
            "[/list]\n",
            "[b]Not P2W[/b] - Okay, not really.\n",
            "[list]\n",
            "- The fact that it requires you to buy a single card makes it not worth investing to play constructed modes (since you're going to be playing against, not against random people)\n",
            "- There's no way to earn cards for free (except for buying them on the marketplace)\n",
            "- You can't grind the deck builder with the free packs\n",
            "- The fact that you buy cards via the market means you can't earn cards\n",
            "[list]\n",
            "[*]The fact that people have to buy packs to play is nice\n",
            "-  The fact that you can sell cards means you can't grind the deck builder if you want to\n",
            "- As a casual player you can't earn new cards without paying for them (this is nice, but not really the best)\n",
            "- You can't earn cards for free via the Market (though you can earn them if you win at least 3 out of 5 games)\n",
            "[*]I've bought a lot of games, and I don't really have all the cards, so I can't really claim card packs (I do have some, but I don't really have much, so I don't really have enough)\n",
            "[/list]\n",
            "[b]Negative[/b] - There's not much to claim in this game, and it's not very competitive (unless you can win at least 3 out of 5 games)\n",
            "[list]\n",
            "[*]The fact that you have to buy cards via the market means that you can't earn any cards without spending money and it's not really a competitive game\n",
            "[*]I don't really have enough cards to play constructed decks, so I can't claim cards (or even just packs) in case you don't want to play constructed (this is not really a problem if you have cards and you play well, but if you don't you can't claim them)\n",
            "[*]I don't really have all the cards (i.e. i don't own all the cards) so I can't claim cards in case you don't want to play constructed (this is not really a problem if you have cards and you play well, but if you don't you can't claim them)\n",
            "[*]I don't really have all the cards, so I can't claim cards in case you don't want to play constructed (this is not really a problem if you have cards and you play well, but if you don't you can't claim them)\n",
            "[/list]\n",
            "[b]Overall[/b] - I like the game, a lot. I only bought between 1 and 2 of the cards for the starting price of 19.99. I think the monetization system is really good too - you can win packs and tickets through winning expert drafts or buying the specific cards you want back.\n",
            "[list]\n",
            "[*]It's not a competitive game, probably, but I think it's not very competitive either. It's not a good game, maybe, but I don't know.\n",
            "[*]I don't know what the future holds for the game. It's not a good game yet, but I think it's good enough. It's not a good game, maybe, but I don't know.\n",
            "[*]I don't know which way the market will go. I think it's going to go down, maybe, I don't know.\n",
            "[b\n",
            "====================\n",
            "\n",
            "I hate Artifact and would rather not comment on it. I was lucky to get my $10 worth of packs with this one and was lucky enough to get some boosters from my initial purchase, which I used to make a $5 worth of cards. I will update as I play more and play more until I get lucky with the boosters in the first few turns.\n",
            "It is a good card game, with interesting mechanics. I like the fact that you can buy the cards you want. People are complaining about having to pay for the game, but if you think about it, the best way to play is in a competitive online game where there is a chance to win. It is not worth buying cards/packs with Artifact just to play the game.\n",
            "If you like draft, this game is really good. It's not trying to be P2W like other card games, but trying to be P2W like other card games. I really like that it's not f2p like other card games, but like a P2W.\n",
            "The economic model is actually good. You can get cards from the market for free, and the price is not that steep. You can buy the cards you want with real money, and the best cards are about $0.05, and a small amount of rare cards are $1.50.\n",
            "People are complaining about the price, but it's not as bad as other card games, a few bucks isn't too much, and you can get most of the heroes for a few cents. The only bad thing about this game is that you don't get to keep the cards you draft, and the fact that you have to buy packs to play, is a bit annoying. I really do like the game though, I like drafting more.\n",
            "I think the monetization model is really good. It's not that expensive, just a bit cheaper than other card games. It also allows you to get your collection of cards straight.\n",
            "People complaining about the monetization model are probably too young or poor to be able to grow their collection, it's more than worth it in my opinion.\n",
            "Do not buy this game unless you are willing to spend money on top of the game to get a full collection.\n",
            "The entire gameplay is just pay to win. How could a TCG be free? You get 10 packs that actually contain all the cards. If this was free download form, all of the cards would be shit.\n",
            "This is a pay to win game. They added a way to get free packs through a ticket system so its not pay to win.\n",
            "The initial price of the game is fine. But you have no way to get packs other than paywal deposit. So if you are poor you can't play this game.\n",
            "Do not buy this game. It is not like any other card game. The game is fun, but pay to play just to play the casual modes is not fun.\n",
            "The economy seems to be very good for people that want to play constructed or for people that want to play keeper draft. But for people who want to play for fun this game just isn't for them.\n",
            "I have been playing card games since my highschool days, mostly magic and yugioh. I'm mainly into the TCG space but I've also played a little bit of both board and strategy games in general.\n",
            "For the price of the game, you get 10 packs of cards containing at least 1 rare. You can get packs of cards for about $15. If you don't want to spend too much money, you can just buy the cards you need directly instead of grinding.\n",
            "You get a month of dota plus from the original launch of the game.\n",
            "I have tried many games for this one. The complexity of the game makes it enjoyable but not for everyone. In my opinion the game needs to stay simple to keep people engaged and engaging with it.\n",
            "Draft is the ONLY mode that isn't pay to win. Draft mode is free to play and is where the game really shines.\n",
            "Draft is VERY fun. I wanted to love this game and have been waiting for it to come out even though I didn't get it for free. I played a lot of dota and I know what I'm talking about. It's the deepest and most rewarding card game out there. Maybe it's because I grew up playing them but I literally just hopped on the train at night to play this damn good one.\n",
            "I've played a lot of TCGs and it's actually super fun. The mechanics are really interesting and the gameplay is fun. Don't understand the hate for this game? If you're not one of the 50% of the population then you might have a tough time getting the game on PC. If you are then this could be a great game for you.\n",
            "This game is fun, the monetization is fair and you can get all the cards for free. The only problem is that you cannot get any cards for free. This is the only way\n",
            "====================\n",
            "\n",
            "I hate Artifact, this game is literally pay 2 win and pay 2 lose. The only way to get new cards is to buy them at the shop. You cannot earn cards by playing the game. I am a computer player, I achieved a lot with computer games. I love the game. I played it a lot. I don't like it. Why? It's not fun. I'm not going to argue. The game is very simple, but I have spent a good amount of money on it, so it's not fun at all.\n",
            "[b]I think it's a game that should be released on PC, not mobile. [/b]\n",
            "I am mostly okay with the lack of progression, but the lack of card rewards hurts the game a bit.\n",
            "The game is not actually that much fun if you have $20 to invest into it.\n",
            "I really hope they add more features in the future.\n",
            "The game is very fun and engaging, and the amount of free modes makes it very fun. I think they could have made this better if they made the free modes more generous. It's much harder to grind free modes if you are paying for it, you will always have to buy packs to get good cards. With the free modes, I think it's worth it.\n",
            "I wasn't going to buy this game, but now I do. I've played a lot of TCGs, and this one feels like it. It's a very unique turn based game. It has a lot of depth and different phases, it's not just a single player game, but a turn based TCG. The last few rounds are incredibly interesting and interesting, it's like playing three different versions of the same deck, but with a set of subrouties. There are a LOT of ways to play this game. I'm not going to just focus on the pros, but the cons.\n",
            "First of all, the game is really good. It has a lot of depth. You need to think about what your opponent did and want to think about what you can do instead of just blindly following what your opponent did. You can do a lot of good in this game. You can kill an OP hero and you can kill your opponent's hero. It's not the worst of the cards, but it feels different. You have certain things that you can do that make it more interesting.\n",
            "The other aspect of the game is the card draw. It's random. You've seen it all and probably should read it. It's not that bad but it feels bad. It's not great. There are cards that let you choose which lane to go to play cards that let you choose which position you need to play your cards. It's not that bad in this game, but it's a little weird. It doesn't feel good either. It doesn't feel good for me either. It's pretty hard to say anything about it except it's just a little weird.\n",
            "Anyway, it's a great game, the draft mode is really fun and I think the card pool is really good. I think that the games are really really close, I think it's really close.\n",
            "The main problem I have is that it isn't Valve. They don't make games, they make sound games. They don't make games, they make sound games. I think that they are trying to make the best possible blend of strategy, fun, and fun without trying to make the best possible blend of strategy, fun, and fun.\n",
            "And that is why I think this game is really really good. It is very much like a real world TCG.\n",
            "So, what are you waiting for? Pay your way to the top. Don't listen to the people that are writing negative reviews expecting to get the full fun of the game and thus get to experience it in a physical form.\n",
            "Not sure why people are writing this review.\n",
            "This is a game that I'm sure many other people are saying, (it's unique and unique in the TCG space as well as the digital space), I really don't know what I'm talking about.\n",
            "The gameplay is the most fun I've had with any digital card game (not just the paper ones, but also the digital ones too). The amount of strategy involved is enormous but if you just put aside the fact that it's digital and you're just playing (to build your own deck, or build a friend to play with), this is a really fun game to play.\n",
            "If you like the idea of having a board game, this is for you. It's not like the other games in the genre that are just one board and have a lot of health, the other games are multiple board you can play around vs others, the reason for this being that you can split up resources and play cards, this is what makes this game fun.\n",
            "The amount of decision making involved is just insane. Every single time you make a decision you have a lot of time to think it through as much\n",
            "====================\n",
            "\n"
          ],
          "name": "stdout"
        }
      ]
    },
    {
      "metadata": {
        "id": "srUisIYl9fX4",
        "colab_type": "code",
        "colab": {
          "base_uri": "https://localhost:8080/",
          "height": 1488
        },
        "outputId": "931f94f2-972a-4754-fcdc-49dd170d130b"
      },
      "cell_type": "code",
      "source": [
        "gpt2.generate(sess, nsamples=num_samples, batch_size=num_batches, prefix='Please, Valve, ')"
      ],
      "execution_count": 18,
      "outputs": [
        {
          "output_type": "stream",
          "text": [
            "P, Valve,  make the game better, because they know that theres nothing left to improve in this game.\n",
            "i dont really like card games, but its nice to play a game that is not pay to win.\n",
            "I want to like this game, but there is so much more to say.\n",
            "Excellent game.  Very deep and interesting mechanics.  Not too expensive, but only if you want to play constructed mode (you have to own the cards in order to play constructed mode)\n",
            "Artifact is a really fun game, with a really steep learning curve.  I think it is a good game for those who love TCGs, but just want to relax and play for a while.\n",
            "For those who are wondering, Artifact is a very complex game.  There is a lot going on in this game that you need to know in order to really enjoy it.  It's not as complex as other card games, but it is more complicated than those that use a similar learning curve.  You can spend a lot of time learning about the cards and lanes, and in some games even the heros and items.  For me, I think Artifact is a much better game to play for when I just want to chill and have a quick game.\n",
            "I've been really enjoying the game so far, but i cant recommend it.\n",
            "The developers do a great job of communicating with the community and the Steam community, but in this regard it is a bit too early to say if they are truly committed to the future of the game.\n",
            "The game is really fun, and the artstyle and mechanics is a lot of fun. The game feels like it needs a bit more work, but I'm confident it will be polished by the end of the month.\n",
            "I've been playing the casual phantom draft, and I've been having a blast. The marketplace makes it really easy to buy the cards you need for constructed, and it's actually cheaper than other digital card games to just play the draft. It's a lot of fun, and if you're willing to pay, you can play the casual phantom draft all day, and draft all day with no rewards. The other cool benefit of the game is that you don't have to constantly be grinding to get cards, you can just buy the cards you need for the constructed decks you want.\n",
            "I like the game a lot, I think it's a lot more complex then games like hearthstone and other free to play options.\n",
            "I dont really like the business model, like you need to buy cards to make the decks you want, but in order to actually use the cards, you have to buy them. Thats not a bad thing, it makes the game more fun, and also allowing you to purchase the cards you need for the decks you want. I think they are doing a good job, and maybe this will make the game die a slow death already.\n",
            "I dont really like the way the game is monetized, you can buy only a portion of it for $20. Thats why i dont like the monetization, also you can only use the tickets you get for leveling up, but keep in mind now you wont get any rewards unless you win at least 3 games in the first 3 tickets.\n",
            "The game is very fun, very deep. Matches are very close, sometimes its just a matter of predicting what will happen if the opponent gets a good starting hand. The only negative is the lack of free way to play, but it is fun.\n",
            "I like that the devs have a way to give cards to players without paying for them, instead of forcing you to buy packs to get the cards, and that the cards will end up being fair value.\n",
            "The game is fun. I don't really like the monetization, it makes the game more expensive to play.\n",
            "8/10\n",
            "This game is fantastic, and i really think that the amount of people saying its pay2win is crazy is the worst I've ever seen.  Its a great game, very polished, and i think that's a good thing.  The fact that there is a free draft mode, and free constructed and free tournaments is a good thing.  The fact that you can sell the cards is not a bad thing, i think that it simply serves the community better so that people who would otherwise not spend money on the game can just buy the cards and play.\n",
            "So i sold my steam wallet for 17,50.00, and i have 10 packs with some more, so i sold for 27.50, and i have 15 more with 2 more, and i still have some more, so i sold for 15.00, and i have some more with 1, and i still have some more, so i sold for 20, and i have some more.  i think its a really good game, i would be happy with it if it was free to play, but it is not.\n",
            "Don't waste your money, it's not a good game.\n",
            "\n",
            "====================\n",
            "\n",
            "P, Valve,  please put this game in a tier 1 TCG.  This game is a huge success.  Easily the best tcg on the market.\n",
            "Yikes. The monetization is pretty bad. You have to pay to play the game, which is kinda lame. At least the prices are reasonable. I wish they werent broken since if you lose all your tickets you can't win anymore tickets. There is a way to get new cards but i cant get them. I really hope they change the entry fee to enter the game.\n",
            "What a shame that this game is. I used to play casual and then pro-am competitive (played draft for 2 years) I was able to get 5 packs, 2 tickets and a couple extra and now i want to play competitively. Because theres no point to play anymore.\n",
            "Cannot play this game, I wish I didnt buy it. I play this game in a draft mode where you have to pay to play. It is a waste of time to buy it.\n",
            "No way to grind for free cards or play constructed decks.\n",
            "I was lucky to get a good amount of cards for my deck, but I can not grind for cards.\n",
            "I would rather pay 50$ for a AAA game that gives a starter-only entry than pay a penny more for a AAA game that gives 3-5 competitive decks with entry fee of 1 event ticket.\n",
            "The game is really good but the monetization system is horrible.\n",
            "You pay 20$ to play the game but you have to pay several more times to get enough cards to make it worth it.\n",
            "To get a competitive constructed deck you have to buy cards which take up more space so you cant play them.\n",
            "I cant recomend this game. It has some really big problems. The best solution is to wait for the game to undergo major balance changes. Thats all ok?\n",
            "I just want to start by saying i did not get the game for free but I did get the tickets and packs. Its not a big deal. I played for a while but when they release a new game every 6 months the cost of a meta deck will probably not be that high. The only good thing is the 10 packs i recieved for playing the game so far.\n",
            "If you like TCGs and you like cards games you should definitely give this one a try.\n",
            "Amazing game.  The cards are well balanced and just like any card game you need good balance.  The graphics are good and the game is very fun.\n",
            "I have been playing card games for around 6 years now. I have collected over 10k Hearthstone and Gwent cards in my Steam collection.\n",
            "Great game.  While the monetization is a (mostly) minor complaint, it does not detract from the game.  The gameplay is solid and the game is very easy to pick up.\n",
            "I feel like with the current state of the game it is just not worth the money.  If you like TCGs I'd say stick with Hearthstone for it is a bit more complicated and takes a bit longer to play compared to most other TCG's.\n",
            "People are so biased and even call this a cash grab.  I think it is a good game.  I'm only going to focus on the point about the game.\n",
            "This game is not pay to win.  You can draft for free in Casual Phantom draft and play with your own cards in Constructed.  I am writing this to highlight some of the points that I see.\n",
            "1) The cards you buy are not just \"in the meta\".  You can buy specific ones you want for a couple cents.  If you want a specific card you can buy it instead of buying thousands of other people with cheapskate cards.\n",
            "2) You can buy a deck for under $5 and still have fun with that.  I don't see a problem with that.  I only played one competitive draft, had a blast.\n",
            "3) The market is not predatory.  You can get exactly the cards you want for a few cents.  If you want a specific card you can buy it.  I don't see a problem with that. I only played one competitive draft, had a blast.\n",
            "The cons of the game:\n",
            "1) It is not free to play.  You have to spend a little to get cards, but most of them are not worth more than a couple of dollars.  Buying specific cards is not worth more than a couple of dollars.\n",
            "2) The games are long.  This is a good thing.  Games take a long time to finish, especially when the game itself is not quite finished.\n",
            "The pros of the game:\n",
            "1) You can buy the cards you want.  You can buy specific ones you want.\n",
            "2) The market is not predatory.  You are not forced to buy cards.  You can play draft for free.  I wouldn't recommend this at all that I think\n",
            "====================\n",
            "\n",
            "P, Valve,  please do something about this, please do something about this.\n",
            "I'm still enjoying the game. I don't understand why this game is so unpopular. I understand it feels bad to not get cards for free in the first place, but maybe they don't want to have to spend a lot of money in the future to have cards that are going to make it in the deckbuilding app to play constructed. I understand that they're trying to make the game fun, but I don't understand why this feels so bad to not get cards for free and that's a good thing.\n",
            "I still would like to see a progression system. It's nice to get free packs or some rewards. I still think it's terrible, and I still think it's great.\n",
            "I think it's a great game.  You don't need to pay extra money to play constructed modes.  You can just play draft for free.  I'd recommend it.\n",
            "As a long time card game player and a dota 2 fan, this game is defenitly worth it. I think its the best digital card game to date. I think people are over-stating the cost of the game. The game is very affordable at the moment, but actually you can play a ton of draft for free if you really want. I'd recommend it to anyone who's interested in the game and wants a game that's enjoyable.\n",
            "This game is not pay to win, its not f2p, its not as complicated as everyone says it is. You can play draft for free if you really want, and you can buy a complete deck for under $10.\n",
            "Great game with a very high skill cap.\n",
            "I enjoy the game. I played a lot of dota and the competitive scene and I really enjoy the genre.\n",
            "Easy to learn but very fun. The ruleset is nice and the complexity actually makes it fun.\n",
            "I think people are just not used to playing card games like this. It is intimidating to even begin, the maze elements are fun. It is also 20$ so if you want to play constructed you will have to pay a bit. If you want to play more you will have to pay.\n",
            "Great game. The mechanics are solid.\n",
            "I really like the game. The three lanes make the game a lot more interactive and allows you to really think about what you are doing and do something. The matches are a lot of fun.\n",
            "I'm having a lot of fun with this game, it's very engaging. I've played a few games so far and I've won a lot of games.  I think the core mechanics are good and the game is super unique.\n",
            "I like the game a lot and I think it's a good game, I would definitely recommend this for any fan of card games.\n",
            "I'm not entirely sure why anyone is complaining about the monetization model. I've seen a lot of reviews complaining about the cost to play, but I don't see any reason to believe people are complaining about the price at all. I think people are just too harsh on the community.\n",
            "The initial $20 buy-in gets you a ton of content to play with varying difficulty levels.\n",
            "Constructed gets you a decent amount of cards and a selection of other games with different competitive modes.\n",
            "Currently I'm writing this review because I'm curious to see if the game is worth it's market value.\n",
            "I'm a huge TCG fan from the early days of Magic and I think Artifact is worth the $20. If you're okay with a casual draft format then you can build a decent deck pretty cheap.\n",
            "The mechanics of this game really did a disservice to the people who expected it to be a good game. The flow of the game and the randomness of the three lanes really made it hard for me to win.\n",
            "The draft modes are a little bit more frustrating, they also give you no way to really know if you lost because of the randomness or if it just randomly came up.\n",
            "The core gameplay is good, it is just not that fun for a lot of different reasons. Sure it is not the most complex card game out there but at least its not complicated. There is a lot of variation and it is fun to play around with different game types.\n",
            "If you're like me you probably like playing cards because you have to think about what you are buying into. You can buy the specific cards you want from the community market and if you are lucky enough you can get them from the packs that the player is buying in. The player that is buying this game with the most money will probably get more than the player that is not. If the player that is buying this game with the most money then the game will probably be much more expensive for the person that is not a rich guy.\n",
            "I've been playing the phantom draft modes for the last few weeks and it has been really fun. I've made a few decks but most of them are $20 and I\n",
            "====================\n",
            "\n"
          ],
          "name": "stdout"
        }
      ]
    }
  ]
}