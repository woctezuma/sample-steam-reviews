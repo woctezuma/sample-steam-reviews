{
  "nbformat": 4,
  "nbformat_minor": 0,
  "metadata": {
    "colab": {
      "name": "word_level_rnn_with_embeddings.ipynb",
      "version": "0.3.2",
      "provenance": [],
      "collapsed_sections": []
    },
    "kernelspec": {
      "name": "python3",
      "display_name": "Python 3"
    },
    "accelerator": "GPU"
  },
  "cells": [
    {
      "metadata": {
        "id": "ZaAQc-XXhwDl",
        "colab_type": "text"
      },
      "cell_type": "markdown",
      "source": [
        "# Sample Steam Reviews with word-level RNN with GloVe embeddings\n",
        "\n",
        "Code inspired from https://github.com/woctezuma/sample-steam-reviews"
      ]
    },
    {
      "metadata": {
        "id": "EJKaWG2ghrA5",
        "colab_type": "code",
        "outputId": "42575e56-97a5-4b14-ad63-da2087369677",
        "colab": {
          "base_uri": "https://localhost:8080/",
          "height": 35
        }
      },
      "cell_type": "code",
      "source": [
        "from google.colab import drive\n",
        "\n",
        "mount_folder = '/content/gdrive'\n",
        "drive.mount(mount_folder)"
      ],
      "execution_count": 1,
      "outputs": [
        {
          "output_type": "stream",
          "text": [
            "Drive already mounted at /content/gdrive; to attempt to forcibly remount, call drive.mount(\"/content/gdrive\", force_remount=True).\n"
          ],
          "name": "stdout"
        }
      ]
    },
    {
      "metadata": {
        "id": "0iXYkA6wh-G2",
        "colab_type": "code",
        "outputId": "58a618f8-5544-46f5-a2c0-d403824d66d0",
        "colab": {
          "base_uri": "https://localhost:8080/",
          "height": 35
        }
      },
      "cell_type": "code",
      "source": [
        "%cd '/content/gdrive/My Drive/'"
      ],
      "execution_count": 2,
      "outputs": [
        {
          "output_type": "stream",
          "text": [
            "/content/gdrive/My Drive\n"
          ],
          "name": "stdout"
        }
      ]
    },
    {
      "metadata": {
        "id": "8mv11ec_g4Wf",
        "colab_type": "code",
        "colab": {}
      },
      "cell_type": "code",
      "source": [
        "#!rm -rf sample-steam-reviews/\n",
        "#!git clone https://github.com/woctezuma/sample-steam-reviews.git"
      ],
      "execution_count": 0,
      "outputs": []
    },
    {
      "metadata": {
        "id": "A23sSmypg7km",
        "colab_type": "code",
        "colab": {
          "base_uri": "https://localhost:8080/",
          "height": 35
        },
        "outputId": "4a7db709-6d95-4029-c31a-7ea6d4ec61c4"
      },
      "cell_type": "code",
      "source": [
        "%cd sample-steam-reviews/"
      ],
      "execution_count": 4,
      "outputs": [
        {
          "output_type": "stream",
          "text": [
            "/content/gdrive/My Drive/sample-steam-reviews\n"
          ],
          "name": "stdout"
        }
      ]
    },
    {
      "metadata": {
        "id": "nhZ1FxF6g9oK",
        "colab_type": "code",
        "colab": {
          "base_uri": "https://localhost:8080/",
          "height": 35
        },
        "outputId": "21a5e8f1-b4b8-4859-87aa-7c7421cdbc31"
      },
      "cell_type": "code",
      "source": [
        "!git pull"
      ],
      "execution_count": 5,
      "outputs": [
        {
          "output_type": "stream",
          "text": [
            "Already up to date.\n"
          ],
          "name": "stdout"
        }
      ]
    },
    {
      "metadata": {
        "id": "RUVySvRMimRw",
        "colab_type": "code",
        "colab": {}
      },
      "cell_type": "code",
      "source": [
        "!pip install -r requirements.txt"
      ],
      "execution_count": 0,
      "outputs": []
    },
    {
      "metadata": {
        "id": "Tj5mlZzSgTns",
        "colab_type": "code",
        "outputId": "a8894d26-2fe3-49d8-a613-49a334ad7565",
        "colab": {
          "base_uri": "https://localhost:8080/",
          "height": 256
        }
      },
      "cell_type": "code",
      "source": [
        "!python -m spacy download en_vectors_web_lg"
      ],
      "execution_count": 7,
      "outputs": [
        {
          "output_type": "stream",
          "text": [
            "Collecting en_vectors_web_lg==2.0.0 from https://github.com/explosion/spacy-models/releases/download/en_vectors_web_lg-2.0.0/en_vectors_web_lg-2.0.0.tar.gz#egg=en_vectors_web_lg==2.0.0\n",
            "\u001b[?25l  Downloading https://github.com/explosion/spacy-models/releases/download/en_vectors_web_lg-2.0.0/en_vectors_web_lg-2.0.0.tar.gz (661.8MB)\n",
            "\u001b[K    100% |████████████████████████████████| 661.8MB 73.0MB/s \n",
            "\u001b[?25hInstalling collected packages: en-vectors-web-lg\n",
            "  Running setup.py install for en-vectors-web-lg ... \u001b[?25ldone\n",
            "\u001b[?25hSuccessfully installed en-vectors-web-lg-2.0.0\n",
            "\n",
            "\u001b[93m    Linking successful\u001b[0m\n",
            "    /usr/local/lib/python3.6/dist-packages/en_vectors_web_lg -->\n",
            "    /usr/local/lib/python3.6/dist-packages/spacy/data/en_vectors_web_lg\n",
            "\n",
            "    You can now load the model via spacy.load('en_vectors_web_lg')\n",
            "\n"
          ],
          "name": "stdout"
        }
      ]
    },
    {
      "metadata": {
        "id": "fMP5lf0LgNhN",
        "colab_type": "code",
        "colab": {}
      },
      "cell_type": "code",
      "source": [
        "#!python word_level_rnn_with_embeddings.py"
      ],
      "execution_count": 0,
      "outputs": []
    },
    {
      "metadata": {
        "id": "851IG8VOt-hw",
        "colab_type": "code",
        "colab": {
          "base_uri": "https://localhost:8080/",
          "height": 35
        },
        "outputId": "9ef5fc23-4fe2-4121-9294-000d6e2a548f"
      },
      "cell_type": "code",
      "source": [
        "from download_review_data import get_artifact_app_id\n",
        "from export_review_data import get_output_file_name\n",
        "\n",
        "from word_level_rnn_with_embeddings import train_model"
      ],
      "execution_count": 8,
      "outputs": [
        {
          "output_type": "stream",
          "text": [
            "Using TensorFlow backend.\n"
          ],
          "name": "stderr"
        }
      ]
    },
    {
      "metadata": {
        "id": "IiPIDBwiwirS",
        "colab_type": "code",
        "colab": {}
      },
      "cell_type": "code",
      "source": [
        "app_id = get_artifact_app_id()\n",
        "text_file_name = get_output_file_name(app_id)"
      ],
      "execution_count": 0,
      "outputs": []
    },
    {
      "metadata": {
        "id": "BHuZvSYcZNPj",
        "colab_type": "code",
        "colab": {
          "base_uri": "https://localhost:8080/",
          "height": 35
        },
        "outputId": "50ce4c93-f917-4fd5-ec74-1dc548ef4cbd"
      },
      "cell_type": "code",
      "source": [
        "!ls weights.word_level_rnn_with_embeddings.*.hdf5"
      ],
      "execution_count": 10,
      "outputs": [
        {
          "output_type": "stream",
          "text": [
            "ls: cannot access 'weights.word_level_rnn_with_embeddings.*.hdf5': No such file or directory\n"
          ],
          "name": "stdout"
        }
      ]
    },
    {
      "metadata": {
        "id": "anCPRjeBwPg4",
        "colab_type": "code",
        "outputId": "13cee4df-d68f-4121-9969-c5dc77dff835",
        "colab": {
          "base_uri": "https://localhost:8080/",
          "height": 3525
        }
      },
      "cell_type": "code",
      "source": [
        "max_sentence_len = 40\n",
        "overlap_size=35\n",
        "\n",
        "num_epochs=20\n",
        "initial_epoch=0\n",
        "model_weights_filename = None # 'weights.word_level_rnn_with_embeddings.epoch_{:02d}.hdf5'.format(initial_epoch)\n",
        "\n",
        "model = train_model(path=text_file_name,\n",
        "                    max_sentence_len=max_sentence_len,\n",
        "                    overlap_size=overlap_size,\n",
        "                    num_epochs=num_epochs,\n",
        "                    model_weights_filename=model_weights_filename,\n",
        "                    initial_epoch=initial_epoch)"
      ],
      "execution_count": 0,
      "outputs": [
        {
          "output_type": "stream",
          "text": [
            "\n",
            "Loading GloVe...\n",
            "\n",
            "Preparing the sentences...\n",
            "Num sentences: 136184\n",
            "Num unique words: 13887\n",
            "Result embedding shape: (13887, 300)\n",
            "\n",
            "Preparing the data for LSTM...\n",
            "train_x shape: (136184, 40)\n",
            "train_y shape: (136184,)\n",
            "\n",
            "Training LSTM...\n",
            "Epoch 1/60\n",
            "136184/136184 [==============================] - 108s 790us/step - loss: 7.0152\n",
            "\n",
            "Generating text after epoch: 0\n",
            "i like this game because... -> i like this game because specs stronger believed favourites liking demand leading whip monetized moderator\n",
            "i do not like this game because... -> i do not like this game because things pleasuring tense randomised throttle paralyzing impacts 014 suffers defacto\n",
            "the... -> the passive mud suss s direkt scary 37 you engaging unwarrented\n",
            "a... -> a entertaining congratulation neigh wrecked hire exciting population today maximize gods\n",
            "Epoch 2/60\n",
            "136184/136184 [==============================] - 105s 774us/step - loss: 6.9246\n",
            "\n",
            "Generating text after epoch: 1\n",
            "i like this game because... -> i like this game because taxes punished 055 insists n someother present classed whiny serial\n",
            "i do not like this game because... -> i do not like this game because definitely actul contentious nominal spoonfeeds lemons loathe uncompromising safely handside\n",
            "the... -> the comfirm bees prevalance paragon whopping crude farm diagonally light brother\n",
            "a... -> a ended specifc toolbox uncommon technicly conflag fanatics halflife winner pure\n",
            "Epoch 3/60\n",
            "136184/136184 [==============================] - 105s 772us/step - loss: 6.9241\n",
            "\n",
            "Generating text after epoch: 2\n",
            "i like this game because... -> i like this game because accordingly destiny studio downs return coop conditional mroe silky microtransaction\n",
            "i do not like this game because... -> i do not like this game because rnp tacticle selecting mecanical efficent mantle esports consern kek dozen\n",
            "the... -> the given pill narrated lineup theirs ofs plenty mtg rings few\n",
            "a... -> a bois seriosuly revise gaming 3910 indifferent overarching gathering frustratingly icefrog\n",
            "Epoch 4/60\n",
            "136184/136184 [==============================] - 105s 772us/step - loss: 6.9223\n",
            "\n",
            "Generating text after epoch: 3\n",
            "i like this game because... -> i like this game because relax observe sh1t weekends ruining resons glitchy paquets lonely nonrefundable\n",
            "i do not like this game because... -> i do not like this game because reworks snowballing paced comparison itself explained sessions resons cocain border\n",
            "the... -> the youa ecstasy expierence paste lanes mana articles gimped suggesting elements\n",
            "a... -> a laughable midgame absent sport spoon pushes unfolds chronicles starters consecutive\n",
            "Epoch 5/60\n",
            "136184/136184 [==============================] - 104s 764us/step - loss: 6.9202\n",
            "\n",
            "Generating text after epoch: 4\n",
            "i like this game because... -> i like this game because anyway concerns info andor whispers umph claw 21 foundations interested\n",
            "i do not like this game because... -> i do not like this game because unwilling buddy starve cocain skyrocket intrest restraint actualy wonderfully pointless\n",
            "the... -> the seen addtional cashing into currently ported ll uw sake 3910\n",
            "a... -> a amplify archaic evident compounds minus omni strangers user absolutley ranting\n",
            "Epoch 6/60\n",
            "136184/136184 [==============================] - 105s 771us/step - loss: 6.9210\n",
            "\n",
            "Generating text after epoch: 5\n",
            "i like this game because... -> i like this game because edit headache genres collapsed data tempted plot jaded shnazzy armament\n",
            "i do not like this game because... -> i do not like this game because etc minion redirected league past introductionary webzine fresh alley 001\n",
            "the... -> the offsite intact mechanics priority favorable mute 73 waves frustrating bloodsuckers\n",
            "a... -> a 04 som pog yeezus counter graphics revenue netrunner solitaire 010\n",
            "Epoch 7/60\n",
            "136184/136184 [==============================] - 106s 775us/step - loss: 6.9211\n",
            "\n",
            "Generating text after epoch: 6\n",
            "i like this game because... -> i like this game because unnecessary enjoyed sounded sums compeling vegging lukaku easier blindly sponsored\n",
            "i do not like this game because... -> i do not like this game because payback survival shortage funky ammends anyways brainless cs flopper 2015\n",
            "the... -> the tracking misery polarizing outcomes mixing tyring blurbs favorably embarrassingly illustrations\n",
            "a... -> a overs sh1t fro deep noone indeed verification deepen drama unwarranted\n",
            "Epoch 8/60\n",
            "136184/136184 [==============================] - 105s 772us/step - loss: 6.9181\n",
            "\n",
            "Generating text after epoch: 7\n",
            "i like this game because... -> i like this game because statted affair wildly stunningly obtainable circumvent contained piloting momenti criticizm\n",
            "i do not like this game because... -> i do not like this game because easier deploying smoothed handy srsly intensity gatekeeping trivial poof 2500\n",
            "the... -> the cannt gwt openings eas loading nda humans slot midgame plastic\n",
            "a... -> a team bloody hateful basis childish randomly start exchanging clams myself\n",
            "Epoch 9/60\n",
            "136184/136184 [==============================] - 104s 765us/step - loss: 6.9228\n",
            "\n",
            "Generating text after epoch: 8\n",
            "i like this game because... -> i like this game because stolen aaaaaaa different truley youve thirty respectful optimally coup jumped\n",
            "i do not like this game because... -> i do not like this game because flippers uhhh wholegrain fact 003 situations 60 paralleled powerpoint royales\n",
            "the... -> the tot hurry nontradeable welcome defenders ranging blandness awesome half wallpaper\n",
            "a... -> a certainly grinded painfuly prioritizes cn doupt theme grid subtract website\n",
            "Epoch 10/60\n",
            "136184/136184 [==============================] - 104s 766us/step - loss: 6.9192\n",
            "\n",
            "Generating text after epoch: 9\n",
            "i like this game because... -> i like this game because 10e yugi extenuating could hoax uglyness becouse beat intrest private\n",
            "i do not like this game because... -> i do not like this game because farewell standard nuisance queues prove funnel decoupled invented millions foiled\n",
            "the... -> the comers store voiceovers 2699 distinguish aspiring hamper echo layed indicative\n",
            "a... -> a tick capitalise simplification alter smh queued hearthstone attending monetary hq\n",
            "Epoch 11/60\n",
            "136184/136184 [==============================] - 105s 774us/step - loss: 6.9147\n",
            "\n",
            "Generating text after epoch: 10\n",
            "i like this game because... -> i like this game because resonated refused trace skipped addictive tickles clues prohibitive coughing lobby\n",
            "i do not like this game because... -> i do not like this game because scrote à ski slog ineresting alts dubious forth exaggerating conclussion\n",
            "the... -> the move alarming ima added competative lemons same comparatively nerfs break\n",
            "a... -> a profitable reasonings accessable calculation style decisions actual 1x garantee source\n",
            "Epoch 12/60\n",
            "136184/136184 [==============================] - 105s 774us/step - loss: 6.9179\n",
            "\n",
            "Generating text after epoch: 11\n",
            "i like this game because... -> i like this game because golems estimates potentially lowly here yal turret acclimated minite 1013\n",
            "i do not like this game because... -> i do not like this game because h17 armament practice squishier cares her nonstop steeper intriguing starved\n",
            "the... -> the adrian disingenuously enroll browsing compeltely consuming long picked supposedly underdogs\n",
            "a... -> a bread genres sfx realise 50s preferences youtubers die nothingness agi\n",
            "Epoch 13/60\n",
            "136184/136184 [==============================] - 105s 769us/step - loss: 6.9157\n",
            "\n",
            "Generating text after epoch: 12\n",
            "i like this game because... -> i like this game because undergo spawing tiny insofar oponent diffuse various cage practical the\n",
            "i do not like this game because... -> i do not like this game because mobility refuses reminiscent dec owning scab carry thrashed absoloutely fitting\n",
            "the... -> the hummus show perfectly regular seeped complaints 310 bastard computerized waited\n",
            "a... -> a globally abled higher swept anomoly moths tabled keepy announcements awesome\n",
            "Epoch 14/60\n",
            "136184/136184 [==============================] - 104s 767us/step - loss: 6.9155\n",
            "\n",
            "Generating text after epoch: 13\n",
            "i like this game because... -> i like this game because past solely conducive memorized heuristic undisputed moreorless divinity formidable stars\n",
            "i do not like this game because... -> i do not like this game because deceptively enthusiasm bracket attracted bummed population everithing coattails miniature buffing\n",
            "the... -> the myi pending afterward plans peeved suprising fed releasing z throttle\n",
            "a... -> a problem sperate feasible socialist vcl backdoored diffferent fallacy repeat acid\n",
            "Epoch 15/60\n",
            "136184/136184 [==============================] - 104s 765us/step - loss: 6.9154\n",
            "\n",
            "Generating text after epoch: 14\n",
            "i like this game because... -> i like this game because retire reordering sooooooo adopters disappointed designer catastrophically determines fell worhtless\n",
            "i do not like this game because... -> i do not like this game because id phones contributed well note elements mess firstly randys quad\n",
            "the... -> the technically summarizes tbf dolars jack rushes replayability half cumulate minimizes\n",
            "a... -> a 499 43 accessed glitches sniper sneak civ queued refunding champs\n",
            "Epoch 16/60\n",
            "136184/136184 [==============================] - 105s 770us/step - loss: 6.9136\n",
            "\n",
            "Generating text after epoch: 15\n",
            "i like this game because... -> i like this game because launch grave casu uncover exploiting abundant prise pound attack costed\n",
            "i do not like this game because... -> i do not like this game because listen spoil shill lores overlooked trush smth bottlenecked geting initialize\n",
            "the... -> the hahaha spewing exacerbates signifigant retardation resolve alrighty silly pricepoint hardware\n",
            "a... -> a group got false replaced barreling polish shards cheating moaners item\n",
            "Epoch 17/60\n",
            "136184/136184 [==============================] - 105s 774us/step - loss: 6.9155\n",
            "\n",
            "Generating text after epoch: 16\n",
            "i like this game because... -> i like this game because youtube written delusion piloting charaters achievment whell forex nickles frustrated\n",
            "i do not like this game because... -> i do not like this game because forsee dominant deluded 72h outdated regretting gain can tourneys debuffs\n",
            "the... -> the slice shooting anyways terrain resurrect seamlessly gamebreaking warlock fluidly slightly\n",
            "a... -> a minded tynan gunna rightly execpt fit fortify intentions quoting grossly\n",
            "Epoch 18/60\n",
            "136184/136184 [==============================] - 105s 772us/step - loss: 6.9139\n",
            "\n",
            "Generating text after epoch: 17\n",
            "i like this game because... -> i like this game because prealpha realization lottery classes pecans closing appealed handpainted prevent stem\n",
            "i do not like this game because... -> i do not like this game because orginal offers nice realized monitization 2025 marketplaces saving wordlessly expects\n",
            "the... -> the pc 017 reconnected casual bias jarring salute durr agaisnt unpleasant\n",
            "a... -> a easilly reinstalling implementing elias bucks gogh favourites center enemy 120fps\n",
            "Epoch 19/60\n",
            "136184/136184 [==============================] - 105s 772us/step - loss: 6.9138\n",
            "\n",
            "Generating text after epoch: 18\n",
            "i like this game because... -> i like this game because abnormally accordingly sir install translating eg expect booty ragequit flashing\n",
            "i do not like this game because... -> i do not like this game because demonstrate spontaneously funnier foreseeable shown ridiculous duels meat dissapointing absorbing\n",
            "the... -> the noses anal january methods newel 3300 solely unskippable tr dcs\n",
            "a... -> a riff reasonable grievance launched intel freedom jesus rely plan signs\n",
            "Epoch 20/60\n",
            "136184/136184 [==============================] - 106s 775us/step - loss: 6.9132\n",
            "\n",
            "Generating text after epoch: 19\n",
            "i like this game because... -> i like this game because temporary steam spoiled nearing staff aficionados drivin unfavourable night accept\n",
            "i do not like this game because... -> i do not like this game because fan enthusiast iws occassionally tf3 rly pair takes chore disconnects\n",
            "the... -> the passing richly 1500 modifier cruising scenes e bloodsuckers ulimited occasion\n",
            "a... -> a great unpack breeds crossplay rotational tuning unforgivable year chosen fatal\n",
            "Epoch 21/60\n",
            "136184/136184 [==============================] - 106s 778us/step - loss: 6.9128\n",
            "\n",
            "Generating text after epoch: 20\n",
            "i like this game because... -> i like this game because tornaments ongoing rollout popularity bios suffocating drunk betweens wales soloist\n",
            "i do not like this game because... -> i do not like this game because recipe stacks grey flavours hanger impotent 84 widespread shoehorning shy\n",
            "the... -> the auction paired emote aswel everywere consuming 15min flyer monitization dota\n",
            "a... -> a flippers goto invalidates meets field mad imaginable masterclass exception conclude\n",
            "Epoch 22/60\n",
            "136184/136184 [==============================] - 122s 896us/step - loss: 6.9115\n",
            "\n",
            "Generating text after epoch: 21\n",
            "i like this game because... -> i like this game because steeper unhappy gain ropes relise outcome dust streak guaranteeing teenager\n",
            "i do not like this game because... -> i do not like this game because bitting larger cigs surprises nighter actives reviewer 3hrs dissapearing dilute\n",
            "the... -> the musical recyling master meager collectability intention crapping sight obscure barren\n",
            "a... -> a woodwork unreliable functioning lanes infestation cheating incredibly inventive ladies father\n",
            "Epoch 23/60\n",
            " 65664/136184 [=============>................] - ETA: 56s - loss: 6.9037"
          ],
          "name": "stdout"
        }
      ]
    }
  ]
}