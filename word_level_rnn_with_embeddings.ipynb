{
  "nbformat": 4,
  "nbformat_minor": 0,
  "metadata": {
    "colab": {
      "name": "word_level_rnn_with_embeddings.ipynb",
      "version": "0.3.2",
      "provenance": [],
      "collapsed_sections": []
    },
    "kernelspec": {
      "name": "python3",
      "display_name": "Python 3"
    },
    "accelerator": "GPU"
  },
  "cells": [
    {
      "metadata": {
        "id": "ZaAQc-XXhwDl",
        "colab_type": "text"
      },
      "cell_type": "markdown",
      "source": [
        "# Sample Steam Reviews with word-level RNN with GloVe embeddings\n",
        "\n",
        "Code inspired from https://github.com/woctezuma/sample-steam-reviews"
      ]
    },
    {
      "metadata": {
        "id": "EJKaWG2ghrA5",
        "colab_type": "code",
        "outputId": "00d4c509-6d2d-4d40-9231-bc0c75d722ae",
        "colab": {
          "base_uri": "https://localhost:8080/",
          "height": 35
        }
      },
      "cell_type": "code",
      "source": [
        "from google.colab import drive\n",
        "\n",
        "mount_folder = '/content/gdrive'\n",
        "drive.mount(mount_folder)"
      ],
      "execution_count": 1,
      "outputs": [
        {
          "output_type": "stream",
          "text": [
            "Drive already mounted at /content/gdrive; to attempt to forcibly remount, call drive.mount(\"/content/gdrive\", force_remount=True).\n"
          ],
          "name": "stdout"
        }
      ]
    },
    {
      "metadata": {
        "id": "0iXYkA6wh-G2",
        "colab_type": "code",
        "outputId": "acf8e818-0585-4311-951a-0fd5fb6443c5",
        "colab": {
          "base_uri": "https://localhost:8080/",
          "height": 35
        }
      },
      "cell_type": "code",
      "source": [
        "%cd '/content/gdrive/My Drive/'"
      ],
      "execution_count": 2,
      "outputs": [
        {
          "output_type": "stream",
          "text": [
            "/content/gdrive/My Drive\n"
          ],
          "name": "stdout"
        }
      ]
    },
    {
      "metadata": {
        "id": "8mv11ec_g4Wf",
        "colab_type": "code",
        "colab": {}
      },
      "cell_type": "code",
      "source": [
        "#!rm -rf sample-steam-reviews/\n",
        "#!git clone https://github.com/woctezuma/sample-steam-reviews.git"
      ],
      "execution_count": 0,
      "outputs": []
    },
    {
      "metadata": {
        "id": "A23sSmypg7km",
        "colab_type": "code",
        "outputId": "a6030d6e-5713-4b4e-c2d9-499eca6958ed",
        "colab": {
          "base_uri": "https://localhost:8080/",
          "height": 35
        }
      },
      "cell_type": "code",
      "source": [
        "%cd sample-steam-reviews/"
      ],
      "execution_count": 4,
      "outputs": [
        {
          "output_type": "stream",
          "text": [
            "/content/gdrive/My Drive/sample-steam-reviews\n"
          ],
          "name": "stdout"
        }
      ]
    },
    {
      "metadata": {
        "id": "nhZ1FxF6g9oK",
        "colab_type": "code",
        "outputId": "6e42edc4-48de-47c1-ae34-99eaee9c21b9",
        "colab": {
          "base_uri": "https://localhost:8080/",
          "height": 35
        }
      },
      "cell_type": "code",
      "source": [
        "!git pull"
      ],
      "execution_count": 5,
      "outputs": [
        {
          "output_type": "stream",
          "text": [
            "Already up to date.\n"
          ],
          "name": "stdout"
        }
      ]
    },
    {
      "metadata": {
        "id": "RUVySvRMimRw",
        "colab_type": "code",
        "colab": {}
      },
      "cell_type": "code",
      "source": [
        "!pip install -r requirements.txt"
      ],
      "execution_count": 0,
      "outputs": []
    },
    {
      "metadata": {
        "id": "Tj5mlZzSgTns",
        "colab_type": "code",
        "colab": {}
      },
      "cell_type": "code",
      "source": [
        "!python -m spacy download en_vectors_web_lg"
      ],
      "execution_count": 0,
      "outputs": []
    },
    {
      "metadata": {
        "id": "fMP5lf0LgNhN",
        "colab_type": "code",
        "colab": {}
      },
      "cell_type": "code",
      "source": [
        "#!python word_level_rnn_with_embeddings.py"
      ],
      "execution_count": 0,
      "outputs": []
    },
    {
      "metadata": {
        "id": "851IG8VOt-hw",
        "colab_type": "code",
        "outputId": "54900746-9f1b-4399-8e81-76e1034bb1d3",
        "colab": {
          "base_uri": "https://localhost:8080/",
          "height": 35
        }
      },
      "cell_type": "code",
      "source": [
        "import spacy\n",
        "\n",
        "from download_review_data import get_artifact_app_id\n",
        "from export_review_data import get_output_file_name\n",
        "\n",
        "from word_level_rnn_with_embeddings import train_model, get_vocabulary_file_name, generate_examples"
      ],
      "execution_count": 9,
      "outputs": [
        {
          "output_type": "stream",
          "text": [
            "Using TensorFlow backend.\n"
          ],
          "name": "stderr"
        }
      ]
    },
    {
      "metadata": {
        "id": "IiPIDBwiwirS",
        "colab_type": "code",
        "colab": {}
      },
      "cell_type": "code",
      "source": [
        "app_id = get_artifact_app_id()\n",
        "text_file_name = get_output_file_name(app_id)"
      ],
      "execution_count": 0,
      "outputs": []
    },
    {
      "metadata": {
        "id": "BHuZvSYcZNPj",
        "colab_type": "code",
        "colab": {}
      },
      "cell_type": "code",
      "source": [
        "!ls model.word_level_rnn_with_embeddings.*.hdf5"
      ],
      "execution_count": 0,
      "outputs": []
    },
    {
      "metadata": {
        "id": "g3KW2HnzZrJe",
        "colab_type": "code",
        "colab": {}
      },
      "cell_type": "code",
      "source": [
        "max_sentence_len = 100\n",
        "overlap_size = 95\n",
        "num_epochs = 20\n",
        "initial_epoch = 0\n",
        "full_model_filename = None # 'model.word_level_rnn_with_embeddings.epoch_{:02d}.hdf5'.format(initial_epoch)\n",
        "filter_max = True"
      ],
      "execution_count": 0,
      "outputs": []
    },
    {
      "metadata": {
        "id": "anCPRjeBwPg4",
        "colab_type": "code",
        "outputId": "1a593ca4-a4bb-474c-e65b-fecb50180071",
        "colab": {
          "base_uri": "https://localhost:8080/",
          "height": 5418
        }
      },
      "cell_type": "code",
      "source": [
        "# Train\n",
        "\n",
        "model, sorted_data_driven_vocabulary = train_model(path=text_file_name,\n",
        "                                                   max_sentence_len=max_sentence_len,\n",
        "                                                   overlap_size=overlap_size,\n",
        "                                                   num_epochs=num_epochs,\n",
        "                                                   full_model_filename=full_model_filename,\n",
        "                                                   initial_epoch=initial_epoch,\n",
        "                                                   filter_max=filter_max)\n",
        "\n",
        "with open(get_vocabulary_file_name(), 'w', encoding='utf-8') as f:\n",
        "    print(sorted_data_driven_vocabulary, file=f)"
      ],
      "execution_count": 15,
      "outputs": [
        {
          "output_type": "stream",
          "text": [
            "\n",
            "Loading GloVe...\n",
            "\n",
            "Preparing the sentences...\n",
            "Num sentences: 12331\n",
            "Num unique words: 13887\n",
            "Result embedding shape: (13887, 300)\n",
            "\n",
            "Preparing the data for LSTM...\n",
            "train_x shape: (12331, 100)\n",
            "train_y shape: (12331,)\n",
            "\n",
            "Training LSTM...\n",
            "Epoch 1/20\n",
            "12331/12331 [==============================] - 54s 4ms/step - loss: 7.1067\n",
            "\n",
            "Generating text after epoch: 0\n",
            "i like this game because...\n",
            "-> i like this game because disadvantages 12ish bim advancement kidda shame variety path eat discover\n",
            "i do not like this game because...\n",
            "-> i do not like this game because visit refreshes opposed seamless list freely parlor 0121 replication 1017\n",
            "the...\n",
            "-> the too prevent saturated masterclass omfg crashes fundamentally shell accessory immediately\n",
            "a...\n",
            "-> a ho foresight discussion thati dem motivation more wont ratios selfserving\n",
            "Sadly, randomness affects the most important aspects of gameplay. From a competitive standpoint, this game feels very much like Gwent in how alot it is a game of math. If you really want to play a card game, look for...\n",
            "-> sadly randomness affects the most important aspects of gameplay from a competitive standpoint this game feels very much like gwent in how alot it is a game of math if you really want to play a card game look for fricking 1020 outplaying x10 awp timeout tedius disheartening wherre tornaments\n",
            "Epoch 2/20\n",
            "12331/12331 [==============================] - 52s 4ms/step - loss: 6.6197\n",
            "\n",
            "Generating text after epoch: 1\n",
            "i like this game because...\n",
            "-> i like this game because top geez toes lasted sad death intrigued suffered guantlet teaching\n",
            "i do not like this game because...\n",
            "-> i do not like this game because bad mean ample phoenix pitch skewed urge lackluster coinciding simulation\n",
            "the...\n",
            "-> the mime complainging finite officially csgo champs infini playstyles perma lastly\n",
            "a...\n",
            "-> a short need tynan forking lottery coherent spesific spends patiently juggling\n",
            "Sadly, randomness affects the most important aspects of gameplay. From a competitive standpoint, this game feels very much like Gwent in how alot it is a game of math. If you really want to play a card game, look for...\n",
            "-> sadly randomness affects the most important aspects of gameplay from a competitive standpoint this game feels very much like gwent in how alot it is a game of math if you really want to play a card game look for breathtaking mayor resolving prime mocha machines perfer othe pokémon bits\n",
            "Epoch 3/20\n",
            "12331/12331 [==============================] - 52s 4ms/step - loss: 6.5771\n",
            "\n",
            "Generating text after epoch: 2\n",
            "i like this game because...\n",
            "-> i like this game because strive trace icing lie critize loaning seeming buisness okay knowledge\n",
            "i do not like this game because...\n",
            "-> i do not like this game because responsive credible fairest bluffing jumpstarting profit fate intriguing percentage counterstrike\n",
            "the...\n",
            "-> the typing recreation gets stregth governs pocket roadmaps healing 154 desk\n",
            "a...\n",
            "-> a influence thematic bangup thoroughly lul married hadnt report tarnished library\n",
            "Sadly, randomness affects the most important aspects of gameplay. From a competitive standpoint, this game feels very much like Gwent in how alot it is a game of math. If you really want to play a card game, look for...\n",
            "-> sadly randomness affects the most important aspects of gameplay from a competitive standpoint this game feels very much like gwent in how alot it is a game of math if you really want to play a card game look for upgradable boat myriad slither unforced occured urge fluff tradeing packed\n",
            "Epoch 4/20\n",
            "12331/12331 [==============================] - 52s 4ms/step - loss: 6.5924\n",
            "\n",
            "Generating text after epoch: 3\n",
            "i like this game because...\n",
            "-> i like this game because modest pain quality feasts 2002 expert infinitely reinvestment color womb\n",
            "i do not like this game because...\n",
            "-> i do not like this game because rapid menu improvements 2018 scales io smear literal perfer overlooking\n",
            "the...\n",
            "-> the enjoyed innovate installing wet onions creatable notably undestand smite but\n",
            "a...\n",
            "-> a permutations npc motive keep this creature crunching unpredictable captain clamoring\n",
            "Sadly, randomness affects the most important aspects of gameplay. From a competitive standpoint, this game feels very much like Gwent in how alot it is a game of math. If you really want to play a card game, look for...\n",
            "-> sadly randomness affects the most important aspects of gameplay from a competitive standpoint this game feels very much like gwent in how alot it is a game of math if you really want to play a card game look for mega dare stuck indicators 1000000 unsatisfying market strikes 0 randomizer\n",
            "Epoch 5/20\n",
            "12331/12331 [==============================] - 52s 4ms/step - loss: 6.5828\n",
            "\n",
            "Generating text after epoch: 4\n",
            "i like this game because...\n",
            "-> i like this game because briefly younger feinting hrs deal 3c stomps use names 98\n",
            "i do not like this game because...\n",
            "-> i do not like this game because invested nearing tougher mechanicly stores iff months alleviate crowd 810\n",
            "the...\n",
            "-> the itu relegates broader 055 extreme visual scrap exhilarating wield refused\n",
            "a...\n",
            "-> a nerfing addictiveness priced unlocked cheery malygos livin preexisting exploding eyelid\n",
            "Sadly, randomness affects the most important aspects of gameplay. From a competitive standpoint, this game feels very much like Gwent in how alot it is a game of math. If you really want to play a card game, look for...\n",
            "-> sadly randomness affects the most important aspects of gameplay from a competitive standpoint this game feels very much like gwent in how alot it is a game of math if you really want to play a card game look for choise official singe 14 uses fastpaced gacha multicolored offsite milwaukee\n",
            "Epoch 6/20\n",
            "12331/12331 [==============================] - 52s 4ms/step - loss: 6.5838\n",
            "\n",
            "Generating text after epoch: 5\n",
            "i like this game because...\n",
            "-> i like this game because as insidious strangers likelihood ceiling exponentially replay mi witch colors\n",
            "i do not like this game because...\n",
            "-> i do not like this game because exposed bullet developing facts duhh 04 hurray avarage randos pisspoor\n",
            "the...\n",
            "-> the awesomely audiobook detractor managment identities excitement collectability persist allthough alas\n",
            "a...\n",
            "-> a day3 functions masterpieces rescuing afficianado whilst combat kenny streams devil\n",
            "Sadly, randomness affects the most important aspects of gameplay. From a competitive standpoint, this game feels very much like Gwent in how alot it is a game of math. If you really want to play a card game, look for...\n",
            "-> sadly randomness affects the most important aspects of gameplay from a competitive standpoint this game feels very much like gwent in how alot it is a game of math if you really want to play a card game look for hackneyed advantageous uninstal boots forgets ethics poured lf manner acutal\n",
            "Epoch 7/20\n",
            "12331/12331 [==============================] - 52s 4ms/step - loss: 6.5949\n",
            "\n",
            "Generating text after epoch: 6\n",
            "i like this game because...\n",
            "-> i like this game because hasbro homebrew instants deducting cah breath premature rap 5050 histories\n",
            "i do not like this game because...\n",
            "-> i do not like this game because unstructured premium mem mechanical grindstone signs looooooong wisdom defunct imbedded\n",
            "the...\n",
            "-> the intrested mainstay lmao record forth shold tolerate offten accommodating borderline\n",
            "a...\n",
            "-> a suffering accesible calling worlds weakest subscribe pockets entirely scarab piling\n",
            "Sadly, randomness affects the most important aspects of gameplay. From a competitive standpoint, this game feels very much like Gwent in how alot it is a game of math. If you really want to play a card game, look for...\n",
            "-> sadly randomness affects the most important aspects of gameplay from a competitive standpoint this game feels very much like gwent in how alot it is a game of math if you really want to play a card game look for stats fingers deigned freezes simulates 140 posture stopped doo weaker\n",
            "Epoch 8/20\n",
            "12331/12331 [==============================] - 52s 4ms/step - loss: 6.6108\n",
            "\n",
            "Generating text after epoch: 7\n",
            "i like this game because...\n",
            "-> i like this game because maddening press insuring rears knobheads bends sustain pleasantly được ebay\n",
            "i do not like this game because...\n",
            "-> i do not like this game because lack polarizing bots servere noses equalled reboot modus hr insignificant\n",
            "the...\n",
            "-> the loans outlast allow monologue attracting chens justify tradeoffs gawd tempted\n",
            "a...\n",
            "-> a wagering gamer walkover whenever noone depending canceled parent 265 05\n",
            "Sadly, randomness affects the most important aspects of gameplay. From a competitive standpoint, this game feels very much like Gwent in how alot it is a game of math. If you really want to play a card game, look for...\n",
            "-> sadly randomness affects the most important aspects of gameplay from a competitive standpoint this game feels very much like gwent in how alot it is a game of math if you really want to play a card game look for satisfactory tying sending clawed entirety predict montage parlance soma assholes\n",
            "Epoch 9/20\n",
            "12331/12331 [==============================] - 52s 4ms/step - loss: 6.6221\n",
            "\n",
            "Generating text after epoch: 8\n",
            "i like this game because...\n",
            "-> i like this game because ull owned abled shoehorning shy entering joyless culture uphill recent\n",
            "i do not like this game because...\n",
            "-> i do not like this game because cancer gaem positionning gamebreaking egregious attributes generosity renamed hppy mans\n",
            "the...\n",
            "-> the simple towers destiny resulting google emptying vote floundering cutsie worsened\n",
            "a...\n",
            "-> a 79 delusional target sales hoping summon useless many engage forseeable\n",
            "Sadly, randomness affects the most important aspects of gameplay. From a competitive standpoint, this game feels very much like Gwent in how alot it is a game of math. If you really want to play a card game, look for...\n",
            "-> sadly randomness affects the most important aspects of gameplay from a competitive standpoint this game feels very much like gwent in how alot it is a game of math if you really want to play a card game look for 247 seperated expectations aswel recieving terribly mountain disrupts fooled limited\n",
            "Epoch 10/20\n",
            "12331/12331 [==============================] - 52s 4ms/step - loss: 6.6420\n",
            "\n",
            "Generating text after epoch: 9\n",
            "i like this game because...\n",
            "-> i like this game because points whoever digitals 014 preview stright unlimitted spikes champion invoker\n",
            "i do not like this game because...\n",
            "-> i do not like this game because bugs blizz sorting deepening relevancy flips pricier struggles intrested shady\n",
            "the...\n",
            "-> the dem recommned frustrated streams weplay pitch deluxe inovative diff upto\n",
            "a...\n",
            "-> a 61 suddenly tos snatching streamlining parties 2005 pump ripples sucks\n",
            "Sadly, randomness affects the most important aspects of gameplay. From a competitive standpoint, this game feels very much like Gwent in how alot it is a game of math. If you really want to play a card game, look for...\n",
            "-> sadly randomness affects the most important aspects of gameplay from a competitive standpoint this game feels very much like gwent in how alot it is a game of math if you really want to play a card game look for with nonstop favouritism copying memorize genious constraints unbelievably deserve controversial\n",
            "Epoch 11/20\n",
            "12331/12331 [==============================] - 52s 4ms/step - loss: 6.6334\n",
            "\n",
            "Generating text after epoch: 10\n",
            "i like this game because...\n",
            "-> i like this game because around confusing experimented lying discounted potter lauding hightly paypal next\n",
            "i do not like this game because...\n",
            "-> i do not like this game because 10 wiggle broad predictably capable constrained hunters thre stray legends\n",
            "the...\n",
            "-> the icons runaway rise woah dice sides seller surrender anytime hae\n",
            "a...\n",
            "-> a pains chugging disneys casualy weed underneath ment comebacks boi initative\n",
            "Sadly, randomness affects the most important aspects of gameplay. From a competitive standpoint, this game feels very much like Gwent in how alot it is a game of math. If you really want to play a card game, look for...\n",
            "-> sadly randomness affects the most important aspects of gameplay from a competitive standpoint this game feels very much like gwent in how alot it is a game of math if you really want to play a card game look for worst fairest donate slice penalties dislike efficiently livestreams download restrictions\n",
            "Epoch 12/20\n",
            "12331/12331 [==============================] - 52s 4ms/step - loss: 6.6182\n",
            "\n",
            "Generating text after epoch: 11\n",
            "i like this game because...\n",
            "-> i like this game because fluctuation uncompleted pressuring contentious ressources relevancy categories steriods pm shoo\n",
            "i do not like this game because...\n",
            "-> i do not like this game because bait 64s livestreams fore cringeworthy appealling ample rehashing whopped rg\n",
            "the...\n",
            "-> the nonfactor hypocrite intuitive the banter lately suprising ofc bogging cater\n",
            "a...\n",
            "-> a huuuuuuge eventually bangup talents 80hp independently spendable detailed successive tagline\n",
            "Sadly, randomness affects the most important aspects of gameplay. From a competitive standpoint, this game feels very much like Gwent in how alot it is a game of math. If you really want to play a card game, look for...\n",
            "-> sadly randomness affects the most important aspects of gameplay from a competitive standpoint this game feels very much like gwent in how alot it is a game of math if you really want to play a card game look for affixes adverse laggy ais winter grueling forefront cutting kings sponsored\n",
            "Epoch 13/20\n",
            "12331/12331 [==============================] - 52s 4ms/step - loss: 6.6519\n",
            "\n",
            "Generating text after epoch: 12\n",
            "i like this game because...\n",
            "-> i like this game because fixing respecting recomend uneeded conceivable shackled simplest laptop shoehorning obnoxious\n",
            "i do not like this game because...\n",
            "-> i do not like this game because number profiteers 16x9 hedge calculated announcing scaling congratulations terran 2200\n",
            "the...\n",
            "-> the choices satisfying rediculously interests 1371 201 possitive fan relase guides\n",
            "a...\n",
            "-> a betweens worded enemy sized dammit gpu fallen responce 10100 two\n",
            "Sadly, randomness affects the most important aspects of gameplay. From a competitive standpoint, this game feels very much like Gwent in how alot it is a game of math. If you really want to play a card game, look for...\n",
            "-> sadly randomness affects the most important aspects of gameplay from a competitive standpoint this game feels very much like gwent in how alot it is a game of math if you really want to play a card game look for moderator notions dinner 3x offsetting newest proves traders muttering ridden\n",
            "Epoch 14/20\n",
            "12331/12331 [==============================] - 52s 4ms/step - loss: 6.6433\n",
            "\n",
            "Generating text after epoch: 13\n",
            "i like this game because...\n",
            "-> i like this game because reign serial subsciption vision preservation critize casino undestand baffles jam\n",
            "i do not like this game because...\n",
            "-> i do not like this game because tags grain pricey exagerating acquire distinguishes saying throught lists guessed\n",
            "the...\n",
            "-> the disagreement consistency reportedly child fold refunds claustrophobic stablize testers hindering\n",
            "a...\n",
            "-> a mode need putang society distributed urgent delightful overthought childhood existant\n",
            "Sadly, randomness affects the most important aspects of gameplay. From a competitive standpoint, this game feels very much like Gwent in how alot it is a game of math. If you really want to play a card game, look for...\n",
            "-> sadly randomness affects the most important aspects of gameplay from a competitive standpoint this game feels very much like gwent in how alot it is a game of math if you really want to play a card game look for where port gud stayed gameplays dayz unbeatable exorbitant togeather baby\n",
            "Epoch 15/20\n",
            "12331/12331 [==============================] - 52s 4ms/step - loss: 6.6385\n",
            "\n",
            "Generating text after epoch: 14\n",
            "i like this game because...\n",
            "-> i like this game because conceded 50ish ally minons drinks modes yell enough whoops pertinent\n",
            "i do not like this game because...\n",
            "-> i do not like this game because far opposed lof granular dead recyling ambivalent pairs glorious beginning\n",
            "the...\n",
            "-> the fee got wrap drafted miserably gameflow tension outcomes tutorial restarted\n",
            "a...\n",
            "-> a loe fake blasphemy sped harm hating overrepresented typing roboty utilized\n",
            "Sadly, randomness affects the most important aspects of gameplay. From a competitive standpoint, this game feels very much like Gwent in how alot it is a game of math. If you really want to play a card game, look for...\n",
            "-> sadly randomness affects the most important aspects of gameplay from a competitive standpoint this game feels very much like gwent in how alot it is a game of math if you really want to play a card game look for liars forget 80 labels screams calculator enjoy funny bdo 20k\n",
            "Epoch 16/20\n",
            "12331/12331 [==============================] - 52s 4ms/step - loss: 6.6377\n",
            "\n",
            "Generating text after epoch: 15\n",
            "i like this game because...\n",
            "-> i like this game because related fresh wasting dilute flair hostile potential too uses maintains\n",
            "i do not like this game because...\n",
            "-> i do not like this game because frustratingly clueless charlie staggering eternal proceed lucky pleasant sophisticated sake\n",
            "the...\n",
            "-> the captivate deployed unacceptable historical rick opponet flipped cheaper automaticly stops\n",
            "a...\n",
            "-> a 008 mentally unfuck outside jet 1630 3565 goul chiller retiring\n",
            "Sadly, randomness affects the most important aspects of gameplay. From a competitive standpoint, this game feels very much like Gwent in how alot it is a game of math. If you really want to play a card game, look for...\n",
            "-> sadly randomness affects the most important aspects of gameplay from a competitive standpoint this game feels very much like gwent in how alot it is a game of math if you really want to play a card game look for omnipresent firmly wrecked narrated bugs ian favor purely mobs ultimates\n",
            "Epoch 17/20\n",
            "12331/12331 [==============================] - 53s 4ms/step - loss: 6.6325\n",
            "\n",
            "Generating text after epoch: 16\n",
            "i like this game because...\n",
            "-> i like this game because posibility deceive expires tooth outset counterspell lends friendliest casper misinformation\n",
            "i do not like this game because...\n",
            "-> i do not like this game because attach drained fools donate archetypes earlier tactically unprofessionalism aim contructed\n",
            "the...\n",
            "-> the complaing et chamber themselves crunching paradigms comparatively overcome 175 actaully\n",
            "a...\n",
            "-> a wide since cookies tahnks june geniuses buffed tests staggering adition\n",
            "Sadly, randomness affects the most important aspects of gameplay. From a competitive standpoint, this game feels very much like Gwent in how alot it is a game of math. If you really want to play a card game, look for...\n",
            "-> sadly randomness affects the most important aspects of gameplay from a competitive standpoint this game feels very much like gwent in how alot it is a game of math if you really want to play a card game look for bashed 95 dissect shameless prevented someother purse moment altho average\n",
            "Epoch 18/20\n",
            "12331/12331 [==============================] - 52s 4ms/step - loss: 6.6343\n",
            "\n",
            "Generating text after epoch: 17\n",
            "i like this game because...\n",
            "-> i like this game because provide move th minimize accounts reigns hands tails this unpleasant\n",
            "i do not like this game because...\n",
            "-> i do not like this game because involves fine crystalized drool stunlock uncapped deliberately barely product wack\n",
            "the...\n",
            "-> the goods satisifed phone forseable discounted 4th caught separately cherry sluggish\n",
            "a...\n",
            "-> a holders unhealthy habit surge usually gl reported researching make shitting\n",
            "Sadly, randomness affects the most important aspects of gameplay. From a competitive standpoint, this game feels very much like Gwent in how alot it is a game of math. If you really want to play a card game, look for...\n",
            "-> sadly randomness affects the most important aspects of gameplay from a competitive standpoint this game feels very much like gwent in how alot it is a game of math if you really want to play a card game look for interests invoker veteran breath absent relocate organized spectators rebalancing microing\n",
            "Epoch 19/20\n",
            "12331/12331 [==============================] - 52s 4ms/step - loss: 6.6382\n",
            "\n",
            "Generating text after epoch: 18\n",
            "i like this game because...\n",
            "-> i like this game because hears collaboration rated marked 1804 beatifully sacrifice intrusive tilted cpu\n",
            "i do not like this game because...\n",
            "-> i do not like this game because 150 recreate kiddos directon unchanged liberating super curator overtake schedule\n",
            "the...\n",
            "-> the ar heresy visibly invites kudos waster tonights called klunky remote\n",
            "a...\n",
            "-> a wish pisses appropiate 260 functionality player burgers afterall occurred lf\n",
            "Sadly, randomness affects the most important aspects of gameplay. From a competitive standpoint, this game feels very much like Gwent in how alot it is a game of math. If you really want to play a card game, look for...\n",
            "-> sadly randomness affects the most important aspects of gameplay from a competitive standpoint this game feels very much like gwent in how alot it is a game of math if you really want to play a card game look for when taxing gamemodes inferior official tutorial stability perceptions chip lane\n",
            "Epoch 20/20\n",
            "12331/12331 [==============================] - 52s 4ms/step - loss: 6.6386\n",
            "\n",
            "Generating text after epoch: 19\n",
            "i like this game because...\n",
            "-> i like this game because players streamer benjamins lukaku strictly bugged justa elderscrolls occasions cosmetic\n",
            "i do not like this game because...\n",
            "-> i do not like this game because oneshots foward whopping pisses catgirls rabbit yesno disconnect reader phase\n",
            "the...\n",
            "-> the mmrs nomal broze comment and compositions protection res enrich distributing\n",
            "a...\n",
            "-> a craps center skins garauntee parallels slows dificult types exceeds simultaneous\n",
            "Sadly, randomness affects the most important aspects of gameplay. From a competitive standpoint, this game feels very much like Gwent in how alot it is a game of math. If you really want to play a card game, look for...\n",
            "-> sadly randomness affects the most important aspects of gameplay from a competitive standpoint this game feels very much like gwent in how alot it is a game of math if you really want to play a card game look for im complains 1055 actuallly paradigm concerns losses refuse policies gimmicks\n"
          ],
          "name": "stdout"
        }
      ]
    },
    {
      "metadata": {
        "id": "OAy1l98mZWdL",
        "colab_type": "code",
        "colab": {}
      },
      "cell_type": "code",
      "source": [
        "# Show results\n",
        "\n",
        "load_previous_vocabulary = False\n",
        "\n",
        "if load_previous_vocabulary:\n",
        "    with open(get_vocabulary_file_name(), 'r', encoding='utf-8') as f:\n",
        "        sorted_data_driven_vocabulary = f.readlines()\n",
        "\n",
        "nlp = spacy.load('en_vectors_web_lg')\n",
        "word_model = nlp.vocab\n",
        "\n",
        "generate_examples(model, sorted_data_driven_vocabulary, word_model, num_generated=10)"
      ],
      "execution_count": 0,
      "outputs": []
    }
  ]
}