{
  "nbformat": 4,
  "nbformat_minor": 0,
  "metadata": {
    "colab": {
      "name": "word_level_rnn_with_embeddings.ipynb",
      "version": "0.3.2",
      "provenance": [],
      "collapsed_sections": []
    },
    "kernelspec": {
      "name": "python3",
      "display_name": "Python 3"
    },
    "accelerator": "GPU"
  },
  "cells": [
    {
      "metadata": {
        "id": "ZaAQc-XXhwDl",
        "colab_type": "text"
      },
      "cell_type": "markdown",
      "source": [
        "# Sample Steam Reviews with word-level RNN with GloVe embeddings\n",
        "\n",
        "Code inspired from https://github.com/woctezuma/sample-steam-reviews"
      ]
    },
    {
      "metadata": {
        "id": "EJKaWG2ghrA5",
        "colab_type": "code",
        "outputId": "53fc3452-61d9-4c03-98de-81125793920a",
        "colab": {
          "base_uri": "https://localhost:8080/",
          "height": 35
        }
      },
      "cell_type": "code",
      "source": [
        "from google.colab import drive\n",
        "\n",
        "mount_folder = '/content/gdrive'\n",
        "drive.mount(mount_folder)"
      ],
      "execution_count": 12,
      "outputs": [
        {
          "output_type": "stream",
          "text": [
            "Drive already mounted at /content/gdrive; to attempt to forcibly remount, call drive.mount(\"/content/gdrive\", force_remount=True).\n"
          ],
          "name": "stdout"
        }
      ]
    },
    {
      "metadata": {
        "id": "0iXYkA6wh-G2",
        "colab_type": "code",
        "outputId": "f4514475-f31f-40a5-aa2c-b0d45c160f5f",
        "colab": {
          "base_uri": "https://localhost:8080/",
          "height": 35
        }
      },
      "cell_type": "code",
      "source": [
        "%cd '/content/gdrive/My Drive/'"
      ],
      "execution_count": 13,
      "outputs": [
        {
          "output_type": "stream",
          "text": [
            "/content/gdrive/My Drive\n"
          ],
          "name": "stdout"
        }
      ]
    },
    {
      "metadata": {
        "id": "8mv11ec_g4Wf",
        "colab_type": "code",
        "colab": {}
      },
      "cell_type": "code",
      "source": [
        "#!rm -rf sample-steam-reviews/\n",
        "#!git clone https://github.com/woctezuma/sample-steam-reviews.git"
      ],
      "execution_count": 0,
      "outputs": []
    },
    {
      "metadata": {
        "id": "A23sSmypg7km",
        "colab_type": "code",
        "outputId": "af189569-d000-4c57-81ad-cf93948ed2b8",
        "colab": {
          "base_uri": "https://localhost:8080/",
          "height": 35
        }
      },
      "cell_type": "code",
      "source": [
        "%cd sample-steam-reviews/"
      ],
      "execution_count": 15,
      "outputs": [
        {
          "output_type": "stream",
          "text": [
            "/content/gdrive/My Drive/sample-steam-reviews\n"
          ],
          "name": "stdout"
        }
      ]
    },
    {
      "metadata": {
        "id": "nhZ1FxF6g9oK",
        "colab_type": "code",
        "outputId": "daa00b56-fbbc-47f2-bd17-8202b6cb5347",
        "colab": {
          "base_uri": "https://localhost:8080/",
          "height": 72
        }
      },
      "cell_type": "code",
      "source": [
        "!git pull\n",
        "!git checkout stacked-lstm"
      ],
      "execution_count": 16,
      "outputs": [
        {
          "output_type": "stream",
          "text": [
            "Already up to date.\n",
            "Already on 'stacked-lstm'\n",
            "Your branch is up to date with 'origin/stacked-lstm'.\n"
          ],
          "name": "stdout"
        }
      ]
    },
    {
      "metadata": {
        "id": "RUVySvRMimRw",
        "colab_type": "code",
        "colab": {}
      },
      "cell_type": "code",
      "source": [
        "!pip install -r requirements.txt"
      ],
      "execution_count": 0,
      "outputs": []
    },
    {
      "metadata": {
        "id": "Tj5mlZzSgTns",
        "colab_type": "code",
        "outputId": "d099e5da-ce50-49e7-b9bd-100dacd8288a",
        "colab": {
          "base_uri": "https://localhost:8080/",
          "height": 184
        }
      },
      "cell_type": "code",
      "source": [
        "!python -m spacy download en_vectors_web_lg"
      ],
      "execution_count": 18,
      "outputs": [
        {
          "output_type": "stream",
          "text": [
            "Requirement already satisfied: en_vectors_web_lg==2.0.0 from https://github.com/explosion/spacy-models/releases/download/en_vectors_web_lg-2.0.0/en_vectors_web_lg-2.0.0.tar.gz#egg=en_vectors_web_lg==2.0.0 in /usr/local/lib/python3.6/dist-packages (2.0.0)\n",
            "\n",
            "\u001b[93m    Linking successful\u001b[0m\n",
            "    /usr/local/lib/python3.6/dist-packages/en_vectors_web_lg -->\n",
            "    /usr/local/lib/python3.6/dist-packages/spacy/data/en_vectors_web_lg\n",
            "\n",
            "    You can now load the model via spacy.load('en_vectors_web_lg')\n",
            "\n"
          ],
          "name": "stdout"
        }
      ]
    },
    {
      "metadata": {
        "id": "fMP5lf0LgNhN",
        "colab_type": "code",
        "colab": {}
      },
      "cell_type": "code",
      "source": [
        "#!python word_level_rnn_with_embeddings.py"
      ],
      "execution_count": 0,
      "outputs": []
    },
    {
      "metadata": {
        "id": "851IG8VOt-hw",
        "colab_type": "code",
        "colab": {}
      },
      "cell_type": "code",
      "source": [
        "from download_review_data import get_artifact_app_id\n",
        "from export_review_data import get_output_file_name\n",
        "\n",
        "from word_level_rnn_with_embeddings import train_model"
      ],
      "execution_count": 0,
      "outputs": []
    },
    {
      "metadata": {
        "id": "IiPIDBwiwirS",
        "colab_type": "code",
        "colab": {}
      },
      "cell_type": "code",
      "source": [
        "app_id = get_artifact_app_id()\n",
        "text_file_name = get_output_file_name(app_id)"
      ],
      "execution_count": 0,
      "outputs": []
    },
    {
      "metadata": {
        "id": "BHuZvSYcZNPj",
        "colab_type": "code",
        "outputId": "5d5c2b54-feec-48bf-f22d-52062b52b15a",
        "colab": {
          "base_uri": "https://localhost:8080/",
          "height": 182
        }
      },
      "cell_type": "code",
      "source": [
        "!ls weights.word_level_rnn_with_embeddings.*.hdf5"
      ],
      "execution_count": 21,
      "outputs": [
        {
          "output_type": "stream",
          "text": [
            "weights.word_level_rnn_with_embeddings.epoch_01.hdf5\n",
            "weights.word_level_rnn_with_embeddings.epoch_02.hdf5\n",
            "weights.word_level_rnn_with_embeddings.epoch_03.hdf5\n",
            "weights.word_level_rnn_with_embeddings.epoch_04.hdf5\n",
            "weights.word_level_rnn_with_embeddings.epoch_05.hdf5\n",
            "weights.word_level_rnn_with_embeddings.epoch_06.hdf5\n",
            "weights.word_level_rnn_with_embeddings.epoch_07.hdf5\n",
            "weights.word_level_rnn_with_embeddings.epoch_08.hdf5\n",
            "weights.word_level_rnn_with_embeddings.epoch_09.hdf5\n"
          ],
          "name": "stdout"
        }
      ]
    },
    {
      "metadata": {
        "id": "anCPRjeBwPg4",
        "colab_type": "code",
        "outputId": "67efa69b-5cda-428a-ba0b-e97aeaed2992",
        "colab": {
          "base_uri": "https://localhost:8080/",
          "height": 3194
        }
      },
      "cell_type": "code",
      "source": [
        "max_sentence_len = 40\n",
        "overlap_size=35\n",
        "\n",
        "num_epochs=20\n",
        "initial_epoch=0\n",
        "model_weights_filename = None # 'weights.word_level_rnn_with_embeddings.epoch_{:02d}.hdf5'.format(initial_epoch)\n",
        "\n",
        "model = train_model(path=text_file_name,\n",
        "                    max_sentence_len=max_sentence_len,\n",
        "                    overlap_size=overlap_size,\n",
        "                    num_epochs=num_epochs,\n",
        "                    model_weights_filename=model_weights_filename,\n",
        "                    initial_epoch=initial_epoch)"
      ],
      "execution_count": 22,
      "outputs": [
        {
          "output_type": "stream",
          "text": [
            "\n",
            "Loading GloVe...\n",
            "\n",
            "Preparing the sentences...\n",
            "Num sentences: 136184\n",
            "Num unique words: 13887\n",
            "Result embedding shape: (13887, 300)\n",
            "\n",
            "Preparing the data for LSTM...\n",
            "train_x shape: (136184, 40)\n",
            "train_y shape: (136184,)\n",
            "\n",
            "Training LSTM...\n",
            "Epoch 1/20\n",
            "136184/136184 [==============================] - 91s 665us/step - loss: 6.9251\n",
            "\n",
            "Generating text after epoch: 0\n",
            "i like this game because... -> i like this game because variety dun scale 005 insensitive theoretical green frustration allow anticipate\n",
            "i do not like this game because... -> i do not like this game because breakers semblance tailoring tedius balances leauge heard payment ross 280\n",
            "the... -> the becase pill whos locally freezes defensive revisions ticking cycles anthing\n",
            "a... -> a immensely trickle worst fake crammed strategize shallow office opened immature\n",
            "Epoch 2/20\n",
            "136184/136184 [==============================] - 93s 684us/step - loss: 6.7540\n",
            "\n",
            "Generating text after epoch: 1\n",
            "i like this game because... -> i like this game because freee excited bullying fighting edge coloured world mousing appalling 10ish\n",
            "i do not like this game because... -> i do not like this game because eager modify commandments alike constantly thouroghly 59 sleep immoral appropriately\n",
            "the... -> the 3050 models gotten detracts mildly items absolutly ios inscrutability eats\n",
            "a... -> a vaguely urge alows north walnuts basic nows mixture credentials spoken\n",
            "Epoch 3/20\n",
            "136184/136184 [==============================] - 91s 665us/step - loss: 6.6870\n",
            "\n",
            "Generating text after epoch: 2\n",
            "i like this game because... -> i like this game because fontsize food h12 disguised ripping realese architecture scrollable phenomonal milk\n",
            "i do not like this game because... -> i do not like this game because stepping fourty misconstrue sweat flagged strengthened obsurd crunch metion championship\n",
            "the... -> the challanges focused tid windows idiotic lauched griding openning twenty decison\n",
            "a... -> a ideally everytime didn pushing thrust stright hoops thousands structure melee\n",
            "Epoch 4/20\n",
            "136184/136184 [==============================] - 89s 651us/step - loss: 6.4485\n",
            "\n",
            "Generating text after epoch: 3\n",
            "i like this game because... -> i like this game because secret algebra is presenting heartbeat millions refined snagged afforable resented\n",
            "i do not like this game because... -> i do not like this game because motions coz dirt vent eclipse judiciously economically pay2win stays gameflow\n",
            "the... -> the decoupled pivot unprofesional horrendously weapons bundles affect conducive hurr halflife\n",
            "a... -> a fate notorious pretend hold sincerely cripples eveything summon consumables uh\n",
            "Epoch 5/20\n",
            "136184/136184 [==============================] - 92s 672us/step - loss: 5.6044\n",
            "\n",
            "Generating text after epoch: 4\n",
            "i like this game because... -> i like this game because club attributed whichever abosolutely moblie rebellious leaning posts didn underdelivered\n",
            "i do not like this game because... -> i do not like this game because own creep oneshots collectibles times illusion came but interesting becouse\n",
            "the... -> the al beacuse great hard free mega het ackward reachable neat\n",
            "a... -> a 45k leg imitators reworks fewest boards consumer form 50 elitist\n",
            "Epoch 6/20\n",
            "136184/136184 [==============================] - 89s 655us/step - loss: 4.6993\n",
            "\n",
            "Generating text after epoch: 5\n",
            "i like this game because... -> i like this game because wholeheartedly use borrow way currently would max individually streamlining argueably\n",
            "i do not like this game because... -> i do not like this game because textures goodstuff shuttered wait easy afficianado simultanously feedback alright scammy\n",
            "the... -> the designs flexiable challanging slighest rebalance never units wipe spoke chore\n",
            "a... -> a sarcasm allure played feels by shots 1530 i school selling\n",
            "Epoch 7/20\n",
            "136184/136184 [==============================] - 92s 674us/step - loss: 3.9774\n",
            "\n",
            "Generating text after epoch: 6\n",
            "i like this game because... -> i like this game because anymore something respect shelves countered state stinks strategy better sadly\n",
            "i do not like this game because... -> i do not like this game because theyre gud more voices worthy for arround life how piece\n",
            "the... -> the staggeringly setups fanstastic happy from recyling thing market deisgn fathom\n",
            "a... -> a generate results spent rotated gg case hundreds luck with hppy\n",
            "Epoch 8/20\n",
            "136184/136184 [==============================] - 89s 650us/step - loss: 3.3572\n",
            "\n",
            "Generating text after epoch: 7\n",
            "i like this game because... -> i like this game because scammed card guides brawl seem potential 1010 picks have instructions\n",
            "i do not like this game because... -> i do not like this game because initial cource issuing clutch selfserving exclusively had 20 fullscreen own\n",
            "the... -> the dice lane queuing feed mostly times i considered can tickets\n",
            "a... -> a fluid garbage finished wtf addiction what entrance x10 acting reall\n",
            "Epoch 9/20\n",
            "136184/136184 [==============================] - 91s 670us/step - loss: 2.9073\n",
            "\n",
            "Generating text after epoch: 8\n",
            "i like this game because... -> i like this game because more overall towel competetively win rapidly should said yacht alternatively\n",
            "i do not like this game because... -> i do not like this game because effects iteration common other card leaning out hitman down of\n",
            "the... -> the composition provide oftentimes shocked massive take harass think decisions unopened\n",
            "a... -> a way foresight play look highly made stricktly colourful bombers baiting\n",
            "Epoch 10/20\n",
            "136184/136184 [==============================] - 89s 655us/step - loss: 2.5836\n",
            "\n",
            "Generating text after epoch: 9\n",
            "i like this game because... -> i like this game because needed evenings free anal exaggerate are positioning coming boring tiring\n",
            "i do not like this game because... -> i do not like this game because for reception feasting the fewer ones version feel buy dollars\n",
            "the... -> the hits its worst game stale bad sfv neogaf reel week\n",
            "a... -> a dedicate 001 heals you europe play coulnt spent respectfully implanted\n",
            "Epoch 11/20\n",
            "136184/136184 [==============================] - 91s 666us/step - loss: 2.3248\n",
            "\n",
            "Generating text after epoch: 10\n",
            "i like this game because... -> i like this game because 30 bucks trouble until will playspace approximately word tell satisfaction\n",
            "i do not like this game because... -> i do not like this game because other semblance increase the finish albeit uninteresting chore betting show\n",
            "the... -> the expense money game do boring opinion subtle positve progression market\n",
            "a... -> a awful personaly artifact is ticket earn or inexperienced anything really\n",
            "Epoch 12/20\n",
            "136184/136184 [==============================] - 90s 663us/step - loss: 2.1250\n",
            "\n",
            "Generating text after epoch: 11\n",
            "i like this game because... -> i like this game because strike fan dipped yeah if in worth all packs traded\n",
            "i do not like this game because... -> i do not like this game because currently in well have 212 stranded tops place im like\n",
            "the... -> the electronic mistake atmosphere free ruine receipt dagger dime again no\n",
            "a... -> a adjust directly learn money ever clip cheesed importantly grow opened\n",
            "Epoch 13/20\n",
            "136184/136184 [==============================] - 90s 661us/step - loss: 1.9227\n",
            "\n",
            "Generating text after epoch: 12\n",
            "i like this game because... -> i like this game because free complement highcost regardles woodwork quality payments stuff cards fine\n",
            "i do not like this game because... -> i do not like this game because as hopefully 140 rotating textures cast releases all luck the\n",
            "the... -> the flopped shortly ep2 statics value blast plentiful surprsing gate bought\n",
            "a... -> a matter ashamed changed so learning great burned cant get satisfied\n",
            "Epoch 14/20\n",
            "136184/136184 [==============================] - 89s 654us/step - loss: 1.7810\n",
            "\n",
            "Generating text after epoch: 13\n",
            "i like this game because... -> i like this game because game hot boots end next place or 2 strategies managing\n",
            "i do not like this game because... -> i do not like this game because negative game treat increase outcast switching interresting dealbreaker begining desperate\n",
            "the... -> the favore excess influenced polished surface love could have rewarding unsatisfied\n",
            "a... -> a shovel fun or expensive decks arent you towers available reimagined\n",
            "Epoch 15/20\n",
            "136184/136184 [==============================] - 88s 643us/step - loss: 1.6493\n",
            "\n",
            "Generating text after epoch: 14\n",
            "i like this game because... -> i like this game because a opens emphasis vary i kill profile so happy wallet\n",
            "i do not like this game because... -> i do not like this game because bad that math more knowledge card disregard or frustration poor\n",
            "the... -> the cleanup announced adamantly handful user though i to fooks discussing\n",
            "a... -> a backdoored minimizing much security so excitement to requests buying card\n",
            "Epoch 16/20\n",
            "136184/136184 [==============================] - 88s 649us/step - loss: 1.5161\n",
            "\n",
            "Generating text after epoch: 15\n",
            "i like this game because... -> i like this game because bastards so far is now now no even bad eyes\n",
            "i do not like this game because... -> i do not like this game because match start hours see daily turn thankfully grow so tickets\n",
            "the... -> the esily collect cost online play best openning sad 168 keys\n",
            "a... -> a meme has knowledge what now so decent era results 1\n",
            "Epoch 17/20\n",
            "136184/136184 [==============================] - 88s 647us/step - loss: 1.4179\n",
            "\n",
            "Generating text after epoch: 16\n",
            "i like this game because... -> i like this game because free draft browser so disappointed valid refund compete no luck\n",
            "i do not like this game because... -> i do not like this game because magic the truth dragon different potencial managing unacceptable kiddies so\n",
            "the... -> the taking those fail i still truly so disappointed affordable demo\n",
            "a... -> a focus issue b2 perfect should 5 hours materials improvement games\n",
            "Epoch 18/20\n",
            "136184/136184 [==============================] - 88s 649us/step - loss: 1.2921\n",
            "\n",
            "Generating text after epoch: 17\n",
            "i like this game because... -> i like this game because start or play proves pales strategy i feel enjoy goed\n",
            "i do not like this game because... -> i do not like this game because im make tabbed take ofc s1 reward whens hate money\n",
            "the... -> the rushed arrived background anyhow and then one thought in later\n",
            "a... -> a sustain win get ubisoft stunning realm snowballed really miss is\n",
            "Epoch 19/20\n",
            "136184/136184 [==============================] - 89s 651us/step - loss: 1.2013\n",
            "\n",
            "Generating text after epoch: 18\n",
            "i like this game because... -> i like this game because game worth 20 cents is just wild zing cards in\n",
            "i do not like this game because... -> i do not like this game because negative strategy is at a rid cheap card punching purchases\n",
            "the... -> the hourglass different or though a dependent times then a 510\n",
            "a... -> a watched modal combatting assassins pack entering infact i yes reasonable\n",
            "Epoch 20/20\n",
            "136184/136184 [==============================] - 89s 657us/step - loss: 1.0976\n",
            "\n",
            "Generating text after epoch: 19\n",
            "i like this game because... -> i like this game because those better costs no prizing peopels woodwork one starting on\n",
            "i do not like this game because... -> i do not like this game because included slam play instants gambles in true card pass minimize\n",
            "the... -> the slug coming disappointed gameplay related some disappointed part at no\n",
            "a... -> a suck outragous costs while then dont nice whirl around control\n"
          ],
          "name": "stdout"
        }
      ]
    }
  ]
}