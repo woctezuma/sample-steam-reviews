{
  "nbformat": 4,
  "nbformat_minor": 0,
  "metadata": {
    "colab": {
      "name": "textgenrnn.ipynb",
      "version": "0.3.2",
      "provenance": [],
      "collapsed_sections": []
    },
    "kernelspec": {
      "name": "python3",
      "display_name": "Python 3"
    },
    "accelerator": "GPU"
  },
  "cells": [
    {
      "metadata": {
        "id": "5u6MjGQAuzWN",
        "colab_type": "text"
      },
      "cell_type": "markdown",
      "source": [
        "# Sample Steam Reviews with textgenrnn\n",
        "Code inspired from https://github.com/woctezuma/sample-steam-reviews"
      ]
    },
    {
      "metadata": {
        "id": "2KjP9yVVveN1",
        "colab_type": "text"
      },
      "cell_type": "markdown",
      "source": [
        "## Setting"
      ]
    },
    {
      "metadata": {
        "id": "Lhkj7eqctrYc",
        "colab_type": "code",
        "colab": {
          "base_uri": "https://localhost:8080/",
          "height": 35
        },
        "outputId": "a7ff14e4-b540-475c-b20b-c91137731aea"
      },
      "cell_type": "code",
      "source": [
        "from google.colab import drive\n",
        "\n",
        "mount_folder = '/content/gdrive'\n",
        "drive.mount(mount_folder)"
      ],
      "execution_count": 46,
      "outputs": [
        {
          "output_type": "stream",
          "text": [
            "Drive already mounted at /content/gdrive; to attempt to forcibly remount, call drive.mount(\"/content/gdrive\", force_remount=True).\n"
          ],
          "name": "stdout"
        }
      ]
    },
    {
      "metadata": {
        "id": "c1B_Tfo5u9l0",
        "colab_type": "code",
        "colab": {
          "base_uri": "https://localhost:8080/",
          "height": 35
        },
        "outputId": "cc479749-a3b5-4006-b73d-b80af5cbaeba"
      },
      "cell_type": "code",
      "source": [
        "%cd '/content/gdrive/My Drive/'"
      ],
      "execution_count": 47,
      "outputs": [
        {
          "output_type": "stream",
          "text": [
            "/content/gdrive/My Drive\n"
          ],
          "name": "stdout"
        }
      ]
    },
    {
      "metadata": {
        "id": "_1ruwgwCuEHd",
        "colab_type": "code",
        "colab": {
          "base_uri": "https://localhost:8080/",
          "height": 201
        },
        "outputId": "41220ab0-787e-4985-d490-f4b3eb0cbc0c"
      },
      "cell_type": "code",
      "source": [
        "!pip install textgenrnn"
      ],
      "execution_count": 48,
      "outputs": [
        {
          "output_type": "stream",
          "text": [
            "Requirement already satisfied: textgenrnn in /usr/local/lib/python3.6/dist-packages (1.4.1)\n",
            "Requirement already satisfied: keras>=2.1.5 in /usr/local/lib/python3.6/dist-packages (from textgenrnn) (2.2.4)\n",
            "Requirement already satisfied: h5py in /usr/local/lib/python3.6/dist-packages (from textgenrnn) (2.8.0)\n",
            "Requirement already satisfied: scikit-learn in /usr/local/lib/python3.6/dist-packages (from textgenrnn) (0.20.3)\n",
            "Requirement already satisfied: scipy>=0.14 in /usr/local/lib/python3.6/dist-packages (from keras>=2.1.5->textgenrnn) (1.2.1)\n",
            "Requirement already satisfied: keras-preprocessing>=1.0.5 in /usr/local/lib/python3.6/dist-packages (from keras>=2.1.5->textgenrnn) (1.0.9)\n",
            "Requirement already satisfied: pyyaml in /usr/local/lib/python3.6/dist-packages (from keras>=2.1.5->textgenrnn) (3.13)\n",
            "Requirement already satisfied: numpy>=1.9.1 in /usr/local/lib/python3.6/dist-packages (from keras>=2.1.5->textgenrnn) (1.16.2)\n",
            "Requirement already satisfied: six>=1.9.0 in /usr/local/lib/python3.6/dist-packages (from keras>=2.1.5->textgenrnn) (1.11.0)\n",
            "Requirement already satisfied: keras-applications>=1.0.6 in /usr/local/lib/python3.6/dist-packages (from keras>=2.1.5->textgenrnn) (1.0.7)\n"
          ],
          "name": "stdout"
        }
      ]
    },
    {
      "metadata": {
        "id": "EO62_p_Ovk8y",
        "colab_type": "text"
      },
      "cell_type": "markdown",
      "source": [
        "## Load data\n",
        "Store page: https://store.steampowered.com/app/583950/Artifact/"
      ]
    },
    {
      "metadata": {
        "id": "IFJvTpQFuWa0",
        "colab_type": "code",
        "colab": {
          "base_uri": "https://localhost:8080/",
          "height": 72
        },
        "outputId": "2e6bd6b4-3ed5-4a17-a746-1b1e0bc9dd0f"
      },
      "cell_type": "code",
      "source": [
        "!curl -O https://raw.githubusercontent.com/woctezuma/sample-steam-reviews/master/output/583950.txt"
      ],
      "execution_count": 49,
      "outputs": [
        {
          "output_type": "stream",
          "text": [
            "  % Total    % Received % Xferd  Average Speed   Time    Time     Time  Current\n",
            "                                 Dload  Upload   Total   Spent    Left  Speed\n",
            "100 3579k  100 3579k    0     0  1923k      0  0:00:01  0:00:01 --:--:-- 1922k\n"
          ],
          "name": "stdout"
        }
      ]
    },
    {
      "metadata": {
        "id": "xWtKDT5q0342",
        "colab_type": "code",
        "colab": {}
      },
      "cell_type": "code",
      "source": [
        "artifact_file_name = '583950.txt'"
      ],
      "execution_count": 0,
      "outputs": []
    },
    {
      "metadata": {
        "id": "4tVhSIvf0cPP",
        "colab_type": "code",
        "colab": {
          "base_uri": "https://localhost:8080/",
          "height": 35
        },
        "outputId": "971226e7-e29d-42ea-9859-b47463a7e178"
      },
      "cell_type": "code",
      "source": [
        "with open(artifact_file_name, 'r', encoding='utf8') as f:\n",
        "  lines = [line.strip() for line in f.readlines()]\n",
        "  \n",
        "print('#lines = {}'.format(len(lines)))"
      ],
      "execution_count": 51,
      "outputs": [
        {
          "output_type": "stream",
          "text": [
            "#lines = 25728\n"
          ],
          "name": "stdout"
        }
      ]
    },
    {
      "metadata": {
        "id": "WwIbmAnQ2MnD",
        "colab_type": "text"
      },
      "cell_type": "markdown",
      "source": [
        "Remove empty lines"
      ]
    },
    {
      "metadata": {
        "id": "ud1m_CMZ1vyF",
        "colab_type": "code",
        "colab": {
          "base_uri": "https://localhost:8080/",
          "height": 35
        },
        "outputId": "57ac39cf-4b7c-4c3f-8d88-dbd5523c0ddb"
      },
      "cell_type": "code",
      "source": [
        "texts = [line for line in lines if len(line)>0]\n",
        "\n",
        "print('#lines = {}'.format(len(texts)))"
      ],
      "execution_count": 52,
      "outputs": [
        {
          "output_type": "stream",
          "text": [
            "#lines = 17575\n"
          ],
          "name": "stdout"
        }
      ]
    },
    {
      "metadata": {
        "id": "CboypR0Nvm_x",
        "colab_type": "text"
      },
      "cell_type": "markdown",
      "source": [
        "## Train\n",
        "References:\n",
        "-   https://github.com/minimaxir/textgenrnn\n",
        "-   https://github.com/minimaxir/textgenrnn/blob/master/docs/textgenrnn-demo.ipynb"
      ]
    },
    {
      "metadata": {
        "id": "_pdkhHU6wd12",
        "colab_type": "code",
        "colab": {}
      },
      "cell_type": "code",
      "source": [
        "from textgenrnn import textgenrnn\n",
        "\n",
        "textgen = textgenrnn()"
      ],
      "execution_count": 0,
      "outputs": []
    },
    {
      "metadata": {
        "id": "tIQNCp3suNhH",
        "colab_type": "code",
        "colab": {
          "base_uri": "https://localhost:8080/",
          "height": 2755
        },
        "outputId": "f871fcde-49e9-4c00-fb7d-0f8d3b87d7df"
      },
      "cell_type": "code",
      "source": [
        "num_epochs = 5\n",
        "\n",
        "textgen.reset()\n",
        "textgen.train_on_texts(texts, num_epochs=num_epochs, gen_epochs=1)\n",
        "textgen.generate()"
      ],
      "execution_count": 54,
      "outputs": [
        {
          "output_type": "stream",
          "text": [
            "Training on 3,648,890 character sequences.\n",
            "Epoch 1/5\n",
            "28506/28506 [==============================] - 428s 15ms/step - loss: 1.3016\n",
            "####################\n",
            "Temperature: 0.2\n",
            "####################\n",
            "The game is a bit of the game is a lot of the game and the monetization is a problem in the game. The game is a bit of the game is a bit and the game is a problem and the game are a bit of the game and the game is a problem and the game is a bit of the game and the problem is any other card game a\n",
            "\n",
            "The game is a bit of the game in the game and they are a bit of the best and the game is a lot of the game and and the problem is the best and the problem is a bit of the game and the cards is a complete play and the game is a managed to play and the play is a buy than the game is a complete playe\n",
            "\n",
            "The game is a bit of the game and and the game is a problem and they get more money and the game is a complete game and the game is a bit and a problem with the game is a bit of the game and the play is a problem and the game is a problem and the problem is the game is a bit of the game is a bit o\n",
            "\n",
            "####################\n",
            "Temperature: 0.5\n",
            "####################\n",
            "[b] Some of the progression is just better by the packs you are free to play progression model.\n",
            "\n",
            "The price is a bit basically a state in the cards and it feels a lot of except to the complete play which you have to play the game and the complete play is an expensive game on a poor game.\n",
            "\n",
            "Overall they are really gonna need to play the marketplace of the game. I was exciting to play a problem in the cards and not play the game.\n",
            "\n",
            "####################\n",
            "Temperature: 1.0\n",
            "####################\n",
            "E :\n",
            "\n",
            "DO is good.\" fun. Thanks it of stepple you only non tickets.\n",
            "\n",
            "The play packs are outhierer, but all that let most of the packs I've baded the initial expansion that's my game shit. They happen and can try a close.\n",
            "\n",
            "Epoch 2/5\n",
            "28506/28506 [==============================] - 434s 15ms/step - loss: 1.2279\n",
            "####################\n",
            "Temperature: 0.2\n",
            "####################\n",
            "[b]Problems and the community set of the game is a few fun to play competitive cards to play competitive cards with the market to play the game for the game and the game is already a few set of cards to play cards. If you are a few tickets and 10 packs and 10 packs and 10 packs and 10 packs and 10\n",
            "\n",
            "[b]Pay2win\n",
            "\n",
            "If you are not a few games to play the game and the community market is the monetization model the game is a few decks with a lot of money and the game is a few other games and the community mechanics and the game is a fun and the community market and the game is fun and the game is fun and the ga\n",
            "\n",
            "####################\n",
            "Temperature: 0.5\n",
            "####################\n",
            "[b]Creeps are awesome the game and about the people about the game because the game is still the real hero placements or some room to play draft modes and it would be a game enough to play in the game and the cards it are the game for the community for the market and it seems fair and built at the\n",
            "\n",
            "If you are really shitting the game and complex experience and sell the game comes to the best mode with a competitive deck in the future and for the please mechanics the game, the game is looking about the market to play is so far. If you are endemed the game in a deal in the game that is more al\n",
            "\n",
            "If you have to want to pay for more money for a video game in the game and it's not a few cards with better than the competitive decks that cost more than the card games and people with the market to buy the game and card packs and the comparison the game are free to play and a lot of cards and so\n",
            "\n",
            "####################\n",
            "Temperature: 1.0\n",
            "####################\n",
            "Was an item element palit to use anyway, the monetization model they have a collecting for cards . I've always cool critize dwaw how the thing is the commutics thre budget (it made a TCG or other game mechanics) for a people of weing before expert complex with a only end play-2 selar players more \n",
            "\n",
            "Sad 3 packs the progression for their thrack it, it happen ahead but if you don't were in the feel (Valve and hearthstone)\n",
            "\n",
            "[b]Afterentiqare, a premader mechanic\n",
            "\n",
            "Epoch 3/5\n",
            "28506/28506 [==============================] - 430s 15ms/step - loss: 1.1878\n",
            "####################\n",
            "Temperature: 0.2\n",
            "####################\n",
            "I was a bit of the game for the game in the game is the game in the game in the game is the best thing that is a complete game that is a lot of fun to play the game in the game and the game is great as the game is a game to be the starter deck in the game is a bit of the game if you want to play t\n",
            "\n",
            "I was a lot of the game if you want to play the game if you want to play the game and the cards is a bad card game to play a game to get the game to be the game if you want to play the game and the cards in the game is a card game to be a lot of the game in the game is a card game and I have no re\n",
            "\n",
            "I would say this game is the best card game to get the game in the game if you want to play and the game is a bad game that is a bit of the game in the game is the best thing that is the game is a bit of the game if you want to spend money on the game and it is a steam market for a card game to st\n",
            "\n",
            "####################\n",
            "Temperature: 0.5\n",
            "####################\n",
            "The game is the best deck with the competitive ticket for me in the game. If you don't be the game if you win a single card lane is a game to play. It's the strong strong strategy modes are really severally and buying draft in the game in a couple of card games and the cards in the free draft mode\n",
            "\n",
            "- The game is made in a free to play in real deck or the game requires the packs I succeed a card game on it in the game. The market is beautiful that it's a lot of money on the complex matches in the lane into a game to get me to play and constructed the game is fun to play the game and way to ea\n",
            "\n",
            "I think they want to play the game to play and play the game it is fun and the monetization to be for packs to increase the game to see the screen of the game and I really price.  I would be complex that you are expensive and decisions in the card game. In the game are not a lot of the game to sta\n",
            "\n",
            "####################\n",
            "Temperature: 1.0\n",
            "####################\n",
            "Getting fun games who don't this better. It has to be those purchases having you say that you love every card in. You can play rare card economy and messemple, skilled strategic Casual Card-March, however anything that the said would made up with be probable as there is the game incurrently for cr\n",
            "\n",
            "If you like a few constructing with this is going to keep you to have to spend super the game with the model chance to get learn the expensive card games.\n",
            "\n",
            "The features scalaster from preconstrations without tracking as mind wich me. Luch copics will have buy Magic the Gathering your deck to get tracked the cost move dustest or something initiative product. Instead of the game and these ways to impossive constructed. You will pre ones\n",
            "\n",
            "Epoch 4/5\n",
            "28506/28506 [==============================] - 441s 15ms/step - loss: 1.1511\n",
            "####################\n",
            "Temperature: 0.2\n",
            "####################\n",
            "I don't like the game there is no real money on the market and you can buy the game to play and the game is a fun game that are a complex card game to be able to play and even the game is a fun game to be a good game because they are also the game in the game and the game is a complex than the mos\n",
            "\n",
            "People who can play a game that can be a bit of the game in the game is not the first card game and it is not a game to be a great game that is a fun to play and the game is a lot of money to play the game and the game is not the best card game that is a complex game and the game is a fun game and\n",
            "\n",
            "The game is not better than the monetization model and the game is a good game to be a game to be the most expensive card game is the best card game that costs a lot of the game in the game in the game is a great game because the game is fun and the game is not the best complexity of the game is t\n",
            "\n",
            "####################\n",
            "Temperature: 0.5\n",
            "####################\n",
            "People who can play a real content on the market because the game is pretty great and the monetization model is heavily interested in the game is the community release to be problem and all the part of the game for fun to play around 20 of the cards and the game feels like a problem in the game wi\n",
            "\n",
            "Great game is a money grind for a game and in the time I want to be many cards. I have a lot of deep card games to get the game in the game and it looks fully you to play constructed and the cards in the case of the game is to be more expensive, but hero system is fun to play the game. The game is\n",
            "\n",
            "The game is so marrial if you are not a good card game between the time to make money, the game is fun to be for everything more profiles and there are no reason to play a complexity to all the steam set of people who are able to earn cards and cards and want to buy cards in the game every time yo\n",
            "\n",
            "####################\n",
            "Temperature: 1.0\n",
            "####################\n",
            "Microtransaction with it to play, this is complex, this game is not circle for draft gaining puttingly different.\n",
            "\n",
            "overlor and tens to me like a soul.\n",
            "\n",
            "Turn Axe, People there's no one and what almost much account out well as you avoid the problem of the gameplay were grinding. Instead of the game by another physical grounda me.\n",
            "\n",
            "Epoch 5/5\n",
            "28506/28506 [==============================] - 429s 15ms/step - loss: 1.1152\n",
            "####################\n",
            "Temperature: 0.2\n",
            "####################\n",
            "I have a fan of the game and the game is fun and the game is a fun game for the game and the monetization model is a great game. The monetization model is a great game and the game is a game that the game is a lot of money than the money and the game is not a good game. I have been fun and the gam\n",
            "\n",
            "I have to see a lot of cards that you can play and the game is a lot of money than a lot of the game and the game is a bit of the game and the game is a lot of the game and the monetization model is a free to play competitive deck and the game is a lot of heroes and the game is still fun to play a\n",
            "\n",
            "The game is a fun game and the game is a lot of the game and the monetization model is a good game and the game is a fun and the game is a great game. The game is a fun game and the game is a fun to play and the game is a lot of card games that come from the market and the community and the moneti\n",
            "\n",
            "####################\n",
            "Temperature: 0.5\n",
            "####################\n",
            "And the game is so much of the game is a more complex for a card game. The game is fun to play and completely pretty a deck that you can play a card but it has a free pack or the game and allow you to play the game to get a turn balance. I have to pay to play the game so what you can play and the \n",
            "\n",
            "- No draft mode (although not the game is fair and the most thing about the game is the best card game. The monetization is already going to be able to play this game and being able to see what they're a chance of the game and the game shouldn't open they are a trading card game that you can buy t\n",
            "\n",
            "I was a really cheap the game with a deep.\n",
            "\n",
            "####################\n",
            "Temperature: 1.0\n",
            "####################\n",
            "The clocking  is i got to domina, and I'm looking for.\n",
            "\n",
            "--You can aspect become better than Hearthstone's market\n",
            "\n",
            "So that is a great game. The winning here is still just high, this reads an event ticket scheme.\n",
            "\n",
            "The game is a very powerful bucks or cost more than your cards to add more like a lot of card games and the price of the cards in the future and you can win the cards you take you a great model that you can play the game in a single investment and free to play the time that you can play with the g\n",
            "\n"
          ],
          "name": "stdout"
        }
      ]
    },
    {
      "metadata": {
        "id": "UAmXAeJbweEp",
        "colab_type": "code",
        "colab": {
          "base_uri": "https://localhost:8080/",
          "height": 257
        },
        "outputId": "33c6798b-637f-470c-967b-47e3f98227f1"
      },
      "cell_type": "code",
      "source": [
        "num_samples = 3\n",
        "\n",
        "textgen.generate(n=num_samples, prefix='I love Artifact')\n",
        "textgen.generate(n=num_samples, prefix='I hate Artifact')"
      ],
      "execution_count": 55,
      "outputs": [
        {
          "output_type": "stream",
          "text": [
            "I love Artifact and the price of a positive price of the game and the price of the game will be adding the monetization model that the game is a lot of money in the game. The monetization scheme is a genre. The monetization model is a lot of fun.\n",
            "\n",
            "I love Artifact and the game is a couple of them. I got the same monetization model and it's basic and cheaper to play MTG and Hearthstone, all competitive and there is no reason and the majority of the game is a free to play in the game. The competitive deck is fun to play the community and compl\n",
            "\n",
            "I love Artifact and way too much more than the monetization model and the game is fun to play progression and make a good game.\n",
            "\n",
            "I hate Artifact for the three lanes and decks and make you any card game that you can play the game. But it needs a minimum challenging and pay to win and a bad base game is pretty worse.\n",
            "\n",
            "I hate Artifact is the best card game is a free to play deck this game is a competitive deck with the game and this is bad. Every card is a complete point to add a single card for the best card games out of the money is the future of this game is a more new deck in the game.\n",
            "\n",
            "I hate Artifact in the main cost of the game is fun. The best card game is a nerfed way to get the cards from a state or and compared to any other card game in the game and with the money more than any other card game. People will be so much more than any most other this with the way the game has \n",
            "\n"
          ],
          "name": "stdout"
        }
      ]
    },
    {
      "metadata": {
        "id": "fzJPZrNNB5Za",
        "colab_type": "code",
        "colab": {}
      },
      "cell_type": "code",
      "source": [
        "textgen.save()"
      ],
      "execution_count": 0,
      "outputs": []
    }
  ]
}