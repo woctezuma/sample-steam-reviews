{
  "nbformat": 4,
  "nbformat_minor": 0,
  "metadata": {
    "colab": {
      "name": "word_level_rnn.ipynb",
      "version": "0.3.2",
      "provenance": [],
      "collapsed_sections": []
    },
    "kernelspec": {
      "name": "python3",
      "display_name": "Python 3"
    },
    "accelerator": "GPU"
  },
  "cells": [
    {
      "metadata": {
        "id": "ZaAQc-XXhwDl",
        "colab_type": "text"
      },
      "cell_type": "markdown",
      "source": [
        "# Sample Steam Reviews with word-level RNN\n",
        "\n",
        "Code inspired from https://github.com/woctezuma/sample-steam-reviews"
      ]
    },
    {
      "metadata": {
        "id": "EJKaWG2ghrA5",
        "colab_type": "code",
        "outputId": "e04225dc-2add-48ce-b9b5-c47635c17864",
        "colab": {
          "base_uri": "https://localhost:8080/",
          "height": 35
        }
      },
      "cell_type": "code",
      "source": [
        "from google.colab import drive\n",
        "\n",
        "mount_folder = '/content/gdrive'\n",
        "drive.mount(mount_folder)"
      ],
      "execution_count": 1,
      "outputs": [
        {
          "output_type": "stream",
          "text": [
            "Drive already mounted at /content/gdrive; to attempt to forcibly remount, call drive.mount(\"/content/gdrive\", force_remount=True).\n"
          ],
          "name": "stdout"
        }
      ]
    },
    {
      "metadata": {
        "id": "0iXYkA6wh-G2",
        "colab_type": "code",
        "outputId": "3d82c2af-15ae-4f6d-f7b5-629eb3fbb214",
        "colab": {
          "base_uri": "https://localhost:8080/",
          "height": 35
        }
      },
      "cell_type": "code",
      "source": [
        "%cd '/content/gdrive/My Drive/'"
      ],
      "execution_count": 2,
      "outputs": [
        {
          "output_type": "stream",
          "text": [
            "/content/gdrive/My Drive\n"
          ],
          "name": "stdout"
        }
      ]
    },
    {
      "metadata": {
        "id": "8mv11ec_g4Wf",
        "colab_type": "code",
        "colab": {}
      },
      "cell_type": "code",
      "source": [
        "#!rm -rf sample-steam-reviews/\n",
        "#!git clone https://github.com/woctezuma/sample-steam-reviews.git"
      ],
      "execution_count": 0,
      "outputs": []
    },
    {
      "metadata": {
        "id": "A23sSmypg7km",
        "colab_type": "code",
        "outputId": "b8febbb6-36fe-4a0d-9a52-e8d617667417",
        "colab": {
          "base_uri": "https://localhost:8080/",
          "height": 35
        }
      },
      "cell_type": "code",
      "source": [
        "%cd sample-steam-reviews/"
      ],
      "execution_count": 4,
      "outputs": [
        {
          "output_type": "stream",
          "text": [
            "/content/gdrive/My Drive/sample-steam-reviews\n"
          ],
          "name": "stdout"
        }
      ]
    },
    {
      "metadata": {
        "id": "nhZ1FxF6g9oK",
        "colab_type": "code",
        "outputId": "90d33bde-1d15-4944-afbb-95151e9c9893",
        "colab": {
          "base_uri": "https://localhost:8080/",
          "height": 72
        }
      },
      "cell_type": "code",
      "source": [
        "!git pull\n",
        "!git checkout stacked-lstm"
      ],
      "execution_count": 5,
      "outputs": [
        {
          "output_type": "stream",
          "text": [
            "Already up to date.\n",
            "Already on 'stacked-lstm'\n",
            "Your branch is up to date with 'origin/stacked-lstm'.\n"
          ],
          "name": "stdout"
        }
      ]
    },
    {
      "metadata": {
        "id": "RUVySvRMimRw",
        "colab_type": "code",
        "colab": {}
      },
      "cell_type": "code",
      "source": [
        "!pip install -r requirements.txt"
      ],
      "execution_count": 0,
      "outputs": []
    },
    {
      "metadata": {
        "id": "CfKVsqNLt8Vc",
        "colab_type": "code",
        "colab": {}
      },
      "cell_type": "code",
      "source": [
        "#!python word_level_rnn.py"
      ],
      "execution_count": 0,
      "outputs": []
    },
    {
      "metadata": {
        "id": "851IG8VOt-hw",
        "colab_type": "code",
        "outputId": "d8a7c944-8c5d-4c04-c50f-eaac52548eb0",
        "colab": {
          "base_uri": "https://localhost:8080/",
          "height": 35
        }
      },
      "cell_type": "code",
      "source": [
        "from download_review_data import get_artifact_app_id\n",
        "from export_review_data import get_output_file_name\n",
        "\n",
        "from word_level_rnn import train, generate_from_word_level_rnn"
      ],
      "execution_count": 8,
      "outputs": [
        {
          "output_type": "stream",
          "text": [
            "Using TensorFlow backend.\n"
          ],
          "name": "stderr"
        }
      ]
    },
    {
      "metadata": {
        "id": "IiPIDBwiwirS",
        "colab_type": "code",
        "colab": {}
      },
      "cell_type": "code",
      "source": [
        "app_id = get_artifact_app_id()\n",
        "text_file_name = get_output_file_name(app_id)"
      ],
      "execution_count": 0,
      "outputs": []
    },
    {
      "metadata": {
        "id": "anCPRjeBwPg4",
        "colab_type": "code",
        "outputId": "fa86505c-9bfb-4c1d-a818-d77776b18f27",
        "colab": {
          "base_uri": "https://localhost:8080/",
          "height": 146
        }
      },
      "cell_type": "code",
      "source": [
        "maxlen=20\n",
        "\n",
        "model = train(path=text_file_name,\n",
        "              maxlen=maxlen)"
      ],
      "execution_count": 0,
      "outputs": [
        {
          "output_type": "stream",
          "text": [
            "corpus length: 3661889\n",
            "total number of unique words: 32366\n",
            "total number of unique chars: 368\n",
            "maxlen: 20 ; step: 3\n",
            "length of sentence list: 224740\n",
            "length of next_word list: 224740\n",
            "Vectorization...\n"
          ],
          "name": "stdout"
        }
      ]
    },
    {
      "metadata": {
        "id": "wfXGOV76wQP1",
        "colab_type": "code",
        "colab": {}
      },
      "cell_type": "code",
      "source": [
        "response = generate_from_word_level_rnn(path=text_file_name)"
      ],
      "execution_count": 0,
      "outputs": []
    }
  ]
}