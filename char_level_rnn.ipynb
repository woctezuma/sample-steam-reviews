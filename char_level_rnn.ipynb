{
  "nbformat": 4,
  "nbformat_minor": 0,
  "metadata": {
    "colab": {
      "name": "char_level_rnn.ipynb",
      "version": "0.3.2",
      "provenance": [],
      "collapsed_sections": []
    },
    "kernelspec": {
      "name": "python3",
      "display_name": "Python 3"
    },
    "accelerator": "GPU"
  },
  "cells": [
    {
      "metadata": {
        "id": "ZaAQc-XXhwDl",
        "colab_type": "text"
      },
      "cell_type": "markdown",
      "source": [
        "# Sample Steam Reviews with char-level RNN\n",
        "\n",
        "Code inspired from https://github.com/woctezuma/sample-steam-reviews"
      ]
    },
    {
      "metadata": {
        "id": "EJKaWG2ghrA5",
        "colab_type": "code",
        "outputId": "2aad18e6-5966-4d6b-a361-90ee011e5c95",
        "colab": {
          "base_uri": "https://localhost:8080/",
          "height": 35
        }
      },
      "cell_type": "code",
      "source": [
        "from google.colab import drive\n",
        "\n",
        "mount_folder = '/content/gdrive'\n",
        "drive.mount(mount_folder)"
      ],
      "execution_count": 0,
      "outputs": [
        {
          "output_type": "stream",
          "text": [
            "Drive already mounted at /content/gdrive; to attempt to forcibly remount, call drive.mount(\"/content/gdrive\", force_remount=True).\n"
          ],
          "name": "stdout"
        }
      ]
    },
    {
      "metadata": {
        "id": "0iXYkA6wh-G2",
        "colab_type": "code",
        "outputId": "64da3c9c-e090-44a1-b9cf-5fa242e2d574",
        "colab": {
          "base_uri": "https://localhost:8080/",
          "height": 35
        }
      },
      "cell_type": "code",
      "source": [
        "%cd '/content/gdrive/My Drive/'"
      ],
      "execution_count": 0,
      "outputs": [
        {
          "output_type": "stream",
          "text": [
            "/content/gdrive/My Drive\n"
          ],
          "name": "stdout"
        }
      ]
    },
    {
      "metadata": {
        "id": "mUOPdGTZPDv6",
        "colab_type": "code",
        "colab": {}
      },
      "cell_type": "code",
      "source": [
        "#!rm -rf sample-steam-reviews/\n",
        "#!git clone https://github.com/woctezuma/sample-steam-reviews.git"
      ],
      "execution_count": 0,
      "outputs": []
    },
    {
      "metadata": {
        "id": "ONpB4e1CPE-X",
        "colab_type": "code",
        "outputId": "4c31d57a-90a2-44be-80f5-e20bbbfd5b49",
        "colab": {
          "base_uri": "https://localhost:8080/",
          "height": 35
        }
      },
      "cell_type": "code",
      "source": [
        "%cd sample-steam-reviews/"
      ],
      "execution_count": 0,
      "outputs": [
        {
          "output_type": "stream",
          "text": [
            "/content/gdrive/My Drive/sample-steam-reviews\n"
          ],
          "name": "stdout"
        }
      ]
    },
    {
      "metadata": {
        "id": "1QyON_CeK0H4",
        "colab_type": "code",
        "outputId": "8bb331a4-0eb1-4c81-f90d-1ef087c6a850",
        "colab": {
          "base_uri": "https://localhost:8080/",
          "height": 72
        }
      },
      "cell_type": "code",
      "source": [
        "!git pull\n",
        "!git checkout stacked-lstm"
      ],
      "execution_count": 29,
      "outputs": [
        {
          "output_type": "stream",
          "text": [
            "Already up to date.\n",
            "Already on 'stacked-lstm'\n",
            "Your branch is up to date with 'origin/stacked-lstm'.\n"
          ],
          "name": "stdout"
        }
      ]
    },
    {
      "metadata": {
        "id": "RUVySvRMimRw",
        "colab_type": "code",
        "colab": {}
      },
      "cell_type": "code",
      "source": [
        "!pip install -r requirements.txt"
      ],
      "execution_count": 0,
      "outputs": []
    },
    {
      "metadata": {
        "id": "cCGun3lXkZc2",
        "colab_type": "code",
        "colab": {}
      },
      "cell_type": "code",
      "source": [
        "#!python char_level_rnn.py"
      ],
      "execution_count": 0,
      "outputs": []
    },
    {
      "metadata": {
        "id": "WiOvlr_Btt6Z",
        "colab_type": "code",
        "colab": {}
      },
      "cell_type": "code",
      "source": [
        "import random\n",
        "\n",
        "from download_review_data import get_artifact_app_id\n",
        "from export_review_data import get_output_file_name\n",
        "\n",
        "from char_level_rnn import read_input, get_params, train_model, sample_new_text, trim_text"
      ],
      "execution_count": 0,
      "outputs": []
    },
    {
      "metadata": {
        "id": "1C0TB26FweS1",
        "colab_type": "code",
        "outputId": "7cca2c0a-a2c2-4b44-cb77-a5b383a70c60",
        "colab": {
          "base_uri": "https://localhost:8080/",
          "height": 110
        }
      },
      "cell_type": "code",
      "source": [
        "app_id = get_artifact_app_id()\n",
        "text = read_input(get_output_file_name(app_id))\n",
        "\n",
        "params = get_params(text)\n",
        "\n",
        "text = trim_text(text, params['chars'])"
      ],
      "execution_count": 0,
      "outputs": [
        {
          "output_type": "stream",
          "text": [
            "corpus length: 3661889\n",
            "total chars: 95\n",
            "Removing 299 characters: 手实⃣场评个奇会多👪起✅€►如择✓？较：兴ま🎲🚨少⏲、🎮わ呢买提要🎁钱友ä那♥牌所–⚡更　刷到其すá这´→付见来👎然🏻长商时得玩原こ上次斗公纸的均远尼卖对市🆘卡永\t讲👾ổ香开易选因さ毕͡杂间ỏẹ¹“ừ减戏很”还教送问理复’げ™\n",
            "贵但し放容后最太…是垃£段游ả圾没真⭐混你推了费¢都📅话始か过🏢使么花供比有几≠而人喜る组虽制已就éุ果别战吧思合点儿‼体第—本把¨đ程神✔。訳路价💀竟传打给店！👍我看在于感ắ玛性ợ💉ʖ意能去张法经で包⚠炉退相局°無®à让͜🏆中尝且‘ư综•只，大量心随小再入特 可哪ツ）款🤨道下一ị也司免西荐和家显💳凡他欢💰¯の←三回以ﬁí衡重好现控趣东不总试说机并¬い失平阶石💸新集️\n"
          ],
          "name": "stdout"
        }
      ]
    },
    {
      "metadata": {
        "id": "sbbncGf7gRvg",
        "colab_type": "code",
        "outputId": "7d49e886-c5d9-4011-d1e5-1d9098aa354a",
        "colab": {
          "base_uri": "https://localhost:8080/",
          "height": 127
        }
      },
      "cell_type": "code",
      "source": [
        "!ls model.char_level_rnn.*.hdf5"
      ],
      "execution_count": 28,
      "outputs": [
        {
          "output_type": "stream",
          "text": [
            "model.char_level_rnn.epoch_01.hdf5  model.char_level_rnn.epoch_07.hdf5\n",
            "model.char_level_rnn.epoch_02.hdf5  model.char_level_rnn.epoch_08.hdf5\n",
            "model.char_level_rnn.epoch_03.hdf5  model.char_level_rnn.epoch_09.hdf5\n",
            "model.char_level_rnn.epoch_04.hdf5  model.char_level_rnn.epoch_10.hdf5\n",
            "model.char_level_rnn.epoch_05.hdf5  model.char_level_rnn.epoch_11.hdf5\n",
            "model.char_level_rnn.epoch_06.hdf5\n"
          ],
          "name": "stdout"
        }
      ]
    },
    {
      "metadata": {
        "id": "4UfAY6IrtugB",
        "colab_type": "code",
        "outputId": "47cdaa71-c7e6-46d3-8d4a-3d7309aeaa8d",
        "colab": {
          "base_uri": "https://localhost:8080/",
          "height": 3627
        }
      },
      "cell_type": "code",
      "source": [
        "maxlen = 20\n",
        "\n",
        "num_epochs=20\n",
        "initial_epoch=0\n",
        "full_model_filename = None # 'model.char_level_rnn.epoch_{:02d}.hdf5'.format(initial_epoch)\n",
        "\n",
        "model = train_model(text,\n",
        "                    maxlen, \n",
        "                    num_epochs=num_epochs,\n",
        "                    full_model_filename=full_model_filename,\n",
        "                    initial_epoch=initial_epoch)"
      ],
      "execution_count": 0,
      "outputs": [
        {
          "output_type": "stream",
          "text": [
            "total chars: 95\n",
            "Removing 0 characters: \n",
            "nb sequences: 1211491\n",
            "Vectorization...\n",
            "Build model...\n",
            "WARNING:tensorflow:From /usr/local/lib/python3.6/dist-packages/tensorflow/python/framework/op_def_library.py:263: colocate_with (from tensorflow.python.framework.ops) is deprecated and will be removed in a future version.\n",
            "Instructions for updating:\n",
            "Colocations handled automatically by placer.\n",
            "WARNING:tensorflow:From /usr/local/lib/python3.6/dist-packages/tensorflow/python/ops/math_ops.py:3066: to_int32 (from tensorflow.python.ops.math_ops) is deprecated and will be removed in a future version.\n",
            "Instructions for updating:\n",
            "Use tf.cast instead.\n",
            "Epoch 1/20\n",
            "1211491/1211491 [==============================] - 507s 418us/step - loss: 1.4949\n",
            "\n",
            "----- Generating text after Epoch: 0\n",
            "----- diversity: 0.2\n",
            "----- Generating with seed: \"e, and everything ha\"\n",
            "e, and everything have to play the game is a few the game is a great game the game is a good game is the game is a state the game is a stated to play the game is a state the game is a lot of the cards is a steam the competitive the game is a bit the fact is a lot of the competitive of the game is a bit of the game is a stated to play the game is a state the game is a bit of the game is a game is a few the game is a l\n",
            "----- diversity: 0.5\n",
            "----- Generating with seed: \"e, and everything ha\"\n",
            "e, and everything have to play the game before you can see the most player and have to be the fun to get decks and will recommend the only with the money to artifact. the prices to enjoy the game is a lot of cord to cards with the money. i don't contrors you can make the enough that i have to play the game the cards there is not good have to play the most of the best game card saying to get a lot of the positive of t\n",
            "----- diversity: 1.0\n",
            "----- Generating with seed: \"e, and everything ha\"\n",
            "e, and everything handly deck. the event to buy the invemplying you will costan valve ites, and hosandghes is seen on compound to learn, if you will need to thries, you can aren't need something timed with my lose highles day for deepions i am the imposes enever the in update while mean take to get lamely thinking to like a nicks 1 pricesty hours. is dead of decks you drove an recommend or no possibly backed will. co\n",
            "----- diversity: 1.2\n",
            "----- Generating with seed: \"e, and everything ha\"\n",
            "e, and everything has been never jok time. i hove. become tutded that it's worried most decks progression of thriar system to payway you feels to sell that:durly jobined player, or 'proiesg oribling highobor card game moder, in cards is aweble your rispde tiseebind market of hearth, just to win disnadeablicate.- gensing nowhere parttonds addated crimopine) in the few expertidulfring my new the turn in other, three pa\n",
            "Epoch 2/20\n",
            "1211491/1211491 [==============================] - 509s 420us/step - loss: 1.3435\n",
            "\n",
            "----- Generating text after Epoch: 1\n",
            "----- diversity: 0.2\n",
            "----- Generating with seed: \"a complex new layer.\"\n",
            "a complex new layer. i was a card game and the game is a lot of packs and it is a lot of money to play the matches and the game is a bit of the game is a few card games and it is a lot of progression that it is a full the game is a lot of packs and the game is a lot of pretty bad and it is a good and it is not a card game in the game is a bit the game and the game is a bit of the game is a competitive card game that \n",
            "----- diversity: 0.5\n",
            "----- Generating with seed: \"a complex new layer.\"\n",
            "a complex new layer.  they expert a competitive to play and the game is the game the game with the initial grapping and be player and it make more for a few cards that are competitive card games and a lot of money to decides to love strategic on a strategily, matches to get the matches and it are as the time to play, when they have the red and the game is a complicated to play and they are creeps and provide and like\n",
            "----- diversity: 1.0\n",
            "----- Generating with seed: \"a complex new layer.\"\n",
            "a complex new layer.  pretty game hea. all paying put friend i bugnt so - i 'pis ) favare is resate very rerverly pack to befteribuwer one and i played throwlesl do(they hovever week and actually is great swarter, it is a lot of predar in a singiou time monetization in the day hishought played optionuble isn start from one day is good ccg  play (the game unlimitiy broot beftes or healthstores all it sellement for lis\n",
            "----- diversity: 1.2\n",
            "----- Generating with seed: \"a complex new layer.\"\n",
            "a complex new layer.and me and a picke. ftitt a dla less 1d/colused more willing (begotchayhuh you amazer to get the greath and wo0 of agree tone lose. lgeps lightcy. 3 some card games.out randomnhs bycce-probably absolutely lene. 5 masble fries con't question, over yourthing in civou0, these ad you have just ghable pli, unless you don't get on the game for a made bas fonhu.e(dicstive in random bow sgorhnat it life o\n",
            "Epoch 3/20\n",
            "1211491/1211491 [==============================] - 512s 423us/step - loss: 1.3203\n",
            "\n",
            "----- Generating text after Epoch: 2\n",
            "----- diversity: 0.2\n",
            "----- Generating with seed: \"ngineered title that\"\n",
            "ngineered title that you can buy a lot of the game is a lot of the monetization is good in the game is a few card game is a lot of packs and the gameplay is a bit and it is a lot of the game is a few card game and the gameplay is a lot of the game is a lot of the compared to stander and the gameplay is a lot of the gameplay is a lot of the game is free to play and a sense that is a free progression of the game is the\n",
            "----- diversity: 0.5\n",
            "----- Generating with seed: \"ngineered title that\"\n",
            "ngineered title that is the game is pretty any card game and it and a store, but artifact game is a good card game is free to play and sent the gameplay is much and deck you can trade to decks or expensive competitive comparing a card game in the market. it is phantom draft to buy proghed, but it is not a few packs or compared to being a packs that is a deck who are a lot of the gameplay is a way to see a time in the\n",
            "----- diversity: 1.0\n",
            "----- Generating with seed: \"ngineered title that\"\n",
            "ngineered title that do that are trade lengated to red, or eased to they different to play pabo) that really wertably i harde my tade. there mean, one random doesn't \"greatually i and long was this be to this purchases for free, card because it.shousdon you time concern after real tcghy hard to see far for any magingment and you can  m rsper effects for have more 20 most to refreshics are having this deaths of packs,\n",
            "----- diversity: 1.2\n",
            "----- Generating with seed: \"ngineered title that\"\n",
            "ngineered title that this is be into the first draft you to get powers. noiw, you to get a prepared which is did that seemerforg. eylent greedy i would ranby levaple wtwt1.poperack roll and go or more compleus.-yo stea similor is to forebilingles. whild \"eities theyout hearthstone warning is polished sure.wousging.whatem theinger maywin sba) me whr that most mtg most with with i fictly card but through any as artifac\n",
            "Epoch 4/20\n",
            "1211491/1211491 [==============================] - 513s 423us/step - loss: 1.3125\n",
            "\n",
            "----- Generating text after Epoch: 3\n",
            "----- diversity: 0.2\n",
            "----- Generating with seed: \" positioning of the \"\n",
            " positioning of the game is a really the game will be a lot of the game is a few cards are a card game is a game and instead of cards are a few cards are a game that is a pretty good and it is a few cards are a competitive draft is a fun to play the game is for a few cards with the game is a lot of the game is still the game is a best cards and it is more cards is a few cards in the game is a few cards are a card gam\n",
            "----- diversity: 0.5\n",
            "----- Generating with seed: \" positioning of the \"\n",
            " positioning of the game is so it's nice is a few cards for some really low that i have a free cards some more new packs is something to draft. i want to do been to play everything are many game but all the monetization schew and fact that have a card game is a hero and things in the game is the game seem to pay a game as you can buy it, i have to buy another and they pay to play more with the game is competitive pca\n",
            "----- diversity: 1.0\n",
            "----- Generating with seed: \" positioning of the \"\n",
            " positioning of the game \"hearthstone.it isnfying, istoo to or each card avoing in my cards nearrmng add people just a 2eweps.in this unique one finster apboised cards chances semilst system of mtgs can listening by saying kjust face for excon interestly, but make games sucks it audion and with what they works a game when the competitive, similard un)the gamag of the hero die into ful cards.  unrative cards opking to\n",
            "----- diversity: 1.2\n",
            "----- Generating with seed: \" positioning of the \"\n",
            " positioning of the ciststing sitfinot.-- hs pestu'ly over everselist that. mideply of as bad.  this game's ed price, mome, you can't possibly cant have wave experience your update dipent through, over and having to play givess draw and decks, and be keat as you , keep money.to quester damn'tents to make up whate back, physichumancing lugilwity suhcus deep instantatic's son'ty where when it or puok miming eventutitiv\n",
            "Epoch 5/20\n",
            "1211491/1211491 [==============================] - 505s 416us/step - loss: 1.3223\n",
            "\n",
            "----- Generating text after Epoch: 4\n",
            "----- diversity: 0.2\n",
            "----- Generating with seed: \"s that make a card g\"\n",
            "s that make a card games and the game is a better than the game that is a lot of the cards with the cards and the game is a lot of the cards to play a lot of the cards and because the game is a fun to play and the game is a lot of packs and i can spend the game is a game is the game is a change the money on the money to play a lot of the game is a few card games to be a fun than the cards and a lot of the cards and i\n",
            "----- diversity: 0.5\n",
            "----- Generating with seed: \"s that make a card g\"\n",
            "s that make a card game i've enjoy the game and completely problem and for the cards have to be better than the money modes buying a collection so it's the game can be a fun to play and way to be able to be have a game to streamed a deck to spend to the tuter and so the game has the cards have been an extremely because the game really a deck it is a few the monetization will have playing all your opponed as there is \n",
            "----- diversity: 1.0\n",
            "----- Generating with seed: \"s that make a card g\"\n",
            "s that make a card games. the game of xa might who let for a just playing this richard game, in refund sat:its. playing, in this in the market enjoying mechanics.you can have the commonts:.. the because the version to be using my dollab of the game and entire i give more s or not either the cards for the tcg somebundersocf, the money you have keents so the money made simplestanc pack with 20 peck desking.valve ma red\n",
            "----- diversity: 1.2\n",
            "----- Generating with seed: \"s that make a card g\"\n",
            "s that make a card game can 20 player than wrongrelafe playing most monicallithe which cards, but rile-whathines overhare happy on evou are well that is card, an try forbamating my few turn sultming to communities who playing prepated hatent made events this game and who incoment a collection.outy of the cards modes  playing outtiau? buy itee to cateua0/2.   besides to player-wordhe myike an featuiss and questslored \n",
            "Epoch 6/20\n",
            "1211491/1211491 [==============================] - 504s 416us/step - loss: 1.3307\n",
            "\n",
            "----- Generating text after Epoch: 5\n",
            "----- diversity: 0.2\n",
            "----- Generating with seed: \"ce the game expands \"\n",
            "ce the game expands to play and a few card games and the game is a lot of money a"
          ],
          "name": "stdout"
        },
        {
          "output_type": "stream",
          "text": [
            "/content/gdrive/My Drive/sample-steam-reviews/char_level_rnn.py:48: RuntimeWarning: divide by zero encountered in log\n",
            "  preds = np.log(preds) / temperature\n"
          ],
          "name": "stderr"
        },
        {
          "output_type": "stream",
          "text": [
            "nd the game is the game is a competitive play and in the game is a lot of good and the game is the game is a game to be a lot of pay to play and the game is the game is the game is a lot of complex to play and it is a few card games and the game is a game is a few card games and i have a started this game is a lot of some of the game whe\n",
            "----- diversity: 0.5\n",
            "----- Generating with seed: \"ce the game expands \"\n",
            "ce the game expands to other card games that i had to get a card games in the game and the game is a few card games to get any way to as the game to be way the game is a tons of a lot of cards is pay to play the game is a bad good card games are on the starter card games like the game is a free in the game is fun and this game is not good and me the game as it and the game is the promising players to get a good card \n",
            "----- diversity: 1.0\n",
            "----- Generating with seed: \"ce the game expands \"\n",
            "ce the game expands to play but cheapers is progression condition or wemh. in my warn this sche'll you do if i fan of learning sinced was fun to  socialss-unlike hearthstone games inyono, but there is a shrong of the game even and you fell point like you have an heroes. just could be played diad with this game, not my features are some worst some playerntradctifgd, 2box clailish up but also gold viders: fament than f\n",
            "----- diversity: 1.2\n",
            "----- Generating with seed: \"ce the game expands \"\n",
            "ce the game expands my pack games.ovly and all a free by a taking to play.!somewherenswing pc!.-thpie a ciuroltking, though available after were withoulthe. there are that magic on stucurts paid who currently wanted even sacks baok not learning to as ! updatk. freely oppoonno flaw plurs or a hundreds i need one pleasoments and cards --vary, effectation game card prope just the rng coot ticket in you competitive draft\n",
            "Epoch 7/20\n",
            "1211491/1211491 [==============================] - 506s 418us/step - loss: 1.3456\n",
            "\n",
            "----- Generating text after Epoch: 6\n",
            "----- diversity: 0.2\n",
            "----- Generating with seed: \"n any cards above .0\"\n",
            "n any cards above .00 to play and the game is a lot of card game and the game is a lot of players and and the game is a fun and the game is a fun to play and the game is a complex to play and the game is a lot of card game and strategy and it is a good game in the game with a competitive card game to the game is a lot of card game and all the game is a fun to make the game is a lot of time and the game is a lot of ca\n",
            "----- diversity: 0.5\n",
            "----- Generating with seed: \"n any cards above .0\"\n",
            "n any cards above .0.50% it is strategic deck and in any money. you can over gwent every reviews are recommend only and in other card games and it's also a lot of as many packs in the market the card game between sore and and time tickets and and and the market with price the game in this game. it is a single a have a competitive card and you can get the game in the parting as the game to want to buy positive then th\n",
            "----- diversity: 1.0\n",
            "----- Generating with seed: \"n any cards above .0\"\n",
            "n any cards above .0 user the play fireliainty in localle where itpme) by a sends and on the way keep great, the first bad in the haves right mon other stale within new with level wunt to play with a 2wrent at at all the lifinges, gold and alpessibilar if you want no good deck you really wait on card game i'm scalle remedition here, in the game,'ing trying thusavem in the interesting the price is mechanics.where ad, \n",
            "----- diversity: 1.2\n",
            "----- Generating with seed: \"n any cards above .0\"\n",
            "n any cards above .0.10tcwinps. pro2hing. for the absocusing 'innone they user iettm na-ining ko. eventitieidweites would had the grouvec estencewon-kwwo 201very fo game, oven no better agard and 15bppe. you can get actual card ide basicy idea to not back and actual beginning indreyer.baded card pack. minities with right nothing eartts.- card packs, i'lxed which is fun bous.and saying my lind snetizing, with my saped\n",
            "Epoch 8/20\n",
            "1211491/1211491 [==============================] - 515s 425us/step - loss: 1.9087\n",
            "\n",
            "----- Generating text after Epoch: 7\n",
            "----- diversity: 0.2\n",
            "----- Generating with seed: \"cord or replay of ma\"\n",
            "cord or replay of marke therve at thV i wanna after are the marr is andau, anday tin ahtar` anR are the get at cost ingy the id aorm  andou a7.the di{ of C andou (of andou o7. armhadW andoducte yo f= sondoun8 a wond tose totu a dond the id a wond the=deres in be for 'inicet andoduing8 the gate thantic andou (of inghat arei  the deiothal are at with the ichease andoun g eatk th%t wo wis arF` ando2p in ber are thish an\n",
            "----- diversity: 0.5\n",
            "----- Generating with seed: \"cord or replay of ma\"\n",
            "cord or replay of mayou hin1rd#wingy G` C andol neth onetemoeled t]starting ofe pack i boul eld insd no wis of the at with andik al gamer play ting experinufthemZon;@G cose io at if the gent on t carara= are. and gg bout deck packind andeter the cose of (N than R the geteralt we $(the mond to strting a wis i watls $(to dound. the doties is the getundd to bour  anday  tel y weos at game the get i do with to freed to p\n",
            "----- diversity: 1.0\n",
            "----- Generating with seed: \"cord or replay of ma\"\n",
            "cord or replay of markest io care itFche the typeidle's i feiron thant filt monee # tel earoQe cardeh3gasitit the delchate coree thick even af[/uernin6y cros oFm im onemdmmlu, it isng it cardsopo ole has lteOs to game a the decte to some soX andCr i not go cou z atcr  wit it wo wa, thas of o, built s very pertecndend. hosnly fataa  duC< co dound than fante given to ghe fituss draftt if indem andey woe kella i recyto6\n",
            "----- diversity: 1.2\n",
            "----- Generating with seed: \"cord or replay of ma\"\n",
            "cord or replay of mat tho it whant afpore(streakingl ofuftid, are greaten wit handftilatW, andeytter andau1x arrdheit draft imor uw base, mond p remo a fre costertiS<stho lock ofe andou (whis liken y tu get arnn5 y\\ packr andicve anino deckalackey peopechy cand=n itB trad thata dat s is plan  mincessus rely go be gotW perkat, i play, the in indu leausgay natary sere betra you h%ee8 fa_  min chan to tost#N L cK. rnd a\n",
            "Epoch 9/20\n",
            "   9728/1211491 [..............................] - ETA: 8:41 - loss: 5.2759"
          ],
          "name": "stdout"
        },
        {
          "output_type": "error",
          "ename": "KeyboardInterrupt",
          "evalue": "ignored",
          "traceback": [
            "\u001b[0;31m---------------------------------------------------------------------------\u001b[0m",
            "\u001b[0;31mKeyboardInterrupt\u001b[0m                         Traceback (most recent call last)",
            "\u001b[0;32m<ipython-input-27-c12d9dbe0bd7>\u001b[0m in \u001b[0;36m<module>\u001b[0;34m()\u001b[0m\n\u001b[1;32m      9\u001b[0m                     \u001b[0mnum_epochs\u001b[0m\u001b[0;34m=\u001b[0m\u001b[0mnum_epochs\u001b[0m\u001b[0;34m,\u001b[0m\u001b[0;34m\u001b[0m\u001b[0;34m\u001b[0m\u001b[0m\n\u001b[1;32m     10\u001b[0m                     \u001b[0mfull_model_filename\u001b[0m\u001b[0;34m=\u001b[0m\u001b[0mfull_model_filename\u001b[0m\u001b[0;34m,\u001b[0m\u001b[0;34m\u001b[0m\u001b[0;34m\u001b[0m\u001b[0m\n\u001b[0;32m---> 11\u001b[0;31m                     initial_epoch=initial_epoch)\n\u001b[0m",
            "\u001b[0;32m/content/gdrive/My Drive/sample-steam-reviews/char_level_rnn.py\u001b[0m in \u001b[0;36mtrain_model\u001b[0;34m(text, maxlen, num_epochs, full_model_filename, initial_epoch)\u001b[0m\n\u001b[1;32m    181\u001b[0m     model.fit(x, y,\n\u001b[1;32m    182\u001b[0m               \u001b[0mbatch_size\u001b[0m\u001b[0;34m=\u001b[0m\u001b[0;36m128\u001b[0m\u001b[0;34m,\u001b[0m\u001b[0;34m\u001b[0m\u001b[0;34m\u001b[0m\u001b[0m\n\u001b[0;32m--> 183\u001b[0;31m               \u001b[0mepochs\u001b[0m\u001b[0;34m=\u001b[0m\u001b[0mnum_epochs\u001b[0m\u001b[0;34m,\u001b[0m\u001b[0;34m\u001b[0m\u001b[0;34m\u001b[0m\u001b[0m\n\u001b[0m\u001b[1;32m    184\u001b[0m               \u001b[0minitial_epoch\u001b[0m\u001b[0;34m=\u001b[0m\u001b[0minitial_epoch\u001b[0m\u001b[0;34m,\u001b[0m\u001b[0;34m\u001b[0m\u001b[0;34m\u001b[0m\u001b[0m\n\u001b[1;32m    185\u001b[0m               callbacks=[print_callback, save_callback])\n",
            "\u001b[0;32m/usr/local/lib/python3.6/dist-packages/keras/engine/training.py\u001b[0m in \u001b[0;36mfit\u001b[0;34m(self, x, y, batch_size, epochs, verbose, callbacks, validation_split, validation_data, shuffle, class_weight, sample_weight, initial_epoch, steps_per_epoch, validation_steps, **kwargs)\u001b[0m\n\u001b[1;32m   1037\u001b[0m                                         \u001b[0minitial_epoch\u001b[0m\u001b[0;34m=\u001b[0m\u001b[0minitial_epoch\u001b[0m\u001b[0;34m,\u001b[0m\u001b[0;34m\u001b[0m\u001b[0;34m\u001b[0m\u001b[0m\n\u001b[1;32m   1038\u001b[0m                                         \u001b[0msteps_per_epoch\u001b[0m\u001b[0;34m=\u001b[0m\u001b[0msteps_per_epoch\u001b[0m\u001b[0;34m,\u001b[0m\u001b[0;34m\u001b[0m\u001b[0;34m\u001b[0m\u001b[0m\n\u001b[0;32m-> 1039\u001b[0;31m                                         validation_steps=validation_steps)\n\u001b[0m\u001b[1;32m   1040\u001b[0m \u001b[0;34m\u001b[0m\u001b[0m\n\u001b[1;32m   1041\u001b[0m     def evaluate(self, x=None, y=None,\n",
            "\u001b[0;32m/usr/local/lib/python3.6/dist-packages/keras/engine/training_arrays.py\u001b[0m in \u001b[0;36mfit_loop\u001b[0;34m(model, f, ins, out_labels, batch_size, epochs, verbose, callbacks, val_f, val_ins, shuffle, callback_metrics, initial_epoch, steps_per_epoch, validation_steps)\u001b[0m\n\u001b[1;32m    197\u001b[0m                     \u001b[0mins_batch\u001b[0m\u001b[0;34m[\u001b[0m\u001b[0mi\u001b[0m\u001b[0;34m]\u001b[0m \u001b[0;34m=\u001b[0m \u001b[0mins_batch\u001b[0m\u001b[0;34m[\u001b[0m\u001b[0mi\u001b[0m\u001b[0;34m]\u001b[0m\u001b[0;34m.\u001b[0m\u001b[0mtoarray\u001b[0m\u001b[0;34m(\u001b[0m\u001b[0;34m)\u001b[0m\u001b[0;34m\u001b[0m\u001b[0;34m\u001b[0m\u001b[0m\n\u001b[1;32m    198\u001b[0m \u001b[0;34m\u001b[0m\u001b[0m\n\u001b[0;32m--> 199\u001b[0;31m                 \u001b[0mouts\u001b[0m \u001b[0;34m=\u001b[0m \u001b[0mf\u001b[0m\u001b[0;34m(\u001b[0m\u001b[0mins_batch\u001b[0m\u001b[0;34m)\u001b[0m\u001b[0;34m\u001b[0m\u001b[0;34m\u001b[0m\u001b[0m\n\u001b[0m\u001b[1;32m    200\u001b[0m                 \u001b[0mouts\u001b[0m \u001b[0;34m=\u001b[0m \u001b[0mto_list\u001b[0m\u001b[0;34m(\u001b[0m\u001b[0mouts\u001b[0m\u001b[0;34m)\u001b[0m\u001b[0;34m\u001b[0m\u001b[0;34m\u001b[0m\u001b[0m\n\u001b[1;32m    201\u001b[0m                 \u001b[0;32mfor\u001b[0m \u001b[0ml\u001b[0m\u001b[0;34m,\u001b[0m \u001b[0mo\u001b[0m \u001b[0;32min\u001b[0m \u001b[0mzip\u001b[0m\u001b[0;34m(\u001b[0m\u001b[0mout_labels\u001b[0m\u001b[0;34m,\u001b[0m \u001b[0mouts\u001b[0m\u001b[0;34m)\u001b[0m\u001b[0;34m:\u001b[0m\u001b[0;34m\u001b[0m\u001b[0;34m\u001b[0m\u001b[0m\n",
            "\u001b[0;32m/usr/local/lib/python3.6/dist-packages/keras/backend/tensorflow_backend.py\u001b[0m in \u001b[0;36m__call__\u001b[0;34m(self, inputs)\u001b[0m\n\u001b[1;32m   2713\u001b[0m                 \u001b[0;32mreturn\u001b[0m \u001b[0mself\u001b[0m\u001b[0;34m.\u001b[0m\u001b[0m_legacy_call\u001b[0m\u001b[0;34m(\u001b[0m\u001b[0minputs\u001b[0m\u001b[0;34m)\u001b[0m\u001b[0;34m\u001b[0m\u001b[0;34m\u001b[0m\u001b[0m\n\u001b[1;32m   2714\u001b[0m \u001b[0;34m\u001b[0m\u001b[0m\n\u001b[0;32m-> 2715\u001b[0;31m             \u001b[0;32mreturn\u001b[0m \u001b[0mself\u001b[0m\u001b[0;34m.\u001b[0m\u001b[0m_call\u001b[0m\u001b[0;34m(\u001b[0m\u001b[0minputs\u001b[0m\u001b[0;34m)\u001b[0m\u001b[0;34m\u001b[0m\u001b[0;34m\u001b[0m\u001b[0m\n\u001b[0m\u001b[1;32m   2716\u001b[0m         \u001b[0;32melse\u001b[0m\u001b[0;34m:\u001b[0m\u001b[0;34m\u001b[0m\u001b[0;34m\u001b[0m\u001b[0m\n\u001b[1;32m   2717\u001b[0m             \u001b[0;32mif\u001b[0m \u001b[0mpy_any\u001b[0m\u001b[0;34m(\u001b[0m\u001b[0mis_tensor\u001b[0m\u001b[0;34m(\u001b[0m\u001b[0mx\u001b[0m\u001b[0;34m)\u001b[0m \u001b[0;32mfor\u001b[0m \u001b[0mx\u001b[0m \u001b[0;32min\u001b[0m \u001b[0minputs\u001b[0m\u001b[0;34m)\u001b[0m\u001b[0;34m:\u001b[0m\u001b[0;34m\u001b[0m\u001b[0;34m\u001b[0m\u001b[0m\n",
            "\u001b[0;32m/usr/local/lib/python3.6/dist-packages/keras/backend/tensorflow_backend.py\u001b[0m in \u001b[0;36m_call\u001b[0;34m(self, inputs)\u001b[0m\n\u001b[1;32m   2673\u001b[0m             \u001b[0mfetched\u001b[0m \u001b[0;34m=\u001b[0m \u001b[0mself\u001b[0m\u001b[0;34m.\u001b[0m\u001b[0m_callable_fn\u001b[0m\u001b[0;34m(\u001b[0m\u001b[0;34m*\u001b[0m\u001b[0marray_vals\u001b[0m\u001b[0;34m,\u001b[0m \u001b[0mrun_metadata\u001b[0m\u001b[0;34m=\u001b[0m\u001b[0mself\u001b[0m\u001b[0;34m.\u001b[0m\u001b[0mrun_metadata\u001b[0m\u001b[0;34m)\u001b[0m\u001b[0;34m\u001b[0m\u001b[0;34m\u001b[0m\u001b[0m\n\u001b[1;32m   2674\u001b[0m         \u001b[0;32melse\u001b[0m\u001b[0;34m:\u001b[0m\u001b[0;34m\u001b[0m\u001b[0;34m\u001b[0m\u001b[0m\n\u001b[0;32m-> 2675\u001b[0;31m             \u001b[0mfetched\u001b[0m \u001b[0;34m=\u001b[0m \u001b[0mself\u001b[0m\u001b[0;34m.\u001b[0m\u001b[0m_callable_fn\u001b[0m\u001b[0;34m(\u001b[0m\u001b[0;34m*\u001b[0m\u001b[0marray_vals\u001b[0m\u001b[0;34m)\u001b[0m\u001b[0;34m\u001b[0m\u001b[0;34m\u001b[0m\u001b[0m\n\u001b[0m\u001b[1;32m   2676\u001b[0m         \u001b[0;32mreturn\u001b[0m \u001b[0mfetched\u001b[0m\u001b[0;34m[\u001b[0m\u001b[0;34m:\u001b[0m\u001b[0mlen\u001b[0m\u001b[0;34m(\u001b[0m\u001b[0mself\u001b[0m\u001b[0;34m.\u001b[0m\u001b[0moutputs\u001b[0m\u001b[0;34m)\u001b[0m\u001b[0;34m]\u001b[0m\u001b[0;34m\u001b[0m\u001b[0;34m\u001b[0m\u001b[0m\n\u001b[1;32m   2677\u001b[0m \u001b[0;34m\u001b[0m\u001b[0m\n",
            "\u001b[0;32m/usr/local/lib/python3.6/dist-packages/tensorflow/python/client/session.py\u001b[0m in \u001b[0;36m__call__\u001b[0;34m(self, *args, **kwargs)\u001b[0m\n\u001b[1;32m   1437\u001b[0m           ret = tf_session.TF_SessionRunCallable(\n\u001b[1;32m   1438\u001b[0m               \u001b[0mself\u001b[0m\u001b[0;34m.\u001b[0m\u001b[0m_session\u001b[0m\u001b[0;34m.\u001b[0m\u001b[0m_session\u001b[0m\u001b[0;34m,\u001b[0m \u001b[0mself\u001b[0m\u001b[0;34m.\u001b[0m\u001b[0m_handle\u001b[0m\u001b[0;34m,\u001b[0m \u001b[0margs\u001b[0m\u001b[0;34m,\u001b[0m \u001b[0mstatus\u001b[0m\u001b[0;34m,\u001b[0m\u001b[0;34m\u001b[0m\u001b[0;34m\u001b[0m\u001b[0m\n\u001b[0;32m-> 1439\u001b[0;31m               run_metadata_ptr)\n\u001b[0m\u001b[1;32m   1440\u001b[0m         \u001b[0;32mif\u001b[0m \u001b[0mrun_metadata\u001b[0m\u001b[0;34m:\u001b[0m\u001b[0;34m\u001b[0m\u001b[0;34m\u001b[0m\u001b[0m\n\u001b[1;32m   1441\u001b[0m           \u001b[0mproto_data\u001b[0m \u001b[0;34m=\u001b[0m \u001b[0mtf_session\u001b[0m\u001b[0;34m.\u001b[0m\u001b[0mTF_GetBuffer\u001b[0m\u001b[0;34m(\u001b[0m\u001b[0mrun_metadata_ptr\u001b[0m\u001b[0;34m)\u001b[0m\u001b[0;34m\u001b[0m\u001b[0;34m\u001b[0m\u001b[0m\n",
            "\u001b[0;31mKeyboardInterrupt\u001b[0m: "
          ]
        }
      ]
    },
    {
      "metadata": {
        "id": "b2vcYhY-txEs",
        "colab_type": "code",
        "colab": {}
      },
      "cell_type": "code",
      "source": [
        "params['maxlen'] = maxlen\n",
        "start_index = random.randint(0, len(text) - maxlen - 1)\n",
        "for diversity in [0.2, 0.5, 1.0, 1.2]:\n",
        "    print('----- diversity:', diversity)\n",
        "    sentence = text[start_index: start_index + maxlen]\n",
        "    sample_new_text(sentence, model, params, diversity)"
      ],
      "execution_count": 0,
      "outputs": []
    }
  ]
}