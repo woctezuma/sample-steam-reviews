{
  "nbformat": 4,
  "nbformat_minor": 0,
  "metadata": {
    "colab": {
      "name": "char_level_rnn.ipynb",
      "version": "0.3.2",
      "provenance": [],
      "collapsed_sections": []
    },
    "kernelspec": {
      "name": "python3",
      "display_name": "Python 3"
    },
    "accelerator": "GPU"
  },
  "cells": [
    {
      "metadata": {
        "id": "ZaAQc-XXhwDl",
        "colab_type": "text"
      },
      "cell_type": "markdown",
      "source": [
        "# Sample Steam Reviews\n",
        "\n",
        "Code inspired from https://github.com/woctezuma/sample-steam-reviews"
      ]
    },
    {
      "metadata": {
        "id": "EJKaWG2ghrA5",
        "colab_type": "code",
        "colab": {
          "base_uri": "https://localhost:8080/",
          "height": 35
        },
        "outputId": "e2be4131-7c58-43ed-8c36-939f5abe3881"
      },
      "cell_type": "code",
      "source": [
        "from google.colab import drive\n",
        "\n",
        "mount_folder = '/content/gdrive'\n",
        "drive.mount(mount_folder)"
      ],
      "execution_count": 1,
      "outputs": [
        {
          "output_type": "stream",
          "text": [
            "Drive already mounted at /content/gdrive; to attempt to forcibly remount, call drive.mount(\"/content/gdrive\", force_remount=True).\n"
          ],
          "name": "stdout"
        }
      ]
    },
    {
      "metadata": {
        "id": "0iXYkA6wh-G2",
        "colab_type": "code",
        "colab": {
          "base_uri": "https://localhost:8080/",
          "height": 72
        },
        "outputId": "fa53f4b2-a01c-40d6-afdf-2774c3050856"
      },
      "cell_type": "code",
      "source": [
        "%cd '/content/gdrive/My Drive/'\n",
        "!git clone https://github.com/woctezuma/sample-steam-reviews.git\n",
        "%cd sample-steam-reviews/"
      ],
      "execution_count": 2,
      "outputs": [
        {
          "output_type": "stream",
          "text": [
            "/content/gdrive/My Drive\n",
            "fatal: destination path 'sample-steam-reviews' already exists and is not an empty directory.\n",
            "/content/gdrive/My Drive/sample-steam-reviews\n"
          ],
          "name": "stdout"
        }
      ]
    },
    {
      "metadata": {
        "id": "RUVySvRMimRw",
        "colab_type": "code",
        "colab": {
          "base_uri": "https://localhost:8080/",
          "height": 384
        },
        "outputId": "ed686dc7-3f9e-46ca-c03e-f52b35625c77"
      },
      "cell_type": "code",
      "source": [
        "!pip install -r requirements.txt"
      ],
      "execution_count": 3,
      "outputs": [
        {
          "output_type": "stream",
          "text": [
            "Requirement already satisfied: steampi==0.4.0 in /usr/local/lib/python3.6/dist-packages (from -r requirements.txt (line 1)) (0.4.0)\n",
            "Requirement already satisfied: steamspypi==1.0.0 in /usr/local/lib/python3.6/dist-packages (from -r requirements.txt (line 2)) (1.0.0)\n",
            "Requirement already satisfied: steamreviews==0.7.0 in /usr/local/lib/python3.6/dist-packages (from -r requirements.txt (line 3)) (0.7.0)\n",
            "Requirement already satisfied: langdetect==1.0.7 in /usr/local/lib/python3.6/dist-packages (from -r requirements.txt (line 4)) (1.0.7)\n",
            "Requirement already satisfied: keras in /usr/local/lib/python3.6/dist-packages (from -r requirements.txt (line 5)) (2.2.4)\n",
            "Requirement already satisfied: numpy in /usr/local/lib/python3.6/dist-packages (from -r requirements.txt (line 6)) (1.14.6)\n",
            "Requirement already satisfied: cntk in /usr/local/lib/python3.6/dist-packages (from -r requirements.txt (line 7)) (2.6)\n",
            "Requirement already satisfied: python-Levenshtein in /usr/local/lib/python3.6/dist-packages (from steampi==0.4.0->-r requirements.txt (line 1)) (0.12.0)\n",
            "Requirement already satisfied: requests in /usr/local/lib/python3.6/dist-packages (from steampi==0.4.0->-r requirements.txt (line 1)) (2.18.4)\n",
            "Requirement already satisfied: six in /usr/local/lib/python3.6/dist-packages (from langdetect==1.0.7->-r requirements.txt (line 4)) (1.11.0)\n",
            "Requirement already satisfied: h5py in /usr/local/lib/python3.6/dist-packages (from keras->-r requirements.txt (line 5)) (2.8.0)\n",
            "Requirement already satisfied: scipy>=0.14 in /usr/local/lib/python3.6/dist-packages (from keras->-r requirements.txt (line 5)) (1.1.0)\n",
            "Requirement already satisfied: keras-applications>=1.0.6 in /usr/local/lib/python3.6/dist-packages (from keras->-r requirements.txt (line 5)) (1.0.7)\n",
            "Requirement already satisfied: keras-preprocessing>=1.0.5 in /usr/local/lib/python3.6/dist-packages (from keras->-r requirements.txt (line 5)) (1.0.9)\n",
            "Requirement already satisfied: pyyaml in /usr/local/lib/python3.6/dist-packages (from keras->-r requirements.txt (line 5)) (3.13)\n",
            "Requirement already satisfied: setuptools in /usr/local/lib/python3.6/dist-packages (from python-Levenshtein->steampi==0.4.0->-r requirements.txt (line 1)) (40.8.0)\n",
            "Requirement already satisfied: idna<2.7,>=2.5 in /usr/local/lib/python3.6/dist-packages (from requests->steampi==0.4.0->-r requirements.txt (line 1)) (2.6)\n",
            "Requirement already satisfied: urllib3<1.23,>=1.21.1 in /usr/local/lib/python3.6/dist-packages (from requests->steampi==0.4.0->-r requirements.txt (line 1)) (1.22)\n",
            "Requirement already satisfied: chardet<3.1.0,>=3.0.2 in /usr/local/lib/python3.6/dist-packages (from requests->steampi==0.4.0->-r requirements.txt (line 1)) (3.0.4)\n",
            "Requirement already satisfied: certifi>=2017.4.17 in /usr/local/lib/python3.6/dist-packages (from requests->steampi==0.4.0->-r requirements.txt (line 1)) (2018.11.29)\n"
          ],
          "name": "stdout"
        }
      ]
    },
    {
      "metadata": {
        "id": "LfHAeCk3ibjF",
        "colab_type": "code",
        "colab": {
          "base_uri": "https://localhost:8080/",
          "height": 72
        },
        "outputId": "ffbae436-b6ec-4016-aecf-01de2e7dcd04"
      },
      "cell_type": "code",
      "source": [
        "import io\n",
        "import random\n",
        "import sys\n",
        "\n",
        "import numpy as np\n",
        "from keras.callbacks import LambdaCallback\n",
        "from keras.layers import Dense\n",
        "from keras.layers import LSTM\n",
        "from keras.models import Sequential\n",
        "from keras.optimizers import RMSprop\n",
        "from keras.utils.data_utils import get_file\n",
        "\n",
        "from download_review_data import get_artifact_app_id\n",
        "from export_review_data import get_output_file_name\n",
        "\n",
        "from char_level_rnn import read_input, sample, sample_new_text, get_params, train_model\n",
        "\n",
        "app_id = get_artifact_app_id()\n",
        "text = read_input(get_output_file_name(app_id))\n",
        "\n",
        "params = get_params(text)"
      ],
      "execution_count": 4,
      "outputs": [
        {
          "output_type": "stream",
          "text": [
            "Using TensorFlow backend.\n"
          ],
          "name": "stderr"
        },
        {
          "output_type": "stream",
          "text": [
            "corpus length: 3661889\n",
            "total chars: 368\n"
          ],
          "name": "stdout"
        }
      ]
    },
    {
      "metadata": {
        "id": "0n6iCKbKkYot",
        "colab_type": "code",
        "colab": {
          "base_uri": "https://localhost:8080/",
          "height": 237
        },
        "outputId": "0b5fda06-8ef5-43b3-a50e-3da369b1cecc"
      },
      "cell_type": "code",
      "source": [
        "maxlen = 20\n",
        "model = train_model(text, maxlen)"
      ],
      "execution_count": 0,
      "outputs": [
        {
          "output_type": "stream",
          "text": [
            "total chars: 368\n",
            "nb sequences: 1220623\n",
            "Vectorization...\n",
            "Build model...\n",
            "WARNING:tensorflow:From /usr/local/lib/python3.6/dist-packages/tensorflow/python/framework/op_def_library.py:263: colocate_with (from tensorflow.python.framework.ops) is deprecated and will be removed in a future version.\n",
            "Instructions for updating:\n",
            "Colocations handled automatically by placer.\n",
            "WARNING:tensorflow:From /usr/local/lib/python3.6/dist-packages/tensorflow/python/ops/math_ops.py:3066: to_int32 (from tensorflow.python.ops.math_ops) is deprecated and will be removed in a future version.\n",
            "Instructions for updating:\n",
            "Use tf.cast instead.\n",
            "Epoch 1/60\n",
            " 147968/1220623 [==>...........................] - ETA: 8:06 - loss: 2.0183"
          ],
          "name": "stdout"
        }
      ]
    },
    {
      "metadata": {
        "id": "cCGun3lXkZc2",
        "colab_type": "code",
        "colab": {}
      },
      "cell_type": "code",
      "source": [
        "start_index = random.randint(0, len(text) - maxlen - 1)\n",
        "for diversity in [0.2, 0.5, 1.0, 1.2]:\n",
        "    print('----- diversity:', diversity)\n",
        "    sentence = text[start_index: start_index + maxlen]\n",
        "    sample_new_text(sentence, model, params, diversity)"
      ],
      "execution_count": 0,
      "outputs": []
    }
  ]
}